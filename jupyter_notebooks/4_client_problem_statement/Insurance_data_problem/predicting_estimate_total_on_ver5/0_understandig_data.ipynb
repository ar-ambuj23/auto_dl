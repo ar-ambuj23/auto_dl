{
 "cells": [
  {
   "cell_type": "code",
   "execution_count": 1,
   "metadata": {},
   "outputs": [],
   "source": [
    "import pandas as pd"
   ]
  },
  {
   "cell_type": "code",
   "execution_count": 2,
   "metadata": {},
   "outputs": [],
   "source": [
    "import numpy as np"
   ]
  },
  {
   "cell_type": "code",
   "execution_count": 3,
   "metadata": {},
   "outputs": [],
   "source": [
    "pd.set_option('display.max_columns', 500)"
   ]
  },
  {
   "cell_type": "code",
   "execution_count": 4,
   "metadata": {},
   "outputs": [
    {
     "name": "stderr",
     "output_type": "stream",
     "text": [
      "/home/algoscale/Documents/Izenda/izenda_new_env/new_env/lib/python3.5/site-packages/IPython/core/interactiveshell.py:3020: DtypeWarning: Columns (2,4,8) have mixed types. Specify dtype option on import or set low_memory=False.\n",
      "  interactivity=interactivity, compiler=compiler, result=result)\n"
     ]
    }
   ],
   "source": [
    "df = pd.read_csv('datasets/Izends_Data_Thru201712_ver5.csv')"
   ]
  },
  {
   "cell_type": "code",
   "execution_count": 5,
   "metadata": {},
   "outputs": [
    {
     "data": {
      "text/plain": [
       "Index(['DisplayName', 'DivisionName', 'LossAddressZip', 'City', 'Zip', 'State',\n",
       "       'LossYearMo', 'StartedFlag', 'LossType', 'CommOrRes', 'NoteCount',\n",
       "       'PhotoCount', 'JobCount', 'ClaimCount', 'EstimateTotal',\n",
       "       'PolicyHolderType', 'LossDescription', 'LossSourceDisplayName',\n",
       "       'Estimate_NetClaim', 'Estimate_MaterialSaleTax', 'Estimate_OverHead',\n",
       "       'Estimate_Profit', 'Estimate_PctOverhead', 'Estimate_PctProfit',\n",
       "       'Estimate_Deductible', 'Estimate_BaseSvcCharge',\n",
       "       'CleanAddressFranchisorID', 'CleanAddressContactID'],\n",
       "      dtype='object')"
      ]
     },
     "execution_count": 5,
     "metadata": {},
     "output_type": "execute_result"
    }
   ],
   "source": [
    "df.columns"
   ]
  },
  {
   "cell_type": "code",
   "execution_count": 6,
   "metadata": {},
   "outputs": [
    {
     "data": {
      "text/html": [
       "<div>\n",
       "<style scoped>\n",
       "    .dataframe tbody tr th:only-of-type {\n",
       "        vertical-align: middle;\n",
       "    }\n",
       "\n",
       "    .dataframe tbody tr th {\n",
       "        vertical-align: top;\n",
       "    }\n",
       "\n",
       "    .dataframe thead th {\n",
       "        text-align: right;\n",
       "    }\n",
       "</style>\n",
       "<table border=\"1\" class=\"dataframe\">\n",
       "  <thead>\n",
       "    <tr style=\"text-align: right;\">\n",
       "      <th></th>\n",
       "      <th>LossYearMo</th>\n",
       "      <th>StartedFlag</th>\n",
       "      <th>NoteCount</th>\n",
       "      <th>PhotoCount</th>\n",
       "      <th>JobCount</th>\n",
       "      <th>ClaimCount</th>\n",
       "      <th>EstimateTotal</th>\n",
       "      <th>Estimate_NetClaim</th>\n",
       "      <th>Estimate_MaterialSaleTax</th>\n",
       "      <th>Estimate_OverHead</th>\n",
       "      <th>Estimate_Profit</th>\n",
       "      <th>Estimate_PctOverhead</th>\n",
       "      <th>Estimate_PctProfit</th>\n",
       "      <th>Estimate_Deductible</th>\n",
       "      <th>Estimate_BaseSvcCharge</th>\n",
       "      <th>CleanAddressFranchisorID</th>\n",
       "      <th>CleanAddressContactID</th>\n",
       "    </tr>\n",
       "  </thead>\n",
       "  <tbody>\n",
       "    <tr>\n",
       "      <th>count</th>\n",
       "      <td>1.911494e+06</td>\n",
       "      <td>1.911494e+06</td>\n",
       "      <td>1.902462e+06</td>\n",
       "      <td>1.911494e+06</td>\n",
       "      <td>1.911494e+06</td>\n",
       "      <td>1.911494e+06</td>\n",
       "      <td>1.911494e+06</td>\n",
       "      <td>1.911494e+06</td>\n",
       "      <td>1.911494e+06</td>\n",
       "      <td>1.911494e+06</td>\n",
       "      <td>1.911494e+06</td>\n",
       "      <td>1.911494e+06</td>\n",
       "      <td>1.911494e+06</td>\n",
       "      <td>1.911494e+06</td>\n",
       "      <td>1.911494e+06</td>\n",
       "      <td>1.911494e+06</td>\n",
       "      <td>1.911494e+06</td>\n",
       "    </tr>\n",
       "    <tr>\n",
       "      <th>mean</th>\n",
       "      <td>2.015411e+05</td>\n",
       "      <td>4.895563e-01</td>\n",
       "      <td>1.497643e+01</td>\n",
       "      <td>2.239407e+01</td>\n",
       "      <td>1.007739e+00</td>\n",
       "      <td>9.986607e-01</td>\n",
       "      <td>3.212947e+03</td>\n",
       "      <td>4.859089e+03</td>\n",
       "      <td>2.726075e+01</td>\n",
       "      <td>2.016045e+02</td>\n",
       "      <td>1.795316e+02</td>\n",
       "      <td>2.948659e+00</td>\n",
       "      <td>2.445818e+00</td>\n",
       "      <td>5.845937e+01</td>\n",
       "      <td>4.562895e+00</td>\n",
       "      <td>6.818724e+00</td>\n",
       "      <td>7.061761e+05</td>\n",
       "    </tr>\n",
       "    <tr>\n",
       "      <th>std</th>\n",
       "      <td>1.861962e+02</td>\n",
       "      <td>4.998910e-01</td>\n",
       "      <td>1.805020e+01</td>\n",
       "      <td>6.406873e+01</td>\n",
       "      <td>1.320687e-01</td>\n",
       "      <td>4.988393e-02</td>\n",
       "      <td>6.433034e+03</td>\n",
       "      <td>4.236696e+05</td>\n",
       "      <td>2.290258e+02</td>\n",
       "      <td>1.128169e+03</td>\n",
       "      <td>1.022769e+03</td>\n",
       "      <td>9.584254e+00</td>\n",
       "      <td>7.209392e+00</td>\n",
       "      <td>6.317935e+02</td>\n",
       "      <td>8.829028e+01</td>\n",
       "      <td>4.577944e+00</td>\n",
       "      <td>5.727330e+05</td>\n",
       "    </tr>\n",
       "    <tr>\n",
       "      <th>min</th>\n",
       "      <td>2.001010e+05</td>\n",
       "      <td>0.000000e+00</td>\n",
       "      <td>1.000000e+00</td>\n",
       "      <td>0.000000e+00</td>\n",
       "      <td>1.000000e+00</td>\n",
       "      <td>0.000000e+00</td>\n",
       "      <td>-1.376659e+06</td>\n",
       "      <td>-4.899942e+08</td>\n",
       "      <td>-7.330000e+02</td>\n",
       "      <td>-3.616000e+03</td>\n",
       "      <td>-1.856000e+03</td>\n",
       "      <td>-2.820000e+02</td>\n",
       "      <td>-2.820000e+02</td>\n",
       "      <td>0.000000e+00</td>\n",
       "      <td>0.000000e+00</td>\n",
       "      <td>1.000000e+00</td>\n",
       "      <td>1.000000e+00</td>\n",
       "    </tr>\n",
       "    <tr>\n",
       "      <th>25%</th>\n",
       "      <td>2.014110e+05</td>\n",
       "      <td>0.000000e+00</td>\n",
       "      <td>4.000000e+00</td>\n",
       "      <td>0.000000e+00</td>\n",
       "      <td>1.000000e+00</td>\n",
       "      <td>1.000000e+00</td>\n",
       "      <td>0.000000e+00</td>\n",
       "      <td>0.000000e+00</td>\n",
       "      <td>0.000000e+00</td>\n",
       "      <td>0.000000e+00</td>\n",
       "      <td>0.000000e+00</td>\n",
       "      <td>0.000000e+00</td>\n",
       "      <td>0.000000e+00</td>\n",
       "      <td>0.000000e+00</td>\n",
       "      <td>0.000000e+00</td>\n",
       "      <td>5.000000e+00</td>\n",
       "      <td>2.828372e+05</td>\n",
       "    </tr>\n",
       "    <tr>\n",
       "      <th>50%</th>\n",
       "      <td>2.016060e+05</td>\n",
       "      <td>0.000000e+00</td>\n",
       "      <td>9.000000e+00</td>\n",
       "      <td>3.000000e+00</td>\n",
       "      <td>1.000000e+00</td>\n",
       "      <td>1.000000e+00</td>\n",
       "      <td>5.278200e+02</td>\n",
       "      <td>6.220000e+02</td>\n",
       "      <td>0.000000e+00</td>\n",
       "      <td>0.000000e+00</td>\n",
       "      <td>0.000000e+00</td>\n",
       "      <td>0.000000e+00</td>\n",
       "      <td>0.000000e+00</td>\n",
       "      <td>0.000000e+00</td>\n",
       "      <td>0.000000e+00</td>\n",
       "      <td>6.000000e+00</td>\n",
       "      <td>5.747750e+05</td>\n",
       "    </tr>\n",
       "    <tr>\n",
       "      <th>75%</th>\n",
       "      <td>2.017040e+05</td>\n",
       "      <td>1.000000e+00</td>\n",
       "      <td>1.900000e+01</td>\n",
       "      <td>2.300000e+01</td>\n",
       "      <td>1.000000e+00</td>\n",
       "      <td>1.000000e+00</td>\n",
       "      <td>3.454827e+03</td>\n",
       "      <td>4.375000e+03</td>\n",
       "      <td>0.000000e+00</td>\n",
       "      <td>0.000000e+00</td>\n",
       "      <td>0.000000e+00</td>\n",
       "      <td>0.000000e+00</td>\n",
       "      <td>0.000000e+00</td>\n",
       "      <td>0.000000e+00</td>\n",
       "      <td>0.000000e+00</td>\n",
       "      <td>6.000000e+00</td>\n",
       "      <td>8.469320e+05</td>\n",
       "    </tr>\n",
       "    <tr>\n",
       "      <th>max</th>\n",
       "      <td>2.017120e+05</td>\n",
       "      <td>1.000000e+00</td>\n",
       "      <td>3.008000e+03</td>\n",
       "      <td>7.222000e+03</td>\n",
       "      <td>5.500000e+01</td>\n",
       "      <td>7.000000e+00</td>\n",
       "      <td>3.258746e+05</td>\n",
       "      <td>1.004000e+07</td>\n",
       "      <td>9.971200e+04</td>\n",
       "      <td>3.290950e+05</td>\n",
       "      <td>3.135090e+05</td>\n",
       "      <td>3.162000e+03</td>\n",
       "      <td>1.425000e+03</td>\n",
       "      <td>1.257000e+05</td>\n",
       "      <td>1.271200e+04</td>\n",
       "      <td>1.700000e+01</td>\n",
       "      <td>2.942128e+06</td>\n",
       "    </tr>\n",
       "  </tbody>\n",
       "</table>\n",
       "</div>"
      ],
      "text/plain": [
       "         LossYearMo   StartedFlag     NoteCount    PhotoCount      JobCount  \\\n",
       "count  1.911494e+06  1.911494e+06  1.902462e+06  1.911494e+06  1.911494e+06   \n",
       "mean   2.015411e+05  4.895563e-01  1.497643e+01  2.239407e+01  1.007739e+00   \n",
       "std    1.861962e+02  4.998910e-01  1.805020e+01  6.406873e+01  1.320687e-01   \n",
       "min    2.001010e+05  0.000000e+00  1.000000e+00  0.000000e+00  1.000000e+00   \n",
       "25%    2.014110e+05  0.000000e+00  4.000000e+00  0.000000e+00  1.000000e+00   \n",
       "50%    2.016060e+05  0.000000e+00  9.000000e+00  3.000000e+00  1.000000e+00   \n",
       "75%    2.017040e+05  1.000000e+00  1.900000e+01  2.300000e+01  1.000000e+00   \n",
       "max    2.017120e+05  1.000000e+00  3.008000e+03  7.222000e+03  5.500000e+01   \n",
       "\n",
       "         ClaimCount  EstimateTotal  Estimate_NetClaim  \\\n",
       "count  1.911494e+06   1.911494e+06       1.911494e+06   \n",
       "mean   9.986607e-01   3.212947e+03       4.859089e+03   \n",
       "std    4.988393e-02   6.433034e+03       4.236696e+05   \n",
       "min    0.000000e+00  -1.376659e+06      -4.899942e+08   \n",
       "25%    1.000000e+00   0.000000e+00       0.000000e+00   \n",
       "50%    1.000000e+00   5.278200e+02       6.220000e+02   \n",
       "75%    1.000000e+00   3.454827e+03       4.375000e+03   \n",
       "max    7.000000e+00   3.258746e+05       1.004000e+07   \n",
       "\n",
       "       Estimate_MaterialSaleTax  Estimate_OverHead  Estimate_Profit  \\\n",
       "count              1.911494e+06       1.911494e+06     1.911494e+06   \n",
       "mean               2.726075e+01       2.016045e+02     1.795316e+02   \n",
       "std                2.290258e+02       1.128169e+03     1.022769e+03   \n",
       "min               -7.330000e+02      -3.616000e+03    -1.856000e+03   \n",
       "25%                0.000000e+00       0.000000e+00     0.000000e+00   \n",
       "50%                0.000000e+00       0.000000e+00     0.000000e+00   \n",
       "75%                0.000000e+00       0.000000e+00     0.000000e+00   \n",
       "max                9.971200e+04       3.290950e+05     3.135090e+05   \n",
       "\n",
       "       Estimate_PctOverhead  Estimate_PctProfit  Estimate_Deductible  \\\n",
       "count          1.911494e+06        1.911494e+06         1.911494e+06   \n",
       "mean           2.948659e+00        2.445818e+00         5.845937e+01   \n",
       "std            9.584254e+00        7.209392e+00         6.317935e+02   \n",
       "min           -2.820000e+02       -2.820000e+02         0.000000e+00   \n",
       "25%            0.000000e+00        0.000000e+00         0.000000e+00   \n",
       "50%            0.000000e+00        0.000000e+00         0.000000e+00   \n",
       "75%            0.000000e+00        0.000000e+00         0.000000e+00   \n",
       "max            3.162000e+03        1.425000e+03         1.257000e+05   \n",
       "\n",
       "       Estimate_BaseSvcCharge  CleanAddressFranchisorID  CleanAddressContactID  \n",
       "count            1.911494e+06              1.911494e+06           1.911494e+06  \n",
       "mean             4.562895e+00              6.818724e+00           7.061761e+05  \n",
       "std              8.829028e+01              4.577944e+00           5.727330e+05  \n",
       "min              0.000000e+00              1.000000e+00           1.000000e+00  \n",
       "25%              0.000000e+00              5.000000e+00           2.828372e+05  \n",
       "50%              0.000000e+00              6.000000e+00           5.747750e+05  \n",
       "75%              0.000000e+00              6.000000e+00           8.469320e+05  \n",
       "max              1.271200e+04              1.700000e+01           2.942128e+06  "
      ]
     },
     "execution_count": 6,
     "metadata": {},
     "output_type": "execute_result"
    }
   ],
   "source": [
    "df.describe()"
   ]
  },
  {
   "cell_type": "markdown",
   "metadata": {},
   "source": [
    "# Planning for all columns"
   ]
  },
  {
   "cell_type": "code",
   "execution_count": 7,
   "metadata": {},
   "outputs": [],
   "source": [
    "# DisplayName and DivisionName\n",
    "# DisplayName is a static field from the app, and DivisionName is user-defined.\n",
    "\n",
    "# Not to be used\n",
    "\n",
    "# Update:\n",
    "# No cleaning required in Display Name\n",
    "# "
   ]
  },
  {
   "cell_type": "code",
   "execution_count": 8,
   "metadata": {},
   "outputs": [],
   "source": [
    "# LossAddressZip', 'City', 'Zip', 'State'\n",
    "\n",
    "# No effect\n",
    "# Not to be used"
   ]
  },
  {
   "cell_type": "code",
   "execution_count": 9,
   "metadata": {},
   "outputs": [],
   "source": [
    "# LossYearMo - Has effect but not significant. \n",
    "# So, not to be used in first hypothesis."
   ]
  },
  {
   "cell_type": "code",
   "execution_count": 10,
   "metadata": {},
   "outputs": [],
   "source": [
    "# StartedFlag - if a claim estimate total is accepted or not.\n",
    "# Is decided after the claim has been estimated. So, don't use."
   ]
  },
  {
   "cell_type": "code",
   "execution_count": 11,
   "metadata": {},
   "outputs": [],
   "source": [
    "# LossType - Has maximum nans. So, don't use"
   ]
  },
  {
   "cell_type": "code",
   "execution_count": 12,
   "metadata": {},
   "outputs": [],
   "source": [
    "# CommOrRes - Important Column : “CommOrRes” is actually LossCategory.\n",
    "# Categorise into three: Comm, Res, other.."
   ]
  },
  {
   "cell_type": "code",
   "execution_count": 13,
   "metadata": {},
   "outputs": [],
   "source": [
    "# 'NoteCount','PhotoCount', 'JobCount', 'ClaimCount': Normalise these counts to treat outliers. \n",
    "# Use MinMax Scalers\n",
    "# To be used in first try.\n",
    "# Try removing them in second try, if results in first attempt are not good.\n",
    "\n",
    "## New Update: Don't use scaling for the counts. As, tree based models have no affect on scaling."
   ]
  },
  {
   "cell_type": "code",
   "execution_count": 14,
   "metadata": {},
   "outputs": [],
   "source": [
    "# LossSourceDisplayName - Kind of heading for LossDescription\n",
    "# LossDescription - Most important column. Use LossSourceDisplayName when Nan. Drop rows with nans after that."
   ]
  },
  {
   "cell_type": "code",
   "execution_count": 27,
   "metadata": {},
   "outputs": [
    {
     "data": {
      "text/plain": [
       "Individual    1650309\n",
       "Company        261090\n",
       "Name: PolicyHolderType, dtype: int64"
      ]
     },
     "execution_count": 27,
     "metadata": {},
     "output_type": "execute_result"
    }
   ],
   "source": [
    "# PolicyHolderType - To be used as it is, without pre-processing\n",
    "\n",
    "df['PolicyHolderType'].value_counts()"
   ]
  },
  {
   "cell_type": "code",
   "execution_count": 29,
   "metadata": {},
   "outputs": [],
   "source": [
    "# EstimateTotal - Drop negative value rows.\n",
    "# Train only on non-zero rows."
   ]
  },
  {
   "cell_type": "code",
   "execution_count": 30,
   "metadata": {},
   "outputs": [],
   "source": [
    "# 'Estimate_NetClaim', 'Estimate_MaterialSaleTax', 'Estimate_OverHead',\n",
    "#        'Estimate_Profit', 'Estimate_PctOverhead', 'Estimate_PctProfit',\n",
    "#        'Estimate_Deductible', 'Estimate_BaseSvcCharge',\n",
    "\n",
    "# Unsure about these columns"
   ]
  },
  {
   "cell_type": "code",
   "execution_count": 35,
   "metadata": {},
   "outputs": [],
   "source": [
    "# 'CleanAddressFranchisorID', 'CleanAddressContactID': \n",
    "# Addresses can be uniquely identified by the combination of CleanAddressFranchisorID and CleanAddressContactID.\n",
    "\n",
    "# Not to be used"
   ]
  },
  {
   "cell_type": "code",
   "execution_count": null,
   "metadata": {},
   "outputs": [],
   "source": []
  },
  {
   "cell_type": "markdown",
   "metadata": {},
   "source": [
    "# Hypothesis 1"
   ]
  },
  {
   "cell_type": "markdown",
   "metadata": {},
   "source": [
    "Features:\n",
    "\n",
    "Use CommorRess(after pre-processing) \n",
    "\n",
    "Use all the four counts(after pre-processing) - refer to Deeksha's code(Min Max Scaler)\n",
    "\n",
    "Use LossDescription - (Use LossSourceDisplayName where Nan. After this step if still Nans, drop those rows.)\n",
    "\n",
    "Use PolicyHolderType\n"
   ]
  },
  {
   "cell_type": "markdown",
   "metadata": {},
   "source": [
    "Y: Estimate Total\n",
    "\n",
    "Drop negative value rows.\n",
    "\n",
    "Train only on non-zero rows."
   ]
  },
  {
   "cell_type": "markdown",
   "metadata": {},
   "source": [
    "# Hypothesis 2"
   ]
  },
  {
   "cell_type": "markdown",
   "metadata": {},
   "source": [
    "Hypothesis 1 excpet that don't use the 4 counts "
   ]
  },
  {
   "cell_type": "markdown",
   "metadata": {},
   "source": [
    "# Hypothesis 3"
   ]
  },
  {
   "cell_type": "markdown",
   "metadata": {},
   "source": [
    "Use only Loss Description as feature"
   ]
  }
 ],
 "metadata": {
  "kernelspec": {
   "display_name": "Python 3",
   "language": "python",
   "name": "python3"
  },
  "language_info": {
   "codemirror_mode": {
    "name": "ipython",
    "version": 3
   },
   "file_extension": ".py",
   "mimetype": "text/x-python",
   "name": "python",
   "nbconvert_exporter": "python",
   "pygments_lexer": "ipython3",
   "version": "3.5.6"
  }
 },
 "nbformat": 4,
 "nbformat_minor": 2
}

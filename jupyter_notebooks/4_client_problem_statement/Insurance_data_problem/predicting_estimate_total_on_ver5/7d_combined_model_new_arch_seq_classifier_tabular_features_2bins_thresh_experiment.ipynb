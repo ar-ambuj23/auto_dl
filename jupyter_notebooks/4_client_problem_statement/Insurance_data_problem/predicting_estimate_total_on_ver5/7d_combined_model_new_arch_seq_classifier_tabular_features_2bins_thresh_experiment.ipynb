{
 "cells": [
  {
   "cell_type": "code",
   "execution_count": 1,
   "metadata": {},
   "outputs": [],
   "source": [
    "import pandas as pd\n",
    "import numpy as np\n",
    "# fix random seed for reproducibility\n",
    "np.random.seed(7)"
   ]
  },
  {
   "cell_type": "code",
   "execution_count": 2,
   "metadata": {},
   "outputs": [
    {
     "name": "stderr",
     "output_type": "stream",
     "text": [
      "/home/ambuj/izenda_fullcycle/environment/env/lib/python3.5/site-packages/IPython/core/interactiveshell.py:3020: DtypeWarning: Columns (4) have mixed types. Specify dtype option on import or set low_memory=False.\n",
      "  interactivity=interactivity, compiler=compiler, result=result)\n"
     ]
    }
   ],
   "source": [
    "cleaned = pd.read_csv('datasets/cleaned_Izends_Data_Thru201712_ver5.csv',index_col=0)"
   ]
  },
  {
   "cell_type": "code",
   "execution_count": 3,
   "metadata": {},
   "outputs": [],
   "source": [
    "cleaned_loss_des = pd.read_csv('hashed_cleaned_loss_desc_from_5_ipynb.csv',index_col=0)\n",
    "# changing dtype of hashed_loss_desc_padded column\n",
    "cleaned_loss_des['hashed_loss_desc_padded'] = cleaned_loss_des['hashed_loss_desc_padded'].apply(lambda x: np.fromstring(x[1:-1],dtype='int32',sep=' '))"
   ]
  },
  {
   "cell_type": "markdown",
   "metadata": {},
   "source": [
    "# Changing bins from 10 to 5"
   ]
  },
  {
   "cell_type": "code",
   "execution_count": 4,
   "metadata": {},
   "outputs": [],
   "source": [
    "cleaned_loss_des['EstimateTotal_bins'] = pd.qcut(cleaned['EstimateTotal'],2,labels = [\"a\", \"b\"])"
   ]
  },
  {
   "cell_type": "code",
   "execution_count": 5,
   "metadata": {},
   "outputs": [],
   "source": [
    "cleaned_combined = pd.merge(cleaned,cleaned_loss_des[['EstimateTotal_bins','hashed_loss_desc_padded']],left_index=True,right_index=True)"
   ]
  },
  {
   "cell_type": "code",
   "execution_count": 6,
   "metadata": {},
   "outputs": [
    {
     "data": {
      "text/plain": [
       "(766408, 28)"
      ]
     },
     "execution_count": 6,
     "metadata": {},
     "output_type": "execute_result"
    }
   ],
   "source": [
    "cleaned_combined.shape"
   ]
  },
  {
   "cell_type": "code",
   "execution_count": 7,
   "metadata": {},
   "outputs": [
    {
     "data": {
      "text/plain": [
       "Index(['DisplayName', 'DivisionName', 'City', 'Zip', 'State', 'LossYearMo',\n",
       "       'StartedFlag', 'CommOrRes', 'NoteCount', 'PhotoCount', 'JobCount',\n",
       "       'ClaimCount', 'EstimateTotal', 'PolicyHolderType', 'LossDescription',\n",
       "       'Estimate_NetClaim', 'Estimate_MaterialSaleTax', 'Estimate_OverHead',\n",
       "       'Estimate_Profit', 'Estimate_PctOverhead', 'Estimate_PctProfit',\n",
       "       'Estimate_Deductible', 'Estimate_BaseSvcCharge',\n",
       "       'CleanAddressFranchisorID', 'CleanAddressContactID', 'LossMo',\n",
       "       'EstimateTotal_bins', 'hashed_loss_desc_padded'],\n",
       "      dtype='object')"
      ]
     },
     "execution_count": 7,
     "metadata": {},
     "output_type": "execute_result"
    }
   ],
   "source": [
    "cleaned_combined.columns"
   ]
  },
  {
   "cell_type": "markdown",
   "metadata": {},
   "source": [
    "# Defining X and Y"
   ]
  },
  {
   "cell_type": "code",
   "execution_count": 8,
   "metadata": {},
   "outputs": [],
   "source": [
    "X1 = cleaned_combined[['DisplayName', 'DivisionName','LossMo','CommOrRes','PolicyHolderType','NoteCount','PhotoCount','JobCount','ClaimCount','LossYearMo']]\n",
    "X2 = cleaned_combined['hashed_loss_desc_padded']\n",
    "y = cleaned_combined['EstimateTotal_bins']"
   ]
  },
  {
   "cell_type": "markdown",
   "metadata": {},
   "source": [
    "# Getting Dummies"
   ]
  },
  {
   "cell_type": "code",
   "execution_count": 9,
   "metadata": {},
   "outputs": [],
   "source": [
    "X1_dummies = pd.get_dummies(X1,sparse=True)"
   ]
  },
  {
   "cell_type": "code",
   "execution_count": 10,
   "metadata": {},
   "outputs": [],
   "source": [
    "all_data = pd.merge(X1_dummies,pd.DataFrame(X2),left_index=True,right_index=True)\n",
    "all_data['EstimateTotal_bins'] = y"
   ]
  },
  {
   "cell_type": "markdown",
   "metadata": {},
   "source": [
    "# Splitting data"
   ]
  },
  {
   "cell_type": "code",
   "execution_count": 11,
   "metadata": {},
   "outputs": [],
   "source": [
    "test2017=all_data[all_data[\"LossYearMo\"].apply(lambda all_data:all_data>=201701)]\n",
    "learning=all_data[all_data[\"LossYearMo\"].apply(lambda all_data:all_data<201701)]"
   ]
  },
  {
   "cell_type": "code",
   "execution_count": 12,
   "metadata": {},
   "outputs": [],
   "source": [
    "learning_x = learning[learning.columns.difference(['LossYearMo','EstimateTotal_bins'])]\n",
    "learning_y = learning['EstimateTotal_bins']\n",
    "learning_y_dummies = pd.get_dummies(learning_y,sparse=True)"
   ]
  },
  {
   "cell_type": "code",
   "execution_count": 13,
   "metadata": {},
   "outputs": [],
   "source": [
    "test2017_x1 = test2017[test2017.columns.difference(['LossYearMo','EstimateTotal_bins','hashed_loss_desc_padded'])]\n",
    "test2017_x2 = test2017['hashed_loss_desc_padded']\n",
    "test2017_y = test2017['EstimateTotal_bins']\n",
    "test2017_y_dummies = pd.get_dummies(test2017_y,sparse=True)"
   ]
  },
  {
   "cell_type": "code",
   "execution_count": 14,
   "metadata": {},
   "outputs": [],
   "source": [
    "from sklearn.model_selection import train_test_split\n",
    "X_train, X_val, y_train, y_val = train_test_split(learning_x, learning_y_dummies, test_size=0.33, random_state=42)"
   ]
  },
  {
   "cell_type": "code",
   "execution_count": 15,
   "metadata": {},
   "outputs": [],
   "source": [
    "X1_train = X_train[X_train.columns.difference(['hashed_loss_desc_padded'])]\n",
    "X2_train = X_train['hashed_loss_desc_padded']"
   ]
  },
  {
   "cell_type": "code",
   "execution_count": 16,
   "metadata": {},
   "outputs": [],
   "source": [
    "X1_val = X_val[X_val.columns.difference(['hashed_loss_desc_padded'])]\n",
    "X2_val = X_val['hashed_loss_desc_padded']"
   ]
  },
  {
   "cell_type": "markdown",
   "metadata": {},
   "source": [
    "# Building Custom Keras Combined Model using Functional API"
   ]
  },
  {
   "cell_type": "code",
   "execution_count": 18,
   "metadata": {},
   "outputs": [
    {
     "name": "stderr",
     "output_type": "stream",
     "text": [
      "Using TensorFlow backend.\n"
     ]
    }
   ],
   "source": [
    "from keras.utils import plot_model\n",
    "from keras.models import Model\n",
    "from keras.layers import Input\n",
    "from keras.layers import LSTM\n",
    "from keras.layers.embeddings import Embedding\n",
    "from keras.layers import Dense, Dropout, Flatten, Activation\n",
    "from keras.callbacks import TensorBoard, EarlyStopping, ModelCheckpoint, History \n",
    "from keras.layers.merge import concatenate"
   ]
  },
  {
   "cell_type": "code",
   "execution_count": 19,
   "metadata": {},
   "outputs": [],
   "source": [
    "# first input\n",
    "input1 = Input(shape=(X1_train.shape[1],),name='input1')"
   ]
  },
  {
   "cell_type": "code",
   "execution_count": 20,
   "metadata": {},
   "outputs": [],
   "source": [
    "# second input\n",
    "input2 = Input(shape=(14,),name='input2')\n",
    "embedding = Embedding(11024,100,input_length=14)(input2)\n",
    "lstm = LSTM(15)(embedding)"
   ]
  },
  {
   "cell_type": "code",
   "execution_count": 21,
   "metadata": {},
   "outputs": [],
   "source": [
    "# merge layers\n",
    "merge = concatenate([input1,lstm])"
   ]
  },
  {
   "cell_type": "code",
   "execution_count": 22,
   "metadata": {},
   "outputs": [],
   "source": [
    "hidden1 = Dense(512, activation='relu')(merge)\n",
    "dropout1 = Dropout(0.25)(hidden1)\n",
    "hidden2 = Dense(512, activation='relu')(dropout1)\n",
    "dropout2 = Dropout(0.25)(hidden2)"
   ]
  },
  {
   "cell_type": "code",
   "execution_count": 23,
   "metadata": {},
   "outputs": [],
   "source": [
    "# output layer\n",
    "output = Dense(y_train.shape[1], activation='softmax',name='output')(dropout2)"
   ]
  },
  {
   "cell_type": "code",
   "execution_count": 24,
   "metadata": {},
   "outputs": [],
   "source": [
    "# Model\n",
    "model = Model(inputs=[input1,input2], outputs=output)"
   ]
  },
  {
   "cell_type": "code",
   "execution_count": 25,
   "metadata": {},
   "outputs": [
    {
     "name": "stdout",
     "output_type": "stream",
     "text": [
      "__________________________________________________________________________________________________\n",
      "Layer (type)                    Output Shape         Param #     Connected to                     \n",
      "==================================================================================================\n",
      "input2 (InputLayer)             (None, 14)           0                                            \n",
      "__________________________________________________________________________________________________\n",
      "embedding_1 (Embedding)         (None, 14, 100)      1102400     input2[0][0]                     \n",
      "__________________________________________________________________________________________________\n",
      "input1 (InputLayer)             (None, 1064)         0                                            \n",
      "__________________________________________________________________________________________________\n",
      "lstm_1 (LSTM)                   (None, 15)           6960        embedding_1[0][0]                \n",
      "__________________________________________________________________________________________________\n",
      "concatenate_1 (Concatenate)     (None, 1079)         0           input1[0][0]                     \n",
      "                                                                 lstm_1[0][0]                     \n",
      "__________________________________________________________________________________________________\n",
      "dense_1 (Dense)                 (None, 512)          552960      concatenate_1[0][0]              \n",
      "__________________________________________________________________________________________________\n",
      "dropout_1 (Dropout)             (None, 512)          0           dense_1[0][0]                    \n",
      "__________________________________________________________________________________________________\n",
      "dense_2 (Dense)                 (None, 512)          262656      dropout_1[0][0]                  \n",
      "__________________________________________________________________________________________________\n",
      "dropout_2 (Dropout)             (None, 512)          0           dense_2[0][0]                    \n",
      "__________________________________________________________________________________________________\n",
      "output (Dense)                  (None, 2)            1026        dropout_2[0][0]                  \n",
      "==================================================================================================\n",
      "Total params: 1,926,002\n",
      "Trainable params: 1,926,002\n",
      "Non-trainable params: 0\n",
      "__________________________________________________________________________________________________\n"
     ]
    }
   ],
   "source": [
    "model.summary()"
   ]
  },
  {
   "cell_type": "code",
   "execution_count": 26,
   "metadata": {},
   "outputs": [],
   "source": [
    "model.compile(loss='categorical_crossentropy', optimizer='adam', metrics=['accuracy'])"
   ]
  },
  {
   "cell_type": "code",
   "execution_count": 27,
   "metadata": {},
   "outputs": [],
   "source": [
    "early_stop = EarlyStopping(monitor='val_loss', patience=5,restore_best_weights=True)"
   ]
  },
  {
   "cell_type": "code",
   "execution_count": 28,
   "metadata": {
    "scrolled": true
   },
   "outputs": [
    {
     "name": "stdout",
     "output_type": "stream",
     "text": [
      "Train on 335176 samples, validate on 165087 samples\n",
      "Epoch 1/500\n",
      "335176/335176 [==============================] - 83s 246us/step - loss: 0.5702 - acc: 0.7027 - val_loss: 0.5438 - val_acc: 0.7222\n",
      "Epoch 2/500\n",
      "335176/335176 [==============================] - 81s 242us/step - loss: 0.5326 - acc: 0.7303 - val_loss: 0.5399 - val_acc: 0.7232\n",
      "Epoch 3/500\n",
      "335176/335176 [==============================] - 81s 242us/step - loss: 0.5166 - acc: 0.7422 - val_loss: 0.5364 - val_acc: 0.7259\n",
      "Epoch 4/500\n",
      "335176/335176 [==============================] - 81s 242us/step - loss: 0.5009 - acc: 0.7521 - val_loss: 0.5512 - val_acc: 0.7200\n",
      "Epoch 5/500\n",
      "335176/335176 [==============================] - 81s 242us/step - loss: 0.4869 - acc: 0.7606 - val_loss: 0.5499 - val_acc: 0.7220\n",
      "Epoch 6/500\n",
      "335176/335176 [==============================] - 81s 242us/step - loss: 0.4716 - acc: 0.7693 - val_loss: 0.5790 - val_acc: 0.7221\n",
      "Epoch 7/500\n",
      "335176/335176 [==============================] - 81s 242us/step - loss: 0.4577 - acc: 0.7763 - val_loss: 0.5882 - val_acc: 0.7204\n",
      "Epoch 8/500\n",
      "335176/335176 [==============================] - 81s 242us/step - loss: 0.4439 - acc: 0.7847 - val_loss: 0.6339 - val_acc: 0.7192\n"
     ]
    },
    {
     "data": {
      "text/plain": [
       "<keras.callbacks.History at 0x7fa76e28dfd0>"
      ]
     },
     "execution_count": 28,
     "metadata": {},
     "output_type": "execute_result"
    }
   ],
   "source": [
    "model.fit({'input1':X1_train,'input2':np.stack(X2_train, axis=0)},\n",
    "          {'output':y_train.values},\n",
    "          validation_data=({'input1':X1_val,'input2':np.stack(X2_val, axis=0)},{'output':y_val.values}),\n",
    "         callbacks=[early_stop],epochs=500, batch_size=128,verbose=1)"
   ]
  },
  {
   "cell_type": "code",
   "execution_count": null,
   "metadata": {},
   "outputs": [],
   "source": []
  },
  {
   "cell_type": "markdown",
   "metadata": {},
   "source": [
    "# Running simulations for different thresholds"
   ]
  },
  {
   "cell_type": "code",
   "execution_count": 29,
   "metadata": {},
   "outputs": [],
   "source": [
    "test2017_preds_proba = model.predict({'input1':test2017_x1,'input2':np.stack(test2017_x2, axis=0)})"
   ]
  },
  {
   "cell_type": "code",
   "execution_count": 30,
   "metadata": {},
   "outputs": [],
   "source": [
    "t = pd.DataFrame(test2017_preds_proba)"
   ]
  },
  {
   "cell_type": "code",
   "execution_count": 31,
   "metadata": {
    "scrolled": true
   },
   "outputs": [
    {
     "name": "stderr",
     "output_type": "stream",
     "text": [
      "/home/ambuj/izenda_fullcycle/environment/env/lib/python3.5/site-packages/numpy/lib/function_base.py:392: RuntimeWarning: Mean of empty slice.\n",
      "  avg = a.mean(axis)\n",
      "/home/ambuj/izenda_fullcycle/environment/env/lib/python3.5/site-packages/numpy/core/_methods.py:85: RuntimeWarning: invalid value encountered in double_scalars\n",
      "  ret = ret.dtype.type(ret / rcount)\n"
     ]
    }
   ],
   "source": [
    "result_df = pd.DataFrame(columns=['thresh','no_of_preds','total_preds','pct_of_preds','accuracy'])\n",
    "\n",
    "for thresh in [.02,0.04,0.06,0.08,0.1,0.15,0.20,0.25,0.3,0.4,0.5,0.6,0.7,0.8,0.9,1]:\n",
    "    temp_df = pd.DataFrame(columns=['thresh','no_of_preds','total_preds','pct_of_preds','accuracy'])\n",
    "    a = t[t > thresh]\n",
    "    test2017_preds = np.array(a.idxmax(axis=1))\n",
    "    mapping_dict = {0.0:'a',1.0:'b',np.nan:'k'}\n",
    "    test2017_preds_names = pd.Series(test2017_preds).map(mapping_dict)\n",
    "    pct_of_preds = len(test2017_preds_names[test2017_preds_names != 'k']) / len(test2017_preds_names) * 100\n",
    "    \n",
    "    final_df = pd.merge(pd.DataFrame(test2017_y).reset_index(drop=True),pd.DataFrame(test2017_preds_names),left_index=True,right_index=True)\n",
    "    final_df = final_df[final_df[0] != 'k']\n",
    "    \n",
    "    from sklearn.metrics import accuracy_score\n",
    "    acc = accuracy_score(final_df['EstimateTotal_bins'],final_df[0])\n",
    "    temp_df.at[0,'thresh'] = thresh\n",
    "    temp_df.at[0,'no_of_preds'] = len(test2017_preds_names[test2017_preds_names != 'k'])\n",
    "    temp_df.at[0,'total_preds'] = len(test2017_preds_names)\n",
    "    temp_df.at[0,'pct_of_preds'] = pct_of_preds\n",
    "    temp_df.at[0,'accuracy'] = acc\n",
    "    result_df = result_df.append(temp_df)"
   ]
  },
  {
   "cell_type": "code",
   "execution_count": 32,
   "metadata": {
    "scrolled": true
   },
   "outputs": [
    {
     "data": {
      "text/html": [
       "<div>\n",
       "<style scoped>\n",
       "    .dataframe tbody tr th:only-of-type {\n",
       "        vertical-align: middle;\n",
       "    }\n",
       "\n",
       "    .dataframe tbody tr th {\n",
       "        vertical-align: top;\n",
       "    }\n",
       "\n",
       "    .dataframe thead th {\n",
       "        text-align: right;\n",
       "    }\n",
       "</style>\n",
       "<table border=\"1\" class=\"dataframe\">\n",
       "  <thead>\n",
       "    <tr style=\"text-align: right;\">\n",
       "      <th></th>\n",
       "      <th>thresh</th>\n",
       "      <th>no_of_preds</th>\n",
       "      <th>total_preds</th>\n",
       "      <th>pct_of_preds</th>\n",
       "      <th>accuracy</th>\n",
       "    </tr>\n",
       "  </thead>\n",
       "  <tbody>\n",
       "    <tr>\n",
       "      <th>0</th>\n",
       "      <td>0.02</td>\n",
       "      <td>266145</td>\n",
       "      <td>266145</td>\n",
       "      <td>100</td>\n",
       "      <td>0.728531</td>\n",
       "    </tr>\n",
       "    <tr>\n",
       "      <th>0</th>\n",
       "      <td>0.04</td>\n",
       "      <td>266145</td>\n",
       "      <td>266145</td>\n",
       "      <td>100</td>\n",
       "      <td>0.728531</td>\n",
       "    </tr>\n",
       "    <tr>\n",
       "      <th>0</th>\n",
       "      <td>0.06</td>\n",
       "      <td>266145</td>\n",
       "      <td>266145</td>\n",
       "      <td>100</td>\n",
       "      <td>0.728531</td>\n",
       "    </tr>\n",
       "    <tr>\n",
       "      <th>0</th>\n",
       "      <td>0.08</td>\n",
       "      <td>266145</td>\n",
       "      <td>266145</td>\n",
       "      <td>100</td>\n",
       "      <td>0.728531</td>\n",
       "    </tr>\n",
       "    <tr>\n",
       "      <th>0</th>\n",
       "      <td>0.1</td>\n",
       "      <td>266145</td>\n",
       "      <td>266145</td>\n",
       "      <td>100</td>\n",
       "      <td>0.728531</td>\n",
       "    </tr>\n",
       "    <tr>\n",
       "      <th>0</th>\n",
       "      <td>0.15</td>\n",
       "      <td>266145</td>\n",
       "      <td>266145</td>\n",
       "      <td>100</td>\n",
       "      <td>0.728531</td>\n",
       "    </tr>\n",
       "    <tr>\n",
       "      <th>0</th>\n",
       "      <td>0.2</td>\n",
       "      <td>266145</td>\n",
       "      <td>266145</td>\n",
       "      <td>100</td>\n",
       "      <td>0.728531</td>\n",
       "    </tr>\n",
       "    <tr>\n",
       "      <th>0</th>\n",
       "      <td>0.25</td>\n",
       "      <td>266145</td>\n",
       "      <td>266145</td>\n",
       "      <td>100</td>\n",
       "      <td>0.728531</td>\n",
       "    </tr>\n",
       "    <tr>\n",
       "      <th>0</th>\n",
       "      <td>0.3</td>\n",
       "      <td>266145</td>\n",
       "      <td>266145</td>\n",
       "      <td>100</td>\n",
       "      <td>0.728531</td>\n",
       "    </tr>\n",
       "    <tr>\n",
       "      <th>0</th>\n",
       "      <td>0.4</td>\n",
       "      <td>266145</td>\n",
       "      <td>266145</td>\n",
       "      <td>100</td>\n",
       "      <td>0.728531</td>\n",
       "    </tr>\n",
       "    <tr>\n",
       "      <th>0</th>\n",
       "      <td>0.5</td>\n",
       "      <td>266145</td>\n",
       "      <td>266145</td>\n",
       "      <td>100</td>\n",
       "      <td>0.728531</td>\n",
       "    </tr>\n",
       "    <tr>\n",
       "      <th>0</th>\n",
       "      <td>0.6</td>\n",
       "      <td>210385</td>\n",
       "      <td>266145</td>\n",
       "      <td>79.049</td>\n",
       "      <td>0.776514</td>\n",
       "    </tr>\n",
       "    <tr>\n",
       "      <th>0</th>\n",
       "      <td>0.7</td>\n",
       "      <td>150844</td>\n",
       "      <td>266145</td>\n",
       "      <td>56.6774</td>\n",
       "      <td>0.826543</td>\n",
       "    </tr>\n",
       "    <tr>\n",
       "      <th>0</th>\n",
       "      <td>0.8</td>\n",
       "      <td>90260</td>\n",
       "      <td>266145</td>\n",
       "      <td>33.9138</td>\n",
       "      <td>0.879182</td>\n",
       "    </tr>\n",
       "    <tr>\n",
       "      <th>0</th>\n",
       "      <td>0.9</td>\n",
       "      <td>38311</td>\n",
       "      <td>266145</td>\n",
       "      <td>14.3948</td>\n",
       "      <td>0.935893</td>\n",
       "    </tr>\n",
       "    <tr>\n",
       "      <th>0</th>\n",
       "      <td>1</td>\n",
       "      <td>0</td>\n",
       "      <td>266145</td>\n",
       "      <td>0</td>\n",
       "      <td>NaN</td>\n",
       "    </tr>\n",
       "  </tbody>\n",
       "</table>\n",
       "</div>"
      ],
      "text/plain": [
       "  thresh no_of_preds total_preds pct_of_preds  accuracy\n",
       "0   0.02      266145      266145          100  0.728531\n",
       "0   0.04      266145      266145          100  0.728531\n",
       "0   0.06      266145      266145          100  0.728531\n",
       "0   0.08      266145      266145          100  0.728531\n",
       "0    0.1      266145      266145          100  0.728531\n",
       "0   0.15      266145      266145          100  0.728531\n",
       "0    0.2      266145      266145          100  0.728531\n",
       "0   0.25      266145      266145          100  0.728531\n",
       "0    0.3      266145      266145          100  0.728531\n",
       "0    0.4      266145      266145          100  0.728531\n",
       "0    0.5      266145      266145          100  0.728531\n",
       "0    0.6      210385      266145       79.049  0.776514\n",
       "0    0.7      150844      266145      56.6774  0.826543\n",
       "0    0.8       90260      266145      33.9138  0.879182\n",
       "0    0.9       38311      266145      14.3948  0.935893\n",
       "0      1           0      266145            0       NaN"
      ]
     },
     "execution_count": 32,
     "metadata": {},
     "output_type": "execute_result"
    }
   ],
   "source": [
    "result_df"
   ]
  },
  {
   "cell_type": "markdown",
   "metadata": {},
   "source": [
    "### Cnonfusion Matrix"
   ]
  },
  {
   "cell_type": "code",
   "execution_count": 33,
   "metadata": {},
   "outputs": [],
   "source": [
    "import matplotlib.pyplot as plt\n",
    "import seaborn as sns\n",
    "from sklearn.metrics import confusion_matrix"
   ]
  },
  {
   "cell_type": "code",
   "execution_count": 34,
   "metadata": {},
   "outputs": [],
   "source": [
    "test2017_preds_cm = np.argmax(test2017_preds_proba,axis=1)\n",
    "mapping_dict_cm = {0:'a',1:'b'}\n",
    "test2017_preds_names_cm = pd.Series(test2017_preds_cm).map(mapping_dict_cm)"
   ]
  },
  {
   "cell_type": "code",
   "execution_count": 35,
   "metadata": {},
   "outputs": [],
   "source": [
    "def cm_analysis(y_true, y_pred, labels, ymap=None, figsize=(10,10)):\n",
    "    \"\"\"\n",
    "    Generate matrix plot of confusion matrix with pretty annotations.\n",
    "    The plot image is saved to disk.\n",
    "    args: \n",
    "      y_true:    true label of the data, with shape (nsamples,)\n",
    "      y_pred:    prediction of the data, with shape (nsamples,)\n",
    "      filename:  filename of figure file to save\n",
    "      labels:    string array, name the order of class labels in the confusion matrix.\n",
    "                 use `clf.classes_` if using scikit-learn models.\n",
    "                 with shape (nclass,).\n",
    "      ymap:      dict: any -> string, length == nclass.\n",
    "                 if not None, map the labels & ys to more understandable strings.\n",
    "                 Caution: original y_true, y_pred and labels must align.\n",
    "      figsize:   the size of the figure plotted.\n",
    "    \"\"\"\n",
    "    if ymap is not None:\n",
    "        y_pred = [ymap[yi] for yi in y_pred]\n",
    "        y_true = [ymap[yi] for yi in y_true]\n",
    "        labels = [ymap[yi] for yi in labels]\n",
    "    cm = confusion_matrix(y_true, y_pred, labels=labels)\n",
    "    cm_sum = np.sum(cm, axis=1, keepdims=True)\n",
    "    cm_perc = cm / cm_sum.astype(float) * 100\n",
    "    annot = np.empty_like(cm).astype(str)\n",
    "    nrows, ncols = cm.shape\n",
    "    for i in range(nrows):\n",
    "        for j in range(ncols):\n",
    "            c = cm[i, j]\n",
    "            p = cm_perc[i, j]\n",
    "            if i == j:\n",
    "                s = cm_sum[i]\n",
    "                annot[i, j] = '%.1f%%\\n%d/%d' % (p, c, s)\n",
    "            elif c == 0:\n",
    "                annot[i, j] = ''\n",
    "            else:\n",
    "                annot[i, j] = '%.1f%%\\n%d' % (p, c)\n",
    "    cm = pd.DataFrame(cm_perc, index=labels, columns=labels)\n",
    "    cm.index.name = 'Actual'\n",
    "    cm.columns.name = 'Predicted'\n",
    "    fig, ax = plt.subplots(figsize=figsize)\n",
    "    sns.heatmap(cm, annot=annot, fmt='', ax=ax, cmap =sns.cm.rocket_r)\n",
    "    plt.show()"
   ]
  },
  {
   "cell_type": "code",
   "execution_count": 36,
   "metadata": {},
   "outputs": [
    {
     "data": {
      "image/png": "[encoded data removed]",
      "text/plain": [
       "<Figure size 936x936 with 2 Axes>"
      ]
     },
     "metadata": {
      "needs_background": "light"
     },
     "output_type": "display_data"
    }
   ],
   "source": [
    "cm_analysis(test2017_y,test2017_preds_names_cm, list(mapping_dict_cm.values()), ymap=None, figsize=(13,13))"
   ]
  },
  {
   "cell_type": "code",
   "execution_count": 37,
   "metadata": {},
   "outputs": [
    {
     "data": {
      "text/plain": [
       "a    134681\n",
       "b    131464\n",
       "Name: EstimateTotal_bins, dtype: int64"
      ]
     },
     "execution_count": 37,
     "metadata": {},
     "output_type": "execute_result"
    }
   ],
   "source": [
    "test2017_y.value_counts()"
   ]
  },
  {
   "cell_type": "code",
   "execution_count": 39,
   "metadata": {},
   "outputs": [
    {
     "data": {
      "text/html": [
       "<div>\n",
       "<style scoped>\n",
       "    .dataframe tbody tr th:only-of-type {\n",
       "        vertical-align: middle;\n",
       "    }\n",
       "\n",
       "    .dataframe tbody tr th {\n",
       "        vertical-align: top;\n",
       "    }\n",
       "\n",
       "    .dataframe thead th {\n",
       "        text-align: right;\n",
       "    }\n",
       "</style>\n",
       "<table border=\"1\" class=\"dataframe\">\n",
       "  <thead>\n",
       "    <tr style=\"text-align: right;\">\n",
       "      <th></th>\n",
       "      <th>range</th>\n",
       "      <th>count</th>\n",
       "      <th>category</th>\n",
       "    </tr>\n",
       "  </thead>\n",
       "  <tbody>\n",
       "    <tr>\n",
       "      <th>0</th>\n",
       "      <td>(-0.0009999999999716, 2790.16]</td>\n",
       "      <td>383204</td>\n",
       "      <td>a</td>\n",
       "    </tr>\n",
       "    <tr>\n",
       "      <th>1</th>\n",
       "      <td>(2790.16, 265738.05]</td>\n",
       "      <td>383204</td>\n",
       "      <td>b</td>\n",
       "    </tr>\n",
       "  </tbody>\n",
       "</table>\n",
       "</div>"
      ],
      "text/plain": [
       "                            range   count category\n",
       "0  (-0.0009999999999716, 2790.16]  383204        a\n",
       "1            (2790.16, 265738.05]  383204        b"
      ]
     },
     "execution_count": 39,
     "metadata": {},
     "output_type": "execute_result"
    }
   ],
   "source": [
    "bin_df = pd.DataFrame(pd.qcut(cleaned_loss_des['EstimateTotal'],2).value_counts().sort_index(ascending=True))\n",
    "bin_df.reset_index(inplace=True)\n",
    "bin_df.columns = ['range','count']\n",
    "bin_df['category'] = list(mapping_dict_cm.values())\n",
    "bin_df"
   ]
  }
 ],
 "metadata": {
  "kernelspec": {
   "display_name": "Python 3",
   "language": "python",
   "name": "python3"
  },
  "language_info": {
   "codemirror_mode": {
    "name": "ipython",
    "version": 3
   },
   "file_extension": ".py",
   "mimetype": "text/x-python",
   "name": "python",
   "nbconvert_exporter": "python",
   "pygments_lexer": "ipython3",
   "version": "3.5.6"
  }
 },
 "nbformat": 4,
 "nbformat_minor": 2
}

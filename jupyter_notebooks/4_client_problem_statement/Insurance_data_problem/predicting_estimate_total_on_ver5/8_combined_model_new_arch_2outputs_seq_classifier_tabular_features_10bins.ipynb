{
 "cells": [
  {
   "cell_type": "code",
   "execution_count": 1,
   "metadata": {},
   "outputs": [],
   "source": [
    "import pandas as pd\n",
    "import numpy as np\n",
    "# fix random seed for reproducibility\n",
    "np.random.seed(7)"
   ]
  },
  {
   "cell_type": "code",
   "execution_count": 2,
   "metadata": {},
   "outputs": [
    {
     "name": "stderr",
     "output_type": "stream",
     "text": [
      "/home/ambuj/izenda_fullcycle/environment/env/lib/python3.5/site-packages/IPython/core/interactiveshell.py:3020: DtypeWarning: Columns (4) have mixed types. Specify dtype option on import or set low_memory=False.\n",
      "  interactivity=interactivity, compiler=compiler, result=result)\n"
     ]
    }
   ],
   "source": [
    "cleaned = pd.read_csv('datasets/cleaned_Izends_Data_Thru201712_ver5.csv',index_col=0)"
   ]
  },
  {
   "cell_type": "code",
   "execution_count": 3,
   "metadata": {},
   "outputs": [],
   "source": [
    "cleaned_loss_des = pd.read_csv('hashed_cleaned_loss_desc_from_5_ipynb.csv',index_col=0)\n",
    "# changing dtype of hashed_loss_desc_padded column\n",
    "cleaned_loss_des['hashed_loss_desc_padded'] = cleaned_loss_des['hashed_loss_desc_padded'].apply(lambda x: np.fromstring(x[1:-1],dtype='int32',sep=' '))"
   ]
  },
  {
   "cell_type": "code",
   "execution_count": 4,
   "metadata": {},
   "outputs": [],
   "source": [
    "cleaned_combined = pd.merge(cleaned,cleaned_loss_des[['EstimateTotal_bins','hashed_loss_desc_padded']],left_index=True,right_index=True)"
   ]
  },
  {
   "cell_type": "code",
   "execution_count": 5,
   "metadata": {},
   "outputs": [
    {
     "data": {
      "text/plain": [
       "(766408, 28)"
      ]
     },
     "execution_count": 5,
     "metadata": {},
     "output_type": "execute_result"
    }
   ],
   "source": [
    "cleaned_combined.shape"
   ]
  },
  {
   "cell_type": "code",
   "execution_count": 6,
   "metadata": {},
   "outputs": [
    {
     "data": {
      "text/plain": [
       "Index(['DisplayName', 'DivisionName', 'City', 'Zip', 'State', 'LossYearMo',\n",
       "       'StartedFlag', 'CommOrRes', 'NoteCount', 'PhotoCount', 'JobCount',\n",
       "       'ClaimCount', 'EstimateTotal', 'PolicyHolderType', 'LossDescription',\n",
       "       'Estimate_NetClaim', 'Estimate_MaterialSaleTax', 'Estimate_OverHead',\n",
       "       'Estimate_Profit', 'Estimate_PctOverhead', 'Estimate_PctProfit',\n",
       "       'Estimate_Deductible', 'Estimate_BaseSvcCharge',\n",
       "       'CleanAddressFranchisorID', 'CleanAddressContactID', 'LossMo',\n",
       "       'EstimateTotal_bins', 'hashed_loss_desc_padded'],\n",
       "      dtype='object')"
      ]
     },
     "execution_count": 6,
     "metadata": {},
     "output_type": "execute_result"
    }
   ],
   "source": [
    "cleaned_combined.columns"
   ]
  },
  {
   "cell_type": "markdown",
   "metadata": {},
   "source": [
    "# Defining X and Y"
   ]
  },
  {
   "cell_type": "code",
   "execution_count": 7,
   "metadata": {},
   "outputs": [],
   "source": [
    "X1 = cleaned_combined[['DisplayName', 'DivisionName','LossMo','CommOrRes','PolicyHolderType','NoteCount','PhotoCount','JobCount','ClaimCount','LossYearMo']]\n",
    "X2 = cleaned_combined['hashed_loss_desc_padded']\n",
    "y = cleaned_combined['EstimateTotal_bins']"
   ]
  },
  {
   "cell_type": "markdown",
   "metadata": {},
   "source": [
    "# Getting Dummies"
   ]
  },
  {
   "cell_type": "code",
   "execution_count": 8,
   "metadata": {},
   "outputs": [],
   "source": [
    "X1_dummies = pd.get_dummies(X1,sparse=True)"
   ]
  },
  {
   "cell_type": "code",
   "execution_count": 9,
   "metadata": {},
   "outputs": [],
   "source": [
    "all_data = pd.merge(X1_dummies,pd.DataFrame(X2),left_index=True,right_index=True)\n",
    "all_data['EstimateTotal_bins'] = y"
   ]
  },
  {
   "cell_type": "markdown",
   "metadata": {},
   "source": [
    "# Splitting data"
   ]
  },
  {
   "cell_type": "code",
   "execution_count": 10,
   "metadata": {},
   "outputs": [],
   "source": [
    "test2017=all_data[all_data[\"LossYearMo\"].apply(lambda all_data:all_data>=201701)]\n",
    "learning=all_data[all_data[\"LossYearMo\"].apply(lambda all_data:all_data<201701)]"
   ]
  },
  {
   "cell_type": "code",
   "execution_count": 11,
   "metadata": {},
   "outputs": [],
   "source": [
    "learning_x = learning[learning.columns.difference(['LossYearMo','EstimateTotal_bins'])]\n",
    "learning_y = learning['EstimateTotal_bins']\n",
    "learning_y_dummies = pd.get_dummies(learning_y,sparse=True)"
   ]
  },
  {
   "cell_type": "code",
   "execution_count": 12,
   "metadata": {},
   "outputs": [],
   "source": [
    "test2017_x1 = test2017[test2017.columns.difference(['LossYearMo','EstimateTotal_bins','hashed_loss_desc_padded'])]\n",
    "test2017_x2 = test2017['hashed_loss_desc_padded']\n",
    "test2017_y = test2017['EstimateTotal_bins']\n",
    "test2017_y_dummies = pd.get_dummies(test2017_y,sparse=True)"
   ]
  },
  {
   "cell_type": "code",
   "execution_count": 13,
   "metadata": {},
   "outputs": [],
   "source": [
    "from sklearn.model_selection import train_test_split\n",
    "X_train, X_val, y_train, y_val = train_test_split(learning_x, learning_y_dummies, test_size=0.33, random_state=42)"
   ]
  },
  {
   "cell_type": "code",
   "execution_count": 14,
   "metadata": {},
   "outputs": [],
   "source": [
    "X1_train = X_train[X_train.columns.difference(['hashed_loss_desc_padded'])]\n",
    "X2_train = X_train['hashed_loss_desc_padded']"
   ]
  },
  {
   "cell_type": "code",
   "execution_count": 15,
   "metadata": {},
   "outputs": [],
   "source": [
    "X1_val = X_val[X_val.columns.difference(['hashed_loss_desc_padded'])]\n",
    "X2_val = X_val['hashed_loss_desc_padded']"
   ]
  },
  {
   "cell_type": "markdown",
   "metadata": {},
   "source": [
    "# Building Custom Keras Combined Model using Functional API"
   ]
  },
  {
   "cell_type": "code",
   "execution_count": 16,
   "metadata": {},
   "outputs": [
    {
     "name": "stderr",
     "output_type": "stream",
     "text": [
      "Using TensorFlow backend.\n"
     ]
    }
   ],
   "source": [
    "from keras.utils import plot_model\n",
    "from keras.models import Model\n",
    "from keras.layers import Input\n",
    "from keras.layers import LSTM\n",
    "from keras.layers.embeddings import Embedding\n",
    "from keras.layers import Dense, Dropout, Flatten, Activation\n",
    "from keras.callbacks import TensorBoard, EarlyStopping, ModelCheckpoint, History \n",
    "from keras.layers.merge import concatenate"
   ]
  },
  {
   "cell_type": "code",
   "execution_count": 17,
   "metadata": {},
   "outputs": [],
   "source": [
    "# first input\n",
    "input1 = Input(shape=(X1_train.shape[1],),name='input1')"
   ]
  },
  {
   "cell_type": "code",
   "execution_count": 18,
   "metadata": {},
   "outputs": [],
   "source": [
    "# second input\n",
    "input2 = Input(shape=(14,),name='input2')\n",
    "embedding = Embedding(11024,100,input_length=14)(input2)\n",
    "lstm = LSTM(15)(embedding)"
   ]
  },
  {
   "cell_type": "code",
   "execution_count": 19,
   "metadata": {},
   "outputs": [],
   "source": [
    "# aux output\n",
    "auxiliary_output = Dense(y_train.shape[1], activation='softmax', name='aux_output')(lstm)"
   ]
  },
  {
   "cell_type": "code",
   "execution_count": 20,
   "metadata": {},
   "outputs": [],
   "source": [
    "# merge layers\n",
    "merge = concatenate([input1,lstm])"
   ]
  },
  {
   "cell_type": "code",
   "execution_count": 21,
   "metadata": {},
   "outputs": [],
   "source": [
    "hidden1 = Dense(512, activation='relu')(merge)\n",
    "dropout1 = Dropout(0.25)(hidden1)\n",
    "hidden2 = Dense(512, activation='relu')(dropout1)\n",
    "dropout2 = Dropout(0.25)(hidden2)"
   ]
  },
  {
   "cell_type": "code",
   "execution_count": 22,
   "metadata": {},
   "outputs": [],
   "source": [
    "# output layer\n",
    "output = Dense(y_train.shape[1], activation='softmax',name='output')(dropout2)"
   ]
  },
  {
   "cell_type": "code",
   "execution_count": 23,
   "metadata": {},
   "outputs": [],
   "source": [
    "# Model\n",
    "model = Model(inputs=[input1,input2], outputs=[auxiliary_output,output])"
   ]
  },
  {
   "cell_type": "code",
   "execution_count": 24,
   "metadata": {},
   "outputs": [
    {
     "name": "stdout",
     "output_type": "stream",
     "text": [
      "__________________________________________________________________________________________________\n",
      "Layer (type)                    Output Shape         Param #     Connected to                     \n",
      "==================================================================================================\n",
      "input2 (InputLayer)             (None, 14)           0                                            \n",
      "__________________________________________________________________________________________________\n",
      "embedding_1 (Embedding)         (None, 14, 100)      1102400     input2[0][0]                     \n",
      "__________________________________________________________________________________________________\n",
      "lstm_1 (LSTM)                   (None, 15)           6960        embedding_1[0][0]                \n",
      "__________________________________________________________________________________________________\n",
      "input1 (InputLayer)             (None, 1064)         0                                            \n",
      "__________________________________________________________________________________________________\n",
      "concatenate_1 (Concatenate)     (None, 1079)         0           input1[0][0]                     \n",
      "                                                                 lstm_1[0][0]                     \n",
      "__________________________________________________________________________________________________\n",
      "dense_1 (Dense)                 (None, 512)          552960      concatenate_1[0][0]              \n",
      "__________________________________________________________________________________________________\n",
      "dropout_1 (Dropout)             (None, 512)          0           dense_1[0][0]                    \n",
      "__________________________________________________________________________________________________\n",
      "dense_2 (Dense)                 (None, 512)          262656      dropout_1[0][0]                  \n",
      "__________________________________________________________________________________________________\n",
      "dropout_2 (Dropout)             (None, 512)          0           dense_2[0][0]                    \n",
      "__________________________________________________________________________________________________\n",
      "aux_output (Dense)              (None, 10)           160         lstm_1[0][0]                     \n",
      "__________________________________________________________________________________________________\n",
      "output (Dense)                  (None, 10)           5130        dropout_2[0][0]                  \n",
      "==================================================================================================\n",
      "Total params: 1,930,266\n",
      "Trainable params: 1,930,266\n",
      "Non-trainable params: 0\n",
      "__________________________________________________________________________________________________\n"
     ]
    }
   ],
   "source": [
    "model.summary()"
   ]
  },
  {
   "cell_type": "code",
   "execution_count": 25,
   "metadata": {},
   "outputs": [],
   "source": [
    "plot_model(model,to_file='8_combined_model.png')"
   ]
  },
  {
   "cell_type": "code",
   "execution_count": 25,
   "metadata": {},
   "outputs": [],
   "source": [
    "model.compile(loss='categorical_crossentropy', optimizer='adam', metrics=['accuracy'],loss_weights=[1., 0.2])"
   ]
  },
  {
   "cell_type": "code",
   "execution_count": 26,
   "metadata": {},
   "outputs": [],
   "source": [
    "early_stop = EarlyStopping(monitor='val_loss', patience=50,restore_best_weights=True)"
   ]
  },
  {
   "cell_type": "code",
   "execution_count": null,
   "metadata": {
    "scrolled": true
   },
   "outputs": [
    {
     "name": "stdout",
     "output_type": "stream",
     "text": [
      "Train on 335176 samples, validate on 165087 samples\n",
      "Epoch 1/500\n",
      "335176/335176 [==============================] - 87s 258us/step - loss: 2.6360 - aux_output_loss: 2.2192 - output_loss: 2.0844 - aux_output_acc: 0.1658 - output_acc: 0.2093 - val_loss: 2.6056 - val_aux_output_loss: 2.2013 - val_output_loss: 2.0215 - val_aux_output_acc: 0.1732 - val_output_acc: 0.2289\n",
      "Epoch 2/500\n",
      "335176/335176 [==============================] - 85s 253us/step - loss: 2.5815 - aux_output_loss: 2.1800 - output_loss: 2.0077 - aux_output_acc: 0.1850 - output_acc: 0.2368 - val_loss: 2.5990 - val_aux_output_loss: 2.1990 - val_output_loss: 2.0002 - val_aux_output_acc: 0.1738 - val_output_acc: 0.2370\n",
      "Epoch 3/500\n",
      "335176/335176 [==============================] - 85s 254us/step - loss: 2.5506 - aux_output_loss: 2.1543 - output_loss: 1.9818 - aux_output_acc: 0.1979 - output_acc: 0.2456 - val_loss: 2.6089 - val_aux_output_loss: 2.2071 - val_output_loss: 2.0090 - val_aux_output_acc: 0.1741 - val_output_acc: 0.2349\n",
      "Epoch 4/500\n",
      "335176/335176 [==============================] - 85s 254us/step - loss: 2.5209 - aux_output_loss: 2.1287 - output_loss: 1.9608 - aux_output_acc: 0.2094 - output_acc: 0.2537 - val_loss: 2.6215 - val_aux_output_loss: 2.2201 - val_output_loss: 2.0072 - val_aux_output_acc: 0.1731 - val_output_acc: 0.2374\n",
      "Epoch 5/500\n",
      "335176/335176 [==============================] - 85s 254us/step - loss: 2.4911 - aux_output_loss: 2.1031 - output_loss: 1.9396 - aux_output_acc: 0.2199 - output_acc: 0.2641 - val_loss: 2.6386 - val_aux_output_loss: 2.2361 - val_output_loss: 2.0123 - val_aux_output_acc: 0.1717 - val_output_acc: 0.2370\n",
      "Epoch 6/500\n",
      "335176/335176 [==============================] - 85s 254us/step - loss: 2.4614 - aux_output_loss: 2.0780 - output_loss: 1.9173 - aux_output_acc: 0.2305 - output_acc: 0.2754 - val_loss: 2.6578 - val_aux_output_loss: 2.2535 - val_output_loss: 2.0216 - val_aux_output_acc: 0.1707 - val_output_acc: 0.2378\n",
      "Epoch 7/500\n",
      "335176/335176 [==============================] - 85s 254us/step - loss: 2.4325 - aux_output_loss: 2.0539 - output_loss: 1.8927 - aux_output_acc: 0.2404 - output_acc: 0.2876 - val_loss: 2.6858 - val_aux_output_loss: 2.2776 - val_output_loss: 2.0411 - val_aux_output_acc: 0.1705 - val_output_acc: 0.2375\n",
      "Epoch 8/500\n",
      "335176/335176 [==============================] - 85s 253us/step - loss: 2.4057 - aux_output_loss: 2.0320 - output_loss: 1.8685 - aux_output_acc: 0.2486 - output_acc: 0.2989 - val_loss: 2.7131 - val_aux_output_loss: 2.3007 - val_output_loss: 2.0618 - val_aux_output_acc: 0.1688 - val_output_acc: 0.2351\n",
      "Epoch 9/500\n",
      "335176/335176 [==============================] - 85s 253us/step - loss: 2.3809 - aux_output_loss: 2.0117 - output_loss: 1.8458 - aux_output_acc: 0.2571 - output_acc: 0.3082 - val_loss: 2.7398 - val_aux_output_loss: 2.3232 - val_output_loss: 2.0833 - val_aux_output_acc: 0.1676 - val_output_acc: 0.2327\n",
      "Epoch 10/500\n",
      "335176/335176 [==============================] - 85s 254us/step - loss: 2.3581 - aux_output_loss: 1.9932 - output_loss: 1.8244 - aux_output_acc: 0.2638 - output_acc: 0.3161 - val_loss: 2.7679 - val_aux_output_loss: 2.3488 - val_output_loss: 2.0955 - val_aux_output_acc: 0.1665 - val_output_acc: 0.2335\n",
      "Epoch 11/500\n",
      "335176/335176 [==============================] - 85s 253us/step - loss: 2.3374 - aux_output_loss: 1.9761 - output_loss: 1.8066 - aux_output_acc: 0.2705 - output_acc: 0.3231 - val_loss: 2.8013 - val_aux_output_loss: 2.3745 - val_output_loss: 2.1339 - val_aux_output_acc: 0.1649 - val_output_acc: 0.2311\n",
      "Epoch 12/500\n",
      "335176/335176 [==============================] - 85s 253us/step - loss: 2.3184 - aux_output_loss: 1.9607 - output_loss: 1.7885 - aux_output_acc: 0.2768 - output_acc: 0.3310 - val_loss: 2.8152 - val_aux_output_loss: 2.3880 - val_output_loss: 2.1358 - val_aux_output_acc: 0.1645 - val_output_acc: 0.2323\n",
      "Epoch 13/500\n",
      "335176/335176 [==============================] - 85s 254us/step - loss: 2.3009 - aux_output_loss: 1.9463 - output_loss: 1.7732 - aux_output_acc: 0.2820 - output_acc: 0.3371 - val_loss: 2.8565 - val_aux_output_loss: 2.4200 - val_output_loss: 2.1824 - val_aux_output_acc: 0.1638 - val_output_acc: 0.2313\n",
      "Epoch 14/500\n",
      "335176/335176 [==============================] - 85s 253us/step - loss: 2.2565 - aux_output_loss: 1.9099 - output_loss: 1.7329 - aux_output_acc: 0.2950 - output_acc: 0.3533 - val_loss: 2.9293 - val_aux_output_loss: 2.4787 - val_output_loss: 2.2531 - val_aux_output_acc: 0.1632 - val_output_acc: 0.2288\n",
      "Epoch 17/500\n",
      "335176/335176 [==============================] - 85s 253us/step - loss: 2.2439 - aux_output_loss: 1.8998 - output_loss: 1.7208 - aux_output_acc: 0.2990 - output_acc: 0.3575 - val_loss: 2.9559 - val_aux_output_loss: 2.5048 - val_output_loss: 2.2552 - val_aux_output_acc: 0.1627 - val_output_acc: 0.2288\n",
      "Epoch 18/500\n",
      "139904/335176 [===========>..................] - ETA: 43s - loss: 2.2069 - aux_output_loss: 1.8696 - output_loss: 1.6866 - aux_output_acc: 0.3115 - output_acc: 0.3707"
     ]
    },
    {
     "name": "stderr",
     "output_type": "stream",
     "text": [
      "IOPub message rate exceeded.\n",
      "The notebook server will temporarily stop sending output\n",
      "to the client in order to avoid crashing it.\n",
      "To change this limit, set the config variable\n",
      "`--NotebookApp.iopub_msg_rate_limit`.\n",
      "\n",
      "Current values:\n",
      "NotebookApp.iopub_msg_rate_limit=1000.0 (msgs/sec)\n",
      "NotebookApp.rate_limit_window=3.0 (secs)\n",
      "\n"
     ]
    },
    {
     "name": "stdout",
     "output_type": "stream",
     "text": [
      "335176/335176 [==============================] - 85s 254us/step - loss: 2.2097 - aux_output_loss: 1.8720 - output_loss: 1.6886 - aux_output_acc: 0.3089 - output_acc: 0.3698 - val_loss: 3.0223 - val_aux_output_loss: 2.5560 - val_output_loss: 2.3316 - val_aux_output_acc: 0.1629 - val_output_acc: 0.2271\n",
      "Epoch 21/500\n",
      "335176/335176 [==============================] - 85s 253us/step - loss: 2.2000 - aux_output_loss: 1.8641 - output_loss: 1.6797 - aux_output_acc: 0.3122 - output_acc: 0.3734 - val_loss: 3.0284 - val_aux_output_loss: 2.5662 - val_output_loss: 2.3107 - val_aux_output_acc: 0.1614 - val_output_acc: 0.2274\n",
      "Epoch 22/500\n",
      "335176/335176 [==============================] - 85s 254us/step - loss: 2.1909 - aux_output_loss: 1.8565 - output_loss: 1.6719 - aux_output_acc: 0.3146 - output_acc: 0.3757 - val_loss: 3.0614 - val_aux_output_loss: 2.5895 - val_output_loss: 2.3592 - val_aux_output_acc: 0.1612 - val_output_acc: 0.2251\n",
      "Epoch 23/500\n",
      "335176/335176 [==============================] - 85s 254us/step - loss: 2.1815 - aux_output_loss: 1.8491 - output_loss: 1.6618 - aux_output_acc: 0.3177 - output_acc: 0.3796 - val_loss: 3.0838 - val_aux_output_loss: 2.6070 - val_output_loss: 2.3838 - val_aux_output_acc: 0.1618 - val_output_acc: 0.2254\n",
      "Epoch 24/500\n",
      "335176/335176 [==============================] - 85s 254us/step - loss: 2.1732 - aux_output_loss: 1.8426 - output_loss: 1.6532 - aux_output_acc: 0.3199 - output_acc: 0.3825 - val_loss: 3.0955 - val_aux_output_loss: 2.6140 - val_output_loss: 2.4074 - val_aux_output_acc: 0.1611 - val_output_acc: 0.2250\n",
      "Epoch 25/500\n",
      "335176/335176 [==============================] - 85s 254us/step - loss: 2.1651 - aux_output_loss: 1.8356 - output_loss: 1.6473 - aux_output_acc: 0.3216 - output_acc: 0.3845 - val_loss: 3.1147 - val_aux_output_loss: 2.6332 - val_output_loss: 2.4073 - val_aux_output_acc: 0.1611 - val_output_acc: 0.2243\n",
      "Epoch 26/500\n",
      "335176/335176 [==============================] - 85s 254us/step - loss: 2.1585 - aux_output_loss: 1.8305 - output_loss: 1.6400 - aux_output_acc: 0.3242 - output_acc: 0.3882 - val_loss: 3.1491 - val_aux_output_loss: 2.6569 - val_output_loss: 2.4609 - val_aux_output_acc: 0.1610 - val_output_acc: 0.2248\n",
      "Epoch 27/500\n",
      "335176/335176 [==============================] - 85s 253us/step - loss: 2.1509 - aux_output_loss: 1.8243 - output_loss: 1.6333 - aux_output_acc: 0.3269 - output_acc: 0.3900 - val_loss: 3.1470 - val_aux_output_loss: 2.6625 - val_output_loss: 2.4223 - val_aux_output_acc: 0.1606 - val_output_acc: 0.2245\n",
      "Epoch 28/500\n",
      "335176/335176 [==============================] - 85s 253us/step - loss: 2.1432 - aux_output_loss: 1.8182 - output_loss: 1.6251 - aux_output_acc: 0.3292 - output_acc: 0.3942 - val_loss: 3.1559 - val_aux_output_loss: 2.6677 - val_output_loss: 2.4408 - val_aux_output_acc: 0.1606 - val_output_acc: 0.2240\n",
      "Epoch 29/500\n",
      "335176/335176 [==============================] - 85s 253us/step - loss: 2.1373 - aux_output_loss: 1.8134 - output_loss: 1.6193 - aux_output_acc: 0.3301 - output_acc: 0.3957 - val_loss: 3.1671 - val_aux_output_loss: 2.6751 - val_output_loss: 2.4597 - val_aux_output_acc: 0.1595 - val_output_acc: 0.2234\n",
      "Epoch 30/500\n",
      "335176/335176 [==============================] - 85s 253us/step - loss: 2.1306 - aux_output_loss: 1.8080 - output_loss: 1.6129 - aux_output_acc: 0.3327 - output_acc: 0.3979 - val_loss: 3.1958 - val_aux_output_loss: 2.6968 - val_output_loss: 2.4951 - val_aux_output_acc: 0.1606 - val_output_acc: 0.2217\n",
      "Epoch 31/500\n",
      "335176/335176 [==============================] - 85s 253us/step - loss: 2.1233 - aux_output_loss: 1.8021 - output_loss: 1.6061 - aux_output_acc: 0.3343 - output_acc: 0.4017 - val_loss: 3.2095 - val_aux_output_loss: 2.7068 - val_output_loss: 2.5133 - val_aux_output_acc: 0.1605 - val_output_acc: 0.2219\n",
      "Epoch 32/500\n",
      "335176/335176 [==============================] - 85s 253us/step - loss: 2.1183 - aux_output_loss: 1.7980 - output_loss: 1.6016 - aux_output_acc: 0.3359 - output_acc: 0.4026 - val_loss: 3.2237 - val_aux_output_loss: 2.7221 - val_output_loss: 2.5080 - val_aux_output_acc: 0.1601 - val_output_acc: 0.2223\n",
      "Epoch 33/500\n",
      "335176/335176 [==============================] - 85s 254us/step - loss: 2.1137 - aux_output_loss: 1.7942 - output_loss: 1.5975 - aux_output_acc: 0.3366 - output_acc: 0.4035 - val_loss: 3.2294 - val_aux_output_loss: 2.7256 - val_output_loss: 2.5191 - val_aux_output_acc: 0.1602 - val_output_acc: 0.2242\n",
      "Epoch 34/500\n",
      "335176/335176 [==============================] - 85s 254us/step - loss: 2.1088 - aux_output_loss: 1.7904 - output_loss: 1.5922 - aux_output_acc: 0.3393 - output_acc: 0.4065 - val_loss: 3.2444 - val_aux_output_loss: 2.7395 - val_output_loss: 2.5243 - val_aux_output_acc: 0.1590 - val_output_acc: 0.2227\n",
      "Epoch 35/500\n",
      "335176/335176 [==============================] - 85s 254us/step - loss: 2.1029 - aux_output_loss: 1.7857 - output_loss: 1.5859 - aux_output_acc: 0.3408 - output_acc: 0.4092 - val_loss: 3.2788 - val_aux_output_loss: 2.7602 - val_output_loss: 2.5927 - val_aux_output_acc: 0.1602 - val_output_acc: 0.2230\n",
      "Epoch 36/500\n",
      "335176/335176 [==============================] - 85s 253us/step - loss: 2.0977 - aux_output_loss: 1.7812 - output_loss: 1.5822 - aux_output_acc: 0.3416 - output_acc: 0.4099 - val_loss: 3.2751 - val_aux_output_loss: 2.7592 - val_output_loss: 2.5793 - val_aux_output_acc: 0.1601 - val_output_acc: 0.2230\n",
      "Epoch 37/500\n",
      "335176/335176 [==============================] - 85s 254us/step - loss: 2.0940 - aux_output_loss: 1.7786 - output_loss: 1.5771 - aux_output_acc: 0.3430 - output_acc: 0.4122 - val_loss: 3.2800 - val_aux_output_loss: 2.7701 - val_output_loss: 2.5495 - val_aux_output_acc: 0.1600 - val_output_acc: 0.2228\n",
      "Epoch 38/500\n",
      "335176/335176 [==============================] - 85s 254us/step - loss: 2.0884 - aux_output_loss: 1.7738 - output_loss: 1.5733 - aux_output_acc: 0.3445 - output_acc: 0.4138 - val_loss: 3.2958 - val_aux_output_loss: 2.7777 - val_output_loss: 2.5905 - val_aux_output_acc: 0.1588 - val_output_acc: 0.2211\n",
      "Epoch 39/500\n",
      "335176/335176 [==============================] - 85s 254us/step - loss: 2.0845 - aux_output_loss: 1.7709 - output_loss: 1.5678 - aux_output_acc: 0.3456 - output_acc: 0.4160 - val_loss: 3.3180 - val_aux_output_loss: 2.7913 - val_output_loss: 2.6337 - val_aux_output_acc: 0.1590 - val_output_acc: 0.2208\n",
      "Epoch 40/500\n",
      "335176/335176 [==============================] - 85s 254us/step - loss: 2.0805 - aux_output_loss: 1.7677 - output_loss: 1.5638 - aux_output_acc: 0.3471 - output_acc: 0.4166 - val_loss: 3.2779 - val_aux_output_loss: 2.7653 - val_output_loss: 2.5633 - val_aux_output_acc: 0.1581 - val_output_acc: 0.2221\n",
      "Epoch 41/500\n",
      "335176/335176 [==============================] - 85s 254us/step - loss: 2.0769 - aux_output_loss: 1.7649 - output_loss: 1.5601 - aux_output_acc: 0.3479 - output_acc: 0.4181 - val_loss: 3.3390 - val_aux_output_loss: 2.8118 - val_output_loss: 2.6362 - val_aux_output_acc: 0.1597 - val_output_acc: 0.2195\n",
      "Epoch 42/500\n",
      "335176/335176 [==============================] - 85s 254us/step - loss: 2.0722 - aux_output_loss: 1.7612 - output_loss: 1.5550 - aux_output_acc: 0.3499 - output_acc: 0.4202 - val_loss: 3.3368 - val_aux_output_loss: 2.8095 - val_output_loss: 2.6364 - val_aux_output_acc: 0.1591 - val_output_acc: 0.2210\n",
      "Epoch 43/500\n",
      "335176/335176 [==============================] - 85s 253us/step - loss: 2.0698 - aux_output_loss: 1.7591 - output_loss: 1.5535 - aux_output_acc: 0.3502 - output_acc: 0.4210 - val_loss: 3.3543 - val_aux_output_loss: 2.8247 - val_output_loss: 2.6481 - val_aux_output_acc: 0.1578 - val_output_acc: 0.2205\n",
      "Epoch 44/500\n",
      "335176/335176 [==============================] - 85s 254us/step - loss: 2.0657 - aux_output_loss: 1.7559 - output_loss: 1.5489 - aux_output_acc: 0.3509 - output_acc: 0.4228 - val_loss: 3.3488 - val_aux_output_loss: 2.8224 - val_output_loss: 2.6319 - val_aux_output_acc: 0.1603 - val_output_acc: 0.2207\n",
      "Epoch 45/500\n",
      "335176/335176 [==============================] - 85s 253us/step - loss: 2.0616 - aux_output_loss: 1.7525 - output_loss: 1.5455 - aux_output_acc: 0.3522 - output_acc: 0.4244 - val_loss: 3.3700 - val_aux_output_loss: 2.8394 - val_output_loss: 2.6532 - val_aux_output_acc: 0.1596 - val_output_acc: 0.2215\n",
      "Epoch 46/500\n",
      "248192/335176 [=====================>........] - ETA: 19s - loss: 2.0498 - aux_output_loss: 1.7428 - output_loss: 1.5351 - aux_output_acc: 0.3561 - output_acc: 0.4283"
     ]
    }
   ],
   "source": [
    "model.fit({'input1':X1_train,'input2':np.stack(X2_train, axis=0)},\n",
    "          {'output':y_train.values, 'aux_output': y_train.values},\n",
    "          validation_data=({'input1':X1_val,'input2':np.stack(X2_val, axis=0)},{'output':y_val.values,'aux_output':y_val.values}),\n",
    "         callbacks=[early_stop],epochs=500, batch_size=128,verbose=1)"
   ]
  },
  {
   "cell_type": "code",
   "execution_count": null,
   "metadata": {},
   "outputs": [],
   "source": []
  },
  {
   "cell_type": "code",
   "execution_count": null,
   "metadata": {},
   "outputs": [],
   "source": []
  },
  {
   "cell_type": "markdown",
   "metadata": {},
   "source": [
    "# Calculating Test Accuracy"
   ]
  },
  {
   "cell_type": "code",
   "execution_count": 29,
   "metadata": {},
   "outputs": [],
   "source": [
    "test2017_preds_proba = model.predict({'input1':test2017_x1,'input2':np.stack(test2017_x2, axis=0)})"
   ]
  },
  {
   "cell_type": "code",
   "execution_count": 35,
   "metadata": {},
   "outputs": [],
   "source": [
    "test2017_preds = np.argmax(test2017_preds_proba[0],axis=1)"
   ]
  },
  {
   "cell_type": "code",
   "execution_count": 37,
   "metadata": {},
   "outputs": [],
   "source": [
    "mapping_dict = {0:'a',1:'b',2:'c',3:'d',4:'e',5:'f',6:'g',7:'h',8:'i',9:'j'}"
   ]
  },
  {
   "cell_type": "code",
   "execution_count": 38,
   "metadata": {},
   "outputs": [],
   "source": [
    "test2017_preds_names = pd.Series(test2017_preds).map(mapping_dict)"
   ]
  },
  {
   "cell_type": "code",
   "execution_count": 39,
   "metadata": {},
   "outputs": [],
   "source": [
    "from sklearn.metrics import accuracy_score"
   ]
  },
  {
   "cell_type": "code",
   "execution_count": 40,
   "metadata": {},
   "outputs": [
    {
     "data": {
      "text/plain": [
       "0.1621785117135396"
      ]
     },
     "execution_count": 40,
     "metadata": {},
     "output_type": "execute_result"
    }
   ],
   "source": [
    "accuracy_score(test2017_y,test2017_preds_names)"
   ]
  }
 ],
 "metadata": {
  "kernelspec": {
   "display_name": "Python 3",
   "language": "python",
   "name": "python3"
  },
  "language_info": {
   "codemirror_mode": {
    "name": "ipython",
    "version": 3
   },
   "file_extension": ".py",
   "mimetype": "text/x-python",
   "name": "python",
   "nbconvert_exporter": "python",
   "pygments_lexer": "ipython3",
   "version": "3.5.6"
  }
 },
 "nbformat": 4,
 "nbformat_minor": 2
}

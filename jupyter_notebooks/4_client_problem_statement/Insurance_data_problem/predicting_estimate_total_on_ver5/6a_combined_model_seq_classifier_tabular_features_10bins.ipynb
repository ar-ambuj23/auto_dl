{
 "cells": [
  {
   "cell_type": "code",
   "execution_count": 1,
   "metadata": {},
   "outputs": [],
   "source": [
    "import pandas as pd\n",
    "import numpy as np\n",
    "# fix random seed for reproducibility\n",
    "np.random.seed(7)"
   ]
  },
  {
   "cell_type": "code",
   "execution_count": 2,
   "metadata": {},
   "outputs": [
    {
     "name": "stderr",
     "output_type": "stream",
     "text": [
      "/home/ambuj/izenda_fullcycle/environment/env/lib/python3.5/site-packages/IPython/core/interactiveshell.py:3020: DtypeWarning: Columns (4) have mixed types. Specify dtype option on import or set low_memory=False.\n",
      "  interactivity=interactivity, compiler=compiler, result=result)\n"
     ]
    }
   ],
   "source": [
    "cleaned = pd.read_csv('datasets/cleaned_Izends_Data_Thru201712_ver5.csv',index_col=0)"
   ]
  },
  {
   "cell_type": "code",
   "execution_count": 3,
   "metadata": {},
   "outputs": [],
   "source": [
    "cleaned_loss_des = pd.read_csv('hashed_cleaned_loss_desc_from_5_ipynb.csv',index_col=0)\n",
    "# changing dtype of hashed_loss_desc_padded column\n",
    "cleaned_loss_des['hashed_loss_desc_padded'] = cleaned_loss_des['hashed_loss_desc_padded'].apply(lambda x: np.fromstring(x[1:-1],dtype='int32',sep=' '))"
   ]
  },
  {
   "cell_type": "code",
   "execution_count": 4,
   "metadata": {},
   "outputs": [],
   "source": [
    "cleaned_combined = pd.merge(cleaned,cleaned_loss_des[['EstimateTotal_bins','hashed_loss_desc_padded']],left_index=True,right_index=True)"
   ]
  },
  {
   "cell_type": "code",
   "execution_count": 5,
   "metadata": {},
   "outputs": [
    {
     "data": {
      "text/plain": [
       "(766408, 28)"
      ]
     },
     "execution_count": 5,
     "metadata": {},
     "output_type": "execute_result"
    }
   ],
   "source": [
    "cleaned_combined.shape"
   ]
  },
  {
   "cell_type": "code",
   "execution_count": 6,
   "metadata": {},
   "outputs": [
    {
     "data": {
      "text/plain": [
       "Index(['DisplayName', 'DivisionName', 'City', 'Zip', 'State', 'LossYearMo',\n",
       "       'StartedFlag', 'CommOrRes', 'NoteCount', 'PhotoCount', 'JobCount',\n",
       "       'ClaimCount', 'EstimateTotal', 'PolicyHolderType', 'LossDescription',\n",
       "       'Estimate_NetClaim', 'Estimate_MaterialSaleTax', 'Estimate_OverHead',\n",
       "       'Estimate_Profit', 'Estimate_PctOverhead', 'Estimate_PctProfit',\n",
       "       'Estimate_Deductible', 'Estimate_BaseSvcCharge',\n",
       "       'CleanAddressFranchisorID', 'CleanAddressContactID', 'LossMo',\n",
       "       'EstimateTotal_bins', 'hashed_loss_desc_padded'],\n",
       "      dtype='object')"
      ]
     },
     "execution_count": 6,
     "metadata": {},
     "output_type": "execute_result"
    }
   ],
   "source": [
    "cleaned_combined.columns"
   ]
  },
  {
   "cell_type": "markdown",
   "metadata": {},
   "source": [
    "# Defining X and Y"
   ]
  },
  {
   "cell_type": "code",
   "execution_count": 7,
   "metadata": {},
   "outputs": [],
   "source": [
    "X1 = cleaned_combined[['DisplayName', 'DivisionName','LossMo','CommOrRes','PolicyHolderType','NoteCount','PhotoCount','JobCount','ClaimCount','LossYearMo']]\n",
    "X2 = cleaned_combined['hashed_loss_desc_padded']\n",
    "y = cleaned_combined['EstimateTotal_bins']"
   ]
  },
  {
   "cell_type": "markdown",
   "metadata": {},
   "source": [
    "# Getting Dummies"
   ]
  },
  {
   "cell_type": "code",
   "execution_count": 8,
   "metadata": {},
   "outputs": [],
   "source": [
    "X1_dummies = pd.get_dummies(X1,sparse=True)"
   ]
  },
  {
   "cell_type": "code",
   "execution_count": 9,
   "metadata": {},
   "outputs": [],
   "source": [
    "all_data = pd.merge(X1_dummies,pd.DataFrame(X2),left_index=True,right_index=True)\n",
    "all_data['EstimateTotal_bins'] = y"
   ]
  },
  {
   "cell_type": "markdown",
   "metadata": {},
   "source": [
    "# Splitting data"
   ]
  },
  {
   "cell_type": "code",
   "execution_count": 10,
   "metadata": {},
   "outputs": [],
   "source": [
    "test2017=all_data[all_data[\"LossYearMo\"].apply(lambda all_data:all_data>=201701)]\n",
    "learning=all_data[all_data[\"LossYearMo\"].apply(lambda all_data:all_data<201701)]"
   ]
  },
  {
   "cell_type": "code",
   "execution_count": 11,
   "metadata": {},
   "outputs": [],
   "source": [
    "learning_x = learning[learning.columns.difference(['LossYearMo','EstimateTotal_bins'])]\n",
    "learning_y = learning['EstimateTotal_bins']\n",
    "learning_y_dummies = pd.get_dummies(learning_y,sparse=True)"
   ]
  },
  {
   "cell_type": "code",
   "execution_count": 12,
   "metadata": {},
   "outputs": [],
   "source": [
    "test2017_x1 = test2017[test2017.columns.difference(['LossYearMo','EstimateTotal_bins','hashed_loss_desc_padded'])]\n",
    "test2017_x2 = test2017['hashed_loss_desc_padded']\n",
    "test2017_y = test2017['EstimateTotal_bins']\n",
    "test2017_y_dummies = pd.get_dummies(test2017_y,sparse=True)"
   ]
  },
  {
   "cell_type": "code",
   "execution_count": 13,
   "metadata": {},
   "outputs": [],
   "source": [
    "from sklearn.model_selection import train_test_split\n",
    "X_train, X_val, y_train, y_val = train_test_split(learning_x, learning_y_dummies, test_size=0.33, random_state=42)"
   ]
  },
  {
   "cell_type": "code",
   "execution_count": 14,
   "metadata": {},
   "outputs": [],
   "source": [
    "X1_train = X_train[X_train.columns.difference(['hashed_loss_desc_padded'])]\n",
    "X2_train = X_train['hashed_loss_desc_padded']"
   ]
  },
  {
   "cell_type": "code",
   "execution_count": 15,
   "metadata": {},
   "outputs": [],
   "source": [
    "X1_val = X_val[X_val.columns.difference(['hashed_loss_desc_padded'])]\n",
    "X2_val = X_val['hashed_loss_desc_padded']"
   ]
  },
  {
   "cell_type": "markdown",
   "metadata": {},
   "source": [
    "# Building Custom Keras Combined Model using Functional API"
   ]
  },
  {
   "cell_type": "code",
   "execution_count": 16,
   "metadata": {},
   "outputs": [
    {
     "name": "stderr",
     "output_type": "stream",
     "text": [
      "Using TensorFlow backend.\n"
     ]
    }
   ],
   "source": [
    "from keras.utils import plot_model\n",
    "from keras.models import Model\n",
    "from keras.layers import Input\n",
    "from keras.layers import LSTM\n",
    "from keras.layers.embeddings import Embedding\n",
    "from keras.layers import Dense, Dropout, Flatten, Activation\n",
    "from keras.callbacks import TensorBoard, EarlyStopping, ModelCheckpoint, History \n",
    "from keras.layers.merge import concatenate"
   ]
  },
  {
   "cell_type": "code",
   "execution_count": 17,
   "metadata": {},
   "outputs": [],
   "source": [
    "# first input\n",
    "input1 = Input(shape=(X1_train.shape[1],),name='input1')\n",
    "hidden1 = Dense(512, activation='relu')(input1)\n",
    "dropout1 = Dropout(0.25)(hidden1)\n",
    "hidden2 = Dense(512, activation='relu')(dropout1)\n",
    "dropout2 = Dropout(0.25)(hidden2)"
   ]
  },
  {
   "cell_type": "code",
   "execution_count": 18,
   "metadata": {},
   "outputs": [],
   "source": [
    "# second input\n",
    "input2 = Input(shape=(14,),name='input2')\n",
    "embedding = Embedding(11024,100,input_length=14)(input2)\n",
    "lstm = LSTM(15)(embedding)"
   ]
  },
  {
   "cell_type": "code",
   "execution_count": 19,
   "metadata": {},
   "outputs": [],
   "source": [
    "# merge layers\n",
    "merge = concatenate([dropout2,lstm])"
   ]
  },
  {
   "cell_type": "code",
   "execution_count": 20,
   "metadata": {},
   "outputs": [],
   "source": [
    "# output layer\n",
    "output = Dense(y_train.shape[1], activation='softmax',name='output')(merge)"
   ]
  },
  {
   "cell_type": "code",
   "execution_count": 21,
   "metadata": {},
   "outputs": [],
   "source": [
    "# Model\n",
    "model = Model(inputs=[input1,input2], outputs=output)"
   ]
  },
  {
   "cell_type": "code",
   "execution_count": 22,
   "metadata": {},
   "outputs": [
    {
     "name": "stdout",
     "output_type": "stream",
     "text": [
      "__________________________________________________________________________________________________\n",
      "Layer (type)                    Output Shape         Param #     Connected to                     \n",
      "==================================================================================================\n",
      "input1 (InputLayer)             (None, 1064)         0                                            \n",
      "__________________________________________________________________________________________________\n",
      "dense_1 (Dense)                 (None, 512)          545280      input1[0][0]                     \n",
      "__________________________________________________________________________________________________\n",
      "dropout_1 (Dropout)             (None, 512)          0           dense_1[0][0]                    \n",
      "__________________________________________________________________________________________________\n",
      "input2 (InputLayer)             (None, 14)           0                                            \n",
      "__________________________________________________________________________________________________\n",
      "dense_2 (Dense)                 (None, 512)          262656      dropout_1[0][0]                  \n",
      "__________________________________________________________________________________________________\n",
      "embedding_1 (Embedding)         (None, 14, 100)      1102400     input2[0][0]                     \n",
      "__________________________________________________________________________________________________\n",
      "dropout_2 (Dropout)             (None, 512)          0           dense_2[0][0]                    \n",
      "__________________________________________________________________________________________________\n",
      "lstm_1 (LSTM)                   (None, 15)           6960        embedding_1[0][0]                \n",
      "__________________________________________________________________________________________________\n",
      "concatenate_1 (Concatenate)     (None, 527)          0           dropout_2[0][0]                  \n",
      "                                                                 lstm_1[0][0]                     \n",
      "__________________________________________________________________________________________________\n",
      "output (Dense)                  (None, 10)           5280        concatenate_1[0][0]              \n",
      "==================================================================================================\n",
      "Total params: 1,922,576\n",
      "Trainable params: 1,922,576\n",
      "Non-trainable params: 0\n",
      "__________________________________________________________________________________________________\n"
     ]
    }
   ],
   "source": [
    "model.summary()"
   ]
  },
  {
   "cell_type": "code",
   "execution_count": 27,
   "metadata": {},
   "outputs": [],
   "source": [
    "plot_model(model,to_file='combined_model.png')"
   ]
  },
  {
   "cell_type": "code",
   "execution_count": 23,
   "metadata": {},
   "outputs": [],
   "source": [
    "model.compile(loss='categorical_crossentropy', optimizer='adam', metrics=['accuracy'])"
   ]
  },
  {
   "cell_type": "code",
   "execution_count": 24,
   "metadata": {},
   "outputs": [],
   "source": [
    "early_stop = EarlyStopping(monitor='val_loss', patience=50,restore_best_weights=True)"
   ]
  },
  {
   "cell_type": "code",
   "execution_count": 30,
   "metadata": {
    "scrolled": true
   },
   "outputs": [
    {
     "name": "stdout",
     "output_type": "stream",
     "text": [
      "Train on 335176 samples, validate on 165087 samples\n",
      "Epoch 1/500\n",
      "335176/335176 [==============================] - 81s 240us/step - loss: 2.0813 - acc: 0.2117 - val_loss: 2.0188 - val_acc: 0.2310\n",
      "Epoch 2/500\n",
      "335176/335176 [==============================] - 78s 234us/step - loss: 2.0060 - acc: 0.2374 - val_loss: 2.0059 - val_acc: 0.2378\n",
      "Epoch 3/500\n",
      "335176/335176 [==============================] - 78s 233us/step - loss: 1.9792 - acc: 0.2491 - val_loss: 2.0025 - val_acc: 0.2384\n",
      "Epoch 4/500\n",
      "335176/335176 [==============================] - 78s 234us/step - loss: 1.9532 - acc: 0.2614 - val_loss: 2.0050 - val_acc: 0.2375\n",
      "Epoch 5/500\n",
      "335176/335176 [==============================] - 78s 234us/step - loss: 1.9274 - acc: 0.2734 - val_loss: 2.0209 - val_acc: 0.2358\n",
      "Epoch 6/500\n",
      "335176/335176 [==============================] - 78s 234us/step - loss: 1.9012 - acc: 0.2866 - val_loss: 2.0333 - val_acc: 0.2354\n",
      "Epoch 7/500\n",
      "335176/335176 [==============================] - 78s 234us/step - loss: 1.8771 - acc: 0.2966 - val_loss: 2.0433 - val_acc: 0.2348\n",
      "Epoch 8/500\n",
      "335176/335176 [==============================] - 78s 234us/step - loss: 1.8531 - acc: 0.3075 - val_loss: 2.0694 - val_acc: 0.2335\n",
      "Epoch 9/500\n",
      "335176/335176 [==============================] - 78s 234us/step - loss: 1.8307 - acc: 0.3163 - val_loss: 2.0883 - val_acc: 0.2306\n",
      "Epoch 10/500\n",
      "335176/335176 [==============================] - 78s 234us/step - loss: 1.8095 - acc: 0.3254 - val_loss: 2.1126 - val_acc: 0.2288\n",
      "Epoch 11/500\n",
      "335176/335176 [==============================] - 78s 234us/step - loss: 1.7898 - acc: 0.3335 - val_loss: 2.1362 - val_acc: 0.2252\n",
      "Epoch 12/500\n",
      "335176/335176 [==============================] - 78s 234us/step - loss: 1.7721 - acc: 0.3399 - val_loss: 2.1536 - val_acc: 0.2275\n",
      "Epoch 13/500\n",
      "335176/335176 [==============================] - 78s 233us/step - loss: 1.7553 - acc: 0.3474 - val_loss: 2.1709 - val_acc: 0.2275\n",
      "Epoch 14/500\n",
      "335176/335176 [==============================] - 78s 234us/step - loss: 1.7396 - acc: 0.3531 - val_loss: 2.1933 - val_acc: 0.2265\n",
      "Epoch 15/500\n",
      "335176/335176 [==============================] - 78s 234us/step - loss: 1.7252 - acc: 0.3581 - val_loss: 2.2105 - val_acc: 0.2275\n",
      "Epoch 16/500\n",
      "335176/335176 [==============================] - 78s 234us/step - loss: 1.6891 - acc: 0.3729 - val_loss: 2.2747 - val_acc: 0.2254\n",
      "Epoch 19/500\n",
      "335176/335176 [==============================] - 78s 234us/step - loss: 1.6778 - acc: 0.3771 - val_loss: 2.3046 - val_acc: 0.2223\n",
      "Epoch 20/500\n",
      "205184/335176 [=================>............] - ETA: 26s - loss: 1.6528 - acc: 0.3858"
     ]
    },
    {
     "name": "stderr",
     "output_type": "stream",
     "text": [
      "IOPub message rate exceeded.\n",
      "The notebook server will temporarily stop sending output\n",
      "to the client in order to avoid crashing it.\n",
      "To change this limit, set the config variable\n",
      "`--NotebookApp.iopub_msg_rate_limit`.\n",
      "\n",
      "Current values:\n",
      "NotebookApp.iopub_msg_rate_limit=1000.0 (msgs/sec)\n",
      "NotebookApp.rate_limit_window=3.0 (secs)\n",
      "\n"
     ]
    },
    {
     "name": "stdout",
     "output_type": "stream",
     "text": [
      "335176/335176 [==============================] - 78s 234us/step - loss: 1.6494 - acc: 0.3878 - val_loss: 2.3395 - val_acc: 0.2230\n",
      "Epoch 23/500\n",
      "335176/335176 [==============================] - 78s 234us/step - loss: 1.6413 - acc: 0.3903 - val_loss: 2.3635 - val_acc: 0.2216\n",
      "Epoch 24/500\n",
      "335176/335176 [==============================] - 78s 234us/step - loss: 1.6329 - acc: 0.3943 - val_loss: 2.3753 - val_acc: 0.2240\n",
      "Epoch 25/500\n",
      "335176/335176 [==============================] - 78s 234us/step - loss: 1.6245 - acc: 0.3970 - val_loss: 2.3851 - val_acc: 0.2221\n",
      "Epoch 26/500\n",
      "335176/335176 [==============================] - 79s 234us/step - loss: 1.6183 - acc: 0.3989 - val_loss: 2.4026 - val_acc: 0.2217\n",
      "Epoch 27/500\n",
      "335176/335176 [==============================] - 78s 234us/step - loss: 1.6103 - acc: 0.4028 - val_loss: 2.4246 - val_acc: 0.2214\n",
      "Epoch 28/500\n",
      "335176/335176 [==============================] - 78s 234us/step - loss: 1.6042 - acc: 0.4045 - val_loss: 2.4350 - val_acc: 0.2202\n",
      "Epoch 29/500\n",
      "335176/335176 [==============================] - 78s 234us/step - loss: 1.5981 - acc: 0.4068 - val_loss: 2.4458 - val_acc: 0.2196\n",
      "Epoch 30/500\n",
      "335176/335176 [==============================] - 78s 234us/step - loss: 1.5914 - acc: 0.4098 - val_loss: 2.4580 - val_acc: 0.2197\n",
      "Epoch 31/500\n",
      "335176/335176 [==============================] - 78s 234us/step - loss: 1.5860 - acc: 0.4121 - val_loss: 2.4810 - val_acc: 0.2190\n",
      "Epoch 32/500\n",
      "335176/335176 [==============================] - 78s 233us/step - loss: 1.5814 - acc: 0.4140 - val_loss: 2.4832 - val_acc: 0.2192\n",
      "Epoch 33/500\n",
      "335176/335176 [==============================] - 79s 234us/step - loss: 1.5757 - acc: 0.4162 - val_loss: 2.4972 - val_acc: 0.2192\n",
      "Epoch 34/500\n",
      "335176/335176 [==============================] - 78s 233us/step - loss: 1.5698 - acc: 0.4176 - val_loss: 2.5234 - val_acc: 0.2174\n",
      "Epoch 35/500\n",
      "335176/335176 [==============================] - 78s 234us/step - loss: 1.5662 - acc: 0.4201 - val_loss: 2.5189 - val_acc: 0.2178\n",
      "Epoch 36/500\n",
      "335176/335176 [==============================] - 78s 234us/step - loss: 1.5607 - acc: 0.4207 - val_loss: 2.5308 - val_acc: 0.2187\n",
      "Epoch 37/500\n",
      "335176/335176 [==============================] - 78s 234us/step - loss: 1.5570 - acc: 0.4237 - val_loss: 2.5385 - val_acc: 0.2185\n",
      "Epoch 38/500\n",
      "335176/335176 [==============================] - 78s 234us/step - loss: 1.5543 - acc: 0.4243 - val_loss: 2.5629 - val_acc: 0.2174\n",
      "Epoch 39/500\n",
      "335176/335176 [==============================] - 78s 233us/step - loss: 1.5485 - acc: 0.4258 - val_loss: 2.5625 - val_acc: 0.2183\n",
      "Epoch 40/500\n",
      "335176/335176 [==============================] - 78s 234us/step - loss: 1.5439 - acc: 0.4274 - val_loss: 2.5725 - val_acc: 0.2168\n",
      "Epoch 41/500\n",
      "335176/335176 [==============================] - 78s 234us/step - loss: 1.5395 - acc: 0.4293 - val_loss: 2.5873 - val_acc: 0.2170\n",
      "Epoch 42/500\n",
      "335176/335176 [==============================] - 78s 234us/step - loss: 1.5374 - acc: 0.4304 - val_loss: 2.6014 - val_acc: 0.2178\n",
      "Epoch 43/500\n",
      "335176/335176 [==============================] - 78s 234us/step - loss: 1.5336 - acc: 0.4319 - val_loss: 2.6026 - val_acc: 0.2143\n",
      "Epoch 44/500\n",
      "335176/335176 [==============================] - 78s 234us/step - loss: 1.5307 - acc: 0.4324 - val_loss: 2.6031 - val_acc: 0.2169\n",
      "Epoch 45/500\n",
      "335176/335176 [==============================] - 78s 234us/step - loss: 1.5266 - acc: 0.4344 - val_loss: 2.6171 - val_acc: 0.2173\n",
      "Epoch 46/500\n",
      "335176/335176 [==============================] - 78s 234us/step - loss: 1.5236 - acc: 0.4361 - val_loss: 2.6228 - val_acc: 0.2162\n",
      "Epoch 47/500\n",
      "335176/335176 [==============================] - 78s 233us/step - loss: 1.5201 - acc: 0.4361 - val_loss: 2.6295 - val_acc: 0.2147\n",
      "Epoch 48/500\n",
      "335176/335176 [==============================] - 78s 233us/step - loss: 1.5184 - acc: 0.4377 - val_loss: 2.6433 - val_acc: 0.2146\n",
      "Epoch 49/500\n",
      "335176/335176 [==============================] - 79s 234us/step - loss: 1.5144 - acc: 0.4385 - val_loss: 2.6452 - val_acc: 0.2174\n",
      "Epoch 50/500\n",
      "335176/335176 [==============================] - 78s 234us/step - loss: 1.5121 - acc: 0.4398 - val_loss: 2.6533 - val_acc: 0.2169\n",
      "Epoch 51/500\n",
      "335176/335176 [==============================] - 78s 234us/step - loss: 1.5105 - acc: 0.4398 - val_loss: 2.6630 - val_acc: 0.2140\n",
      "Epoch 52/500\n",
      "335176/335176 [==============================] - 78s 234us/step - loss: 1.5073 - acc: 0.4423 - val_loss: 2.6731 - val_acc: 0.2153\n",
      "Epoch 53/500\n",
      "335176/335176 [==============================] - 78s 234us/step - loss: 1.5041 - acc: 0.4428 - val_loss: 2.6856 - val_acc: 0.2141\n"
     ]
    },
    {
     "data": {
      "text/plain": [
       "<keras.callbacks.History at 0x7f58259e4ef0>"
      ]
     },
     "execution_count": 30,
     "metadata": {},
     "output_type": "execute_result"
    }
   ],
   "source": [
    "model.fit({'input1':X1_train,'input2':np.stack(X2_train, axis=0)},\n",
    "          {'output':y_train.values},\n",
    "          validation_data=({'input1':X1_val,'input2':np.stack(X2_val, axis=0)},{'output':y_val.values}),\n",
    "         callbacks=[early_stop],epochs=500, batch_size=128,verbose=1)"
   ]
  },
  {
   "cell_type": "code",
   "execution_count": null,
   "metadata": {},
   "outputs": [],
   "source": []
  },
  {
   "cell_type": "code",
   "execution_count": null,
   "metadata": {},
   "outputs": [],
   "source": []
  },
  {
   "cell_type": "markdown",
   "metadata": {},
   "source": [
    "# Calculating Test Accuracy"
   ]
  },
  {
   "cell_type": "code",
   "execution_count": 34,
   "metadata": {},
   "outputs": [],
   "source": [
    "test2017_preds_proba = model.predict({'input1':test2017_x1,'input2':np.stack(test2017_x2, axis=0)})"
   ]
  },
  {
   "cell_type": "code",
   "execution_count": 40,
   "metadata": {},
   "outputs": [],
   "source": [
    "test2017_preds = np.argmax(test2017_preds_proba,axis=1)"
   ]
  },
  {
   "cell_type": "code",
   "execution_count": 41,
   "metadata": {},
   "outputs": [],
   "source": [
    "mapping_dict = {0:'a',1:'b',2:'c',3:'d',4:'e',5:'f',6:'g',7:'h',8:'i',9:'j'}"
   ]
  },
  {
   "cell_type": "code",
   "execution_count": 42,
   "metadata": {},
   "outputs": [],
   "source": [
    "test2017_preds_names = pd.Series(test2017_preds).map(mapping_dict)"
   ]
  },
  {
   "cell_type": "code",
   "execution_count": 44,
   "metadata": {},
   "outputs": [],
   "source": [
    "from sklearn.metrics import accuracy_score"
   ]
  },
  {
   "cell_type": "code",
   "execution_count": 45,
   "metadata": {},
   "outputs": [
    {
     "data": {
      "text/plain": [
       "0.23186984538503447"
      ]
     },
     "execution_count": 45,
     "metadata": {},
     "output_type": "execute_result"
    }
   ],
   "source": [
    "accuracy_score(test2017_y,test2017_preds_names)"
   ]
  }
 ],
 "metadata": {
  "kernelspec": {
   "display_name": "Python 3",
   "language": "python",
   "name": "python3"
  },
  "language_info": {
   "codemirror_mode": {
    "name": "ipython",
    "version": 3
   },
   "file_extension": ".py",
   "mimetype": "text/x-python",
   "name": "python",
   "nbconvert_exporter": "python",
   "pygments_lexer": "ipython3",
   "version": "3.5.6"
  }
 },
 "nbformat": 4,
 "nbformat_minor": 2
}

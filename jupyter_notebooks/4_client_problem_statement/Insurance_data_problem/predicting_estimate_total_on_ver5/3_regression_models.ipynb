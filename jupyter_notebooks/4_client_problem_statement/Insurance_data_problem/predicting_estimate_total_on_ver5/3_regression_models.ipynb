{
 "cells": [
  {
   "cell_type": "code",
   "execution_count": 1,
   "metadata": {},
   "outputs": [],
   "source": [
    "import pandas as pd\n",
    "import numpy as np\n",
    "pd.set_option('display.float_format', lambda x: '%.3f' % x)"
   ]
  },
  {
   "cell_type": "markdown",
   "metadata": {},
   "source": [
    "# Reading Data"
   ]
  },
  {
   "cell_type": "code",
   "execution_count": 2,
   "metadata": {},
   "outputs": [
    {
     "name": "stderr",
     "output_type": "stream",
     "text": [
      "/home/ubuntu/insurance_izenda_analysis/insurace_izenda/lib/python3.5/site-packages/IPython/core/interactiveshell.py:3020: DtypeWarning: Columns (4) have mixed types. Specify dtype option on import or set low_memory=False.\n",
      "  interactivity=interactivity, compiler=compiler, result=result)\n"
     ]
    }
   ],
   "source": [
    "cleaned = pd.read_csv('datasets/cleaned_Izends_Data_Thru201712_ver5.csv',index_col=0)"
   ]
  },
  {
   "cell_type": "code",
   "execution_count": 3,
   "metadata": {},
   "outputs": [
    {
     "data": {
      "text/html": [
       "<div>\n",
       "<style scoped>\n",
       "    .dataframe tbody tr th:only-of-type {\n",
       "        vertical-align: middle;\n",
       "    }\n",
       "\n",
       "    .dataframe tbody tr th {\n",
       "        vertical-align: top;\n",
       "    }\n",
       "\n",
       "    .dataframe thead th {\n",
       "        text-align: right;\n",
       "    }\n",
       "</style>\n",
       "<table border=\"1\" class=\"dataframe\">\n",
       "  <thead>\n",
       "    <tr style=\"text-align: right;\">\n",
       "      <th></th>\n",
       "      <th>DisplayName</th>\n",
       "      <th>DivisionName</th>\n",
       "      <th>City</th>\n",
       "      <th>Zip</th>\n",
       "      <th>State</th>\n",
       "      <th>LossYearMo</th>\n",
       "      <th>StartedFlag</th>\n",
       "      <th>CommOrRes</th>\n",
       "      <th>NoteCount</th>\n",
       "      <th>PhotoCount</th>\n",
       "      <th>...</th>\n",
       "      <th>Estimate_MaterialSaleTax</th>\n",
       "      <th>Estimate_OverHead</th>\n",
       "      <th>Estimate_Profit</th>\n",
       "      <th>Estimate_PctOverhead</th>\n",
       "      <th>Estimate_PctProfit</th>\n",
       "      <th>Estimate_Deductible</th>\n",
       "      <th>Estimate_BaseSvcCharge</th>\n",
       "      <th>CleanAddressFranchisorID</th>\n",
       "      <th>CleanAddressContactID</th>\n",
       "      <th>LossMo</th>\n",
       "    </tr>\n",
       "  </thead>\n",
       "  <tbody>\n",
       "  </tbody>\n",
       "</table>\n",
       "<p>0 rows × 26 columns</p>\n",
       "</div>"
      ],
      "text/plain": [
       "Empty DataFrame\n",
       "Columns: [DisplayName, DivisionName, City, Zip, State, LossYearMo, StartedFlag, CommOrRes, NoteCount, PhotoCount, JobCount, ClaimCount, EstimateTotal, PolicyHolderType, LossDescription, Estimate_NetClaim, Estimate_MaterialSaleTax, Estimate_OverHead, Estimate_Profit, Estimate_PctOverhead, Estimate_PctProfit, Estimate_Deductible, Estimate_BaseSvcCharge, CleanAddressFranchisorID, CleanAddressContactID, LossMo]\n",
       "Index: []\n",
       "\n",
       "[0 rows x 26 columns]"
      ]
     },
     "execution_count": 3,
     "metadata": {},
     "output_type": "execute_result"
    }
   ],
   "source": [
    "cleaned[cleaned['EstimateTotal'] < 0]"
   ]
  },
  {
   "cell_type": "code",
   "execution_count": 4,
   "metadata": {},
   "outputs": [
    {
     "data": {
      "text/html": [
       "<div>\n",
       "<style scoped>\n",
       "    .dataframe tbody tr th:only-of-type {\n",
       "        vertical-align: middle;\n",
       "    }\n",
       "\n",
       "    .dataframe tbody tr th {\n",
       "        vertical-align: top;\n",
       "    }\n",
       "\n",
       "    .dataframe thead th {\n",
       "        text-align: right;\n",
       "    }\n",
       "</style>\n",
       "<table border=\"1\" class=\"dataframe\">\n",
       "  <thead>\n",
       "    <tr style=\"text-align: right;\">\n",
       "      <th></th>\n",
       "      <th>DisplayName</th>\n",
       "      <th>DivisionName</th>\n",
       "      <th>City</th>\n",
       "      <th>Zip</th>\n",
       "      <th>State</th>\n",
       "      <th>LossYearMo</th>\n",
       "      <th>StartedFlag</th>\n",
       "      <th>CommOrRes</th>\n",
       "      <th>NoteCount</th>\n",
       "      <th>PhotoCount</th>\n",
       "      <th>...</th>\n",
       "      <th>Estimate_MaterialSaleTax</th>\n",
       "      <th>Estimate_OverHead</th>\n",
       "      <th>Estimate_Profit</th>\n",
       "      <th>Estimate_PctOverhead</th>\n",
       "      <th>Estimate_PctProfit</th>\n",
       "      <th>Estimate_Deductible</th>\n",
       "      <th>Estimate_BaseSvcCharge</th>\n",
       "      <th>CleanAddressFranchisorID</th>\n",
       "      <th>CleanAddressContactID</th>\n",
       "      <th>LossMo</th>\n",
       "    </tr>\n",
       "  </thead>\n",
       "  <tbody>\n",
       "    <tr>\n",
       "      <th>2</th>\n",
       "      <td>Consulting</td>\n",
       "      <td>Inventory</td>\n",
       "      <td>dallas</td>\n",
       "      <td>75243</td>\n",
       "      <td>TX</td>\n",
       "      <td>201712</td>\n",
       "      <td>0</td>\n",
       "      <td>Residential</td>\n",
       "      <td>1.000</td>\n",
       "      <td>0</td>\n",
       "      <td>...</td>\n",
       "      <td>0</td>\n",
       "      <td>0</td>\n",
       "      <td>0</td>\n",
       "      <td>0</td>\n",
       "      <td>0</td>\n",
       "      <td>0</td>\n",
       "      <td>0</td>\n",
       "      <td>7</td>\n",
       "      <td>66150</td>\n",
       "      <td>12</td>\n",
       "    </tr>\n",
       "    <tr>\n",
       "      <th>12</th>\n",
       "      <td>Contents</td>\n",
       "      <td>Lyons Textile Restoration</td>\n",
       "      <td>charlotte</td>\n",
       "      <td>28227</td>\n",
       "      <td>NC</td>\n",
       "      <td>201405</td>\n",
       "      <td>0</td>\n",
       "      <td>Residential</td>\n",
       "      <td>20.000</td>\n",
       "      <td>99</td>\n",
       "      <td>...</td>\n",
       "      <td>0</td>\n",
       "      <td>0</td>\n",
       "      <td>0</td>\n",
       "      <td>0</td>\n",
       "      <td>0</td>\n",
       "      <td>0</td>\n",
       "      <td>0</td>\n",
       "      <td>7</td>\n",
       "      <td>2058</td>\n",
       "      <td>5</td>\n",
       "    </tr>\n",
       "    <tr>\n",
       "      <th>20</th>\n",
       "      <td>Contents</td>\n",
       "      <td>Lyons Textile Restoration</td>\n",
       "      <td>statesville</td>\n",
       "      <td>28677</td>\n",
       "      <td>NC</td>\n",
       "      <td>201410</td>\n",
       "      <td>0</td>\n",
       "      <td>Residential</td>\n",
       "      <td>7.000</td>\n",
       "      <td>6</td>\n",
       "      <td>...</td>\n",
       "      <td>0</td>\n",
       "      <td>0</td>\n",
       "      <td>0</td>\n",
       "      <td>0</td>\n",
       "      <td>0</td>\n",
       "      <td>0</td>\n",
       "      <td>0</td>\n",
       "      <td>7</td>\n",
       "      <td>3658</td>\n",
       "      <td>10</td>\n",
       "    </tr>\n",
       "    <tr>\n",
       "      <th>21</th>\n",
       "      <td>Contents</td>\n",
       "      <td>Lyons Textile Restoration</td>\n",
       "      <td>woodruff</td>\n",
       "      <td>29388</td>\n",
       "      <td>SC</td>\n",
       "      <td>201410</td>\n",
       "      <td>1</td>\n",
       "      <td>Residential</td>\n",
       "      <td>18.000</td>\n",
       "      <td>81</td>\n",
       "      <td>...</td>\n",
       "      <td>0</td>\n",
       "      <td>0</td>\n",
       "      <td>0</td>\n",
       "      <td>0</td>\n",
       "      <td>0</td>\n",
       "      <td>0</td>\n",
       "      <td>0</td>\n",
       "      <td>7</td>\n",
       "      <td>3704</td>\n",
       "      <td>10</td>\n",
       "    </tr>\n",
       "    <tr>\n",
       "      <th>25</th>\n",
       "      <td>Contents</td>\n",
       "      <td>Lyons Textile Restoration</td>\n",
       "      <td>hillsborough</td>\n",
       "      <td>27278</td>\n",
       "      <td>NC</td>\n",
       "      <td>201412</td>\n",
       "      <td>1</td>\n",
       "      <td>Residential</td>\n",
       "      <td>25.000</td>\n",
       "      <td>109</td>\n",
       "      <td>...</td>\n",
       "      <td>0</td>\n",
       "      <td>0</td>\n",
       "      <td>0</td>\n",
       "      <td>0</td>\n",
       "      <td>0</td>\n",
       "      <td>0</td>\n",
       "      <td>0</td>\n",
       "      <td>7</td>\n",
       "      <td>4139</td>\n",
       "      <td>12</td>\n",
       "    </tr>\n",
       "  </tbody>\n",
       "</table>\n",
       "<p>5 rows × 26 columns</p>\n",
       "</div>"
      ],
      "text/plain": [
       "   DisplayName               DivisionName          City    Zip State  \\\n",
       "2   Consulting                  Inventory        dallas  75243    TX   \n",
       "12    Contents  Lyons Textile Restoration     charlotte  28227    NC   \n",
       "20    Contents  Lyons Textile Restoration   statesville  28677    NC   \n",
       "21    Contents  Lyons Textile Restoration      woodruff  29388    SC   \n",
       "25    Contents  Lyons Textile Restoration  hillsborough  27278    NC   \n",
       "\n",
       "    LossYearMo  StartedFlag    CommOrRes  NoteCount  PhotoCount   ...    \\\n",
       "2       201712            0  Residential      1.000           0   ...     \n",
       "12      201405            0  Residential     20.000          99   ...     \n",
       "20      201410            0  Residential      7.000           6   ...     \n",
       "21      201410            1  Residential     18.000          81   ...     \n",
       "25      201412            1  Residential     25.000         109   ...     \n",
       "\n",
       "    Estimate_MaterialSaleTax  Estimate_OverHead  Estimate_Profit  \\\n",
       "2                          0                  0                0   \n",
       "12                         0                  0                0   \n",
       "20                         0                  0                0   \n",
       "21                         0                  0                0   \n",
       "25                         0                  0                0   \n",
       "\n",
       "   Estimate_PctOverhead Estimate_PctProfit  Estimate_Deductible  \\\n",
       "2                     0                  0                    0   \n",
       "12                    0                  0                    0   \n",
       "20                    0                  0                    0   \n",
       "21                    0                  0                    0   \n",
       "25                    0                  0                    0   \n",
       "\n",
       "    Estimate_BaseSvcCharge  CleanAddressFranchisorID  CleanAddressContactID  \\\n",
       "2                        0                         7                  66150   \n",
       "12                       0                         7                   2058   \n",
       "20                       0                         7                   3658   \n",
       "21                       0                         7                   3704   \n",
       "25                       0                         7                   4139   \n",
       "\n",
       "    LossMo  \n",
       "2       12  \n",
       "12       5  \n",
       "20      10  \n",
       "21      10  \n",
       "25      12  \n",
       "\n",
       "[5 rows x 26 columns]"
      ]
     },
     "execution_count": 4,
     "metadata": {},
     "output_type": "execute_result"
    }
   ],
   "source": [
    "cleaned.head()"
   ]
  },
  {
   "cell_type": "code",
   "execution_count": null,
   "metadata": {},
   "outputs": [],
   "source": []
  },
  {
   "cell_type": "markdown",
   "metadata": {},
   "source": [
    "# MODEL 1(XGBoost)\n",
    "\n",
    "## Using the following features:\n",
    "    \n",
    "1) CommOrRes  \n",
    "2) JobCount  \n",
    "3) ClaimCount  \n",
    "4) NoteCount  \n",
    "5) PhotoCount  \n",
    "6) PolicyHolderType  "
   ]
  },
  {
   "cell_type": "markdown",
   "metadata": {},
   "source": [
    "#### Making Dummies"
   ]
  },
  {
   "cell_type": "code",
   "execution_count": 5,
   "metadata": {},
   "outputs": [],
   "source": [
    "cleaned_XY = cleaned[['CommOrRes','PolicyHolderType','NoteCount','PhotoCount','JobCount','ClaimCount','EstimateTotal','LossYearMo']]"
   ]
  },
  {
   "cell_type": "code",
   "execution_count": 6,
   "metadata": {},
   "outputs": [
    {
     "data": {
      "text/plain": [
       "(CommOrRes                3\n",
       " PolicyHolderType         2\n",
       " NoteCount              378\n",
       " PhotoCount            1313\n",
       " JobCount                21\n",
       " ClaimCount               8\n",
       " EstimateTotal       506482\n",
       " LossYearMo             177\n",
       " dtype: int64, CommOrRes            object\n",
       " PolicyHolderType     object\n",
       " NoteCount           float64\n",
       " PhotoCount            int64\n",
       " JobCount              int64\n",
       " ClaimCount            int64\n",
       " EstimateTotal       float64\n",
       " LossYearMo            int64\n",
       " dtype: object)"
      ]
     },
     "execution_count": 6,
     "metadata": {},
     "output_type": "execute_result"
    }
   ],
   "source": [
    "cleaned_XY.nunique(), cleaned_XY.dtypes"
   ]
  },
  {
   "cell_type": "code",
   "execution_count": 7,
   "metadata": {},
   "outputs": [],
   "source": [
    "cleaned_XY_dummies = pd.get_dummies(cleaned_XY,sparse=True)"
   ]
  },
  {
   "cell_type": "code",
   "execution_count": null,
   "metadata": {},
   "outputs": [],
   "source": []
  },
  {
   "cell_type": "markdown",
   "metadata": {},
   "source": [
    "#### Separating 2017 Test Data"
   ]
  },
  {
   "cell_type": "code",
   "execution_count": 9,
   "metadata": {
    "scrolled": true
   },
   "outputs": [],
   "source": [
    "test2017=cleaned_XY_dummies[cleaned_XY_dummies[\"LossYearMo\"].apply(lambda x:x>=201701)]"
   ]
  },
  {
   "cell_type": "code",
   "execution_count": 10,
   "metadata": {},
   "outputs": [],
   "source": [
    "learning=cleaned_XY_dummies[cleaned_XY_dummies[\"LossYearMo\"].apply(lambda x:x<201701)]"
   ]
  },
  {
   "cell_type": "code",
   "execution_count": 11,
   "metadata": {},
   "outputs": [
    {
     "data": {
      "text/plain": [
       "Index(['NoteCount', 'PhotoCount', 'JobCount', 'ClaimCount', 'EstimateTotal',\n",
       "       'LossYearMo', 'CommOrRes_Commercial', 'CommOrRes_Other',\n",
       "       'CommOrRes_Residential', 'PolicyHolderType_Company',\n",
       "       'PolicyHolderType_Individual'],\n",
       "      dtype='object')"
      ]
     },
     "execution_count": 11,
     "metadata": {},
     "output_type": "execute_result"
    }
   ],
   "source": [
    "learning.columns"
   ]
  },
  {
   "cell_type": "code",
   "execution_count": 12,
   "metadata": {},
   "outputs": [],
   "source": [
    "X = learning[learning.columns.difference(['LossYearMo','EstimateTotal'])]"
   ]
  },
  {
   "cell_type": "code",
   "execution_count": 13,
   "metadata": {},
   "outputs": [
    {
     "data": {
      "text/html": [
       "<div>\n",
       "<style scoped>\n",
       "    .dataframe tbody tr th:only-of-type {\n",
       "        vertical-align: middle;\n",
       "    }\n",
       "\n",
       "    .dataframe tbody tr th {\n",
       "        vertical-align: top;\n",
       "    }\n",
       "\n",
       "    .dataframe thead th {\n",
       "        text-align: right;\n",
       "    }\n",
       "</style>\n",
       "<table border=\"1\" class=\"dataframe\">\n",
       "  <thead>\n",
       "    <tr style=\"text-align: right;\">\n",
       "      <th></th>\n",
       "      <th>ClaimCount</th>\n",
       "      <th>CommOrRes_Commercial</th>\n",
       "      <th>CommOrRes_Other</th>\n",
       "      <th>CommOrRes_Residential</th>\n",
       "      <th>JobCount</th>\n",
       "      <th>NoteCount</th>\n",
       "      <th>PhotoCount</th>\n",
       "      <th>PolicyHolderType_Company</th>\n",
       "      <th>PolicyHolderType_Individual</th>\n",
       "    </tr>\n",
       "  </thead>\n",
       "  <tbody>\n",
       "    <tr>\n",
       "      <th>12</th>\n",
       "      <td>1</td>\n",
       "      <td>0</td>\n",
       "      <td>0</td>\n",
       "      <td>1</td>\n",
       "      <td>1</td>\n",
       "      <td>20.000</td>\n",
       "      <td>99</td>\n",
       "      <td>0</td>\n",
       "      <td>1</td>\n",
       "    </tr>\n",
       "    <tr>\n",
       "      <th>20</th>\n",
       "      <td>1</td>\n",
       "      <td>0</td>\n",
       "      <td>0</td>\n",
       "      <td>1</td>\n",
       "      <td>1</td>\n",
       "      <td>7.000</td>\n",
       "      <td>6</td>\n",
       "      <td>0</td>\n",
       "      <td>1</td>\n",
       "    </tr>\n",
       "    <tr>\n",
       "      <th>21</th>\n",
       "      <td>1</td>\n",
       "      <td>0</td>\n",
       "      <td>0</td>\n",
       "      <td>1</td>\n",
       "      <td>1</td>\n",
       "      <td>18.000</td>\n",
       "      <td>81</td>\n",
       "      <td>0</td>\n",
       "      <td>1</td>\n",
       "    </tr>\n",
       "    <tr>\n",
       "      <th>25</th>\n",
       "      <td>1</td>\n",
       "      <td>0</td>\n",
       "      <td>0</td>\n",
       "      <td>1</td>\n",
       "      <td>1</td>\n",
       "      <td>25.000</td>\n",
       "      <td>109</td>\n",
       "      <td>0</td>\n",
       "      <td>1</td>\n",
       "    </tr>\n",
       "    <tr>\n",
       "      <th>26</th>\n",
       "      <td>1</td>\n",
       "      <td>0</td>\n",
       "      <td>0</td>\n",
       "      <td>1</td>\n",
       "      <td>1</td>\n",
       "      <td>16.000</td>\n",
       "      <td>49</td>\n",
       "      <td>0</td>\n",
       "      <td>1</td>\n",
       "    </tr>\n",
       "  </tbody>\n",
       "</table>\n",
       "</div>"
      ],
      "text/plain": [
       "    ClaimCount  CommOrRes_Commercial  CommOrRes_Other  CommOrRes_Residential  \\\n",
       "12           1                     0                0                      1   \n",
       "20           1                     0                0                      1   \n",
       "21           1                     0                0                      1   \n",
       "25           1                     0                0                      1   \n",
       "26           1                     0                0                      1   \n",
       "\n",
       "    JobCount  NoteCount  PhotoCount  PolicyHolderType_Company  \\\n",
       "12         1     20.000          99                         0   \n",
       "20         1      7.000           6                         0   \n",
       "21         1     18.000          81                         0   \n",
       "25         1     25.000         109                         0   \n",
       "26         1     16.000          49                         0   \n",
       "\n",
       "    PolicyHolderType_Individual  \n",
       "12                            1  \n",
       "20                            1  \n",
       "21                            1  \n",
       "25                            1  \n",
       "26                            1  "
      ]
     },
     "execution_count": 13,
     "metadata": {},
     "output_type": "execute_result"
    }
   ],
   "source": [
    "X.head()"
   ]
  },
  {
   "cell_type": "code",
   "execution_count": 14,
   "metadata": {},
   "outputs": [],
   "source": [
    "y_bins = learning['EstimateTotal']"
   ]
  },
  {
   "cell_type": "code",
   "execution_count": 15,
   "metadata": {},
   "outputs": [
    {
     "data": {
      "text/plain": [
       "12    5149.060\n",
       "20     211.520\n",
       "21    5010.550\n",
       "25   11523.380\n",
       "26     895.130\n",
       "Name: EstimateTotal, dtype: float64"
      ]
     },
     "execution_count": 15,
     "metadata": {},
     "output_type": "execute_result"
    }
   ],
   "source": [
    "y_bins.head()"
   ]
  },
  {
   "cell_type": "code",
   "execution_count": null,
   "metadata": {},
   "outputs": [],
   "source": []
  },
  {
   "cell_type": "code",
   "execution_count": 16,
   "metadata": {},
   "outputs": [],
   "source": [
    "from sklearn.model_selection import train_test_split\n",
    "X_train, X_val, y_train, y_val = train_test_split(X, y_bins, test_size=0.33, random_state=42)"
   ]
  },
  {
   "cell_type": "code",
   "execution_count": 17,
   "metadata": {},
   "outputs": [],
   "source": [
    "test2017_X = test2017[test2017.columns.difference(['LossYearMo','EstimateTotal'])]"
   ]
  },
  {
   "cell_type": "code",
   "execution_count": 19,
   "metadata": {},
   "outputs": [],
   "source": [
    "test2017_y = test2017['EstimateTotal']"
   ]
  },
  {
   "cell_type": "code",
   "execution_count": null,
   "metadata": {},
   "outputs": [],
   "source": []
  },
  {
   "cell_type": "markdown",
   "metadata": {},
   "source": [
    "#### Modelling"
   ]
  },
  {
   "cell_type": "code",
   "execution_count": 20,
   "metadata": {},
   "outputs": [],
   "source": [
    "import xgboost as xgb\n",
    "from xgboost.sklearn import XGBRegressor"
   ]
  },
  {
   "cell_type": "code",
   "execution_count": 21,
   "metadata": {},
   "outputs": [],
   "source": [
    "alg = XGBRegressor( colsample_bytree=0.8, gamma=0, learning_rate=0.1,\n",
    "    max_depth=5, min_child_weight=1, n_estimators=5000, objective=\"reg:linear\",\n",
    "    reg_alpha=0, reg_lambda=0,\n",
    "    seed=7, silent=True, subsample=0.8,n_jobs=-1)"
   ]
  },
  {
   "cell_type": "code",
   "execution_count": 22,
   "metadata": {},
   "outputs": [],
   "source": [
    "eval_set = [(X_val,y_val)]"
   ]
  },
  {
   "cell_type": "code",
   "execution_count": 23,
   "metadata": {
    "scrolled": true
   },
   "outputs": [
    {
     "name": "stdout",
     "output_type": "stream",
     "text": [
      "[0]\tvalidation_0-rmse:8902.4\n",
      "Will train until validation_0-rmse hasn't improved in 50 rounds.\n",
      "[1]\tvalidation_0-rmse:8578.52\n",
      "[2]\tvalidation_0-rmse:8305.14\n",
      "[3]\tvalidation_0-rmse:8076.28\n",
      "[4]\tvalidation_0-rmse:7884.21\n",
      "[5]\tvalidation_0-rmse:7725.07\n",
      "[6]\tvalidation_0-rmse:7603.35\n",
      "[7]\tvalidation_0-rmse:7493.74\n",
      "[8]\tvalidation_0-rmse:7403.05\n",
      "[9]\tvalidation_0-rmse:7327.86\n",
      "[10]\tvalidation_0-rmse:7265.56\n",
      "[11]\tvalidation_0-rmse:7212.59\n",
      "[12]\tvalidation_0-rmse:7169.46\n",
      "[13]\tvalidation_0-rmse:7137.8\n",
      "[14]\tvalidation_0-rmse:7108.83\n",
      "[15]\tvalidation_0-rmse:7085.25\n",
      "[16]\tvalidation_0-rmse:7065.07\n",
      "[17]\tvalidation_0-rmse:7050.31\n",
      "[18]\tvalidation_0-rmse:7036.97\n",
      "[19]\tvalidation_0-rmse:7026.17\n",
      "[20]\tvalidation_0-rmse:7017.69\n",
      "[21]\tvalidation_0-rmse:7010.03\n",
      "[22]\tvalidation_0-rmse:7005.5\n",
      "[23]\tvalidation_0-rmse:7000.54\n",
      "[24]\tvalidation_0-rmse:6996.58\n",
      "[25]\tvalidation_0-rmse:6992.35\n",
      "[26]\tvalidation_0-rmse:6988.27\n",
      "[27]\tvalidation_0-rmse:6984.62\n",
      "[28]\tvalidation_0-rmse:6982.74\n",
      "[29]\tvalidation_0-rmse:6980.19\n",
      "[30]\tvalidation_0-rmse:6978.28\n",
      "[31]\tvalidation_0-rmse:6976.56\n",
      "[32]\tvalidation_0-rmse:6974.77\n",
      "[33]\tvalidation_0-rmse:6972.92\n",
      "[34]\tvalidation_0-rmse:6972.2\n",
      "[35]\tvalidation_0-rmse:6971.55\n",
      "[36]\tvalidation_0-rmse:6970.91\n",
      "[37]\tvalidation_0-rmse:6970.5\n",
      "[38]\tvalidation_0-rmse:6969.95\n",
      "[39]\tvalidation_0-rmse:6969.68\n",
      "[40]\tvalidation_0-rmse:6969.39\n",
      "[41]\tvalidation_0-rmse:6968.54\n",
      "[42]\tvalidation_0-rmse:6968.07\n",
      "[43]\tvalidation_0-rmse:6967.82\n",
      "[44]\tvalidation_0-rmse:6967.6\n",
      "[45]\tvalidation_0-rmse:6967.25\n",
      "[46]\tvalidation_0-rmse:6967.03\n",
      "[47]\tvalidation_0-rmse:6966.89\n",
      "[48]\tvalidation_0-rmse:6966.74\n",
      "[49]\tvalidation_0-rmse:6966.45\n",
      "[50]\tvalidation_0-rmse:6966.45\n",
      "[51]\tvalidation_0-rmse:6966.24\n",
      "[52]\tvalidation_0-rmse:6965.53\n",
      "[53]\tvalidation_0-rmse:6965.53\n",
      "[54]\tvalidation_0-rmse:6964.97\n",
      "[55]\tvalidation_0-rmse:6964.8\n",
      "[56]\tvalidation_0-rmse:6964.67\n",
      "[57]\tvalidation_0-rmse:6964.53\n",
      "[58]\tvalidation_0-rmse:6964.48\n",
      "[59]\tvalidation_0-rmse:6964.2\n",
      "[60]\tvalidation_0-rmse:6964.24\n",
      "[61]\tvalidation_0-rmse:6964.12\n",
      "[62]\tvalidation_0-rmse:6963.99\n",
      "[63]\tvalidation_0-rmse:6963.96\n",
      "[64]\tvalidation_0-rmse:6964.06\n",
      "[65]\tvalidation_0-rmse:6964.03\n",
      "[66]\tvalidation_0-rmse:6964.02\n",
      "[67]\tvalidation_0-rmse:6963.71\n",
      "[68]\tvalidation_0-rmse:6963.67\n",
      "[69]\tvalidation_0-rmse:6963.74\n",
      "[70]\tvalidation_0-rmse:6963.66\n",
      "[71]\tvalidation_0-rmse:6963.75\n",
      "[72]\tvalidation_0-rmse:6963.77\n",
      "[73]\tvalidation_0-rmse:6963.79\n",
      "[74]\tvalidation_0-rmse:6963.57\n",
      "[75]\tvalidation_0-rmse:6963.54\n",
      "[76]\tvalidation_0-rmse:6963.49\n",
      "[77]\tvalidation_0-rmse:6963.35\n",
      "[78]\tvalidation_0-rmse:6963.42\n",
      "[79]\tvalidation_0-rmse:6963.41\n",
      "[80]\tvalidation_0-rmse:6963.46\n",
      "[81]\tvalidation_0-rmse:6963.4\n",
      "[82]\tvalidation_0-rmse:6963.37\n",
      "[83]\tvalidation_0-rmse:6963.25\n",
      "[84]\tvalidation_0-rmse:6963.26\n",
      "[85]\tvalidation_0-rmse:6963.34\n",
      "[86]\tvalidation_0-rmse:6963.35\n",
      "[87]\tvalidation_0-rmse:6963.09\n",
      "[88]\tvalidation_0-rmse:6963.1\n",
      "[89]\tvalidation_0-rmse:6963.22\n",
      "[90]\tvalidation_0-rmse:6963.16\n",
      "[91]\tvalidation_0-rmse:6963.06\n",
      "[92]\tvalidation_0-rmse:6963.02\n",
      "[93]\tvalidation_0-rmse:6962.95\n",
      "[94]\tvalidation_0-rmse:6962.99\n",
      "[95]\tvalidation_0-rmse:6962.78\n",
      "[96]\tvalidation_0-rmse:6962.79\n",
      "[97]\tvalidation_0-rmse:6962.54\n",
      "[98]\tvalidation_0-rmse:6962.5\n",
      "[99]\tvalidation_0-rmse:6962.64\n",
      "[100]\tvalidation_0-rmse:6962.72\n",
      "[101]\tvalidation_0-rmse:6963.14\n",
      "[102]\tvalidation_0-rmse:6963.1\n",
      "[103]\tvalidation_0-rmse:6963.18\n",
      "[104]\tvalidation_0-rmse:6963.38\n",
      "[105]\tvalidation_0-rmse:6963.38\n",
      "[106]\tvalidation_0-rmse:6963.45\n",
      "[107]\tvalidation_0-rmse:6963.43\n",
      "[108]\tvalidation_0-rmse:6963.61\n",
      "[109]\tvalidation_0-rmse:6963.81\n",
      "[110]\tvalidation_0-rmse:6964.09\n",
      "[111]\tvalidation_0-rmse:6964.07\n",
      "[112]\tvalidation_0-rmse:6964.09\n",
      "[113]\tvalidation_0-rmse:6964.14\n",
      "[114]\tvalidation_0-rmse:6964.18\n",
      "[115]\tvalidation_0-rmse:6964.13\n",
      "[116]\tvalidation_0-rmse:6964.21\n",
      "[117]\tvalidation_0-rmse:6964.26\n",
      "[118]\tvalidation_0-rmse:6964.32\n",
      "[119]\tvalidation_0-rmse:6964.34\n",
      "[120]\tvalidation_0-rmse:6964.37\n",
      "[121]\tvalidation_0-rmse:6964.37\n",
      "[122]\tvalidation_0-rmse:6964.37\n",
      "[123]\tvalidation_0-rmse:6964.4\n",
      "[124]\tvalidation_0-rmse:6964.46\n",
      "[125]\tvalidation_0-rmse:6964.4\n",
      "[126]\tvalidation_0-rmse:6964.45\n",
      "[127]\tvalidation_0-rmse:6964.52\n",
      "[128]\tvalidation_0-rmse:6964.61\n",
      "[129]\tvalidation_0-rmse:6964.44\n",
      "[130]\tvalidation_0-rmse:6964.47\n",
      "[131]\tvalidation_0-rmse:6964.54\n",
      "[132]\tvalidation_0-rmse:6964.67\n",
      "[133]\tvalidation_0-rmse:6964.72\n",
      "[134]\tvalidation_0-rmse:6964.63\n",
      "[135]\tvalidation_0-rmse:6964.78\n",
      "[136]\tvalidation_0-rmse:6964.87\n",
      "[137]\tvalidation_0-rmse:6964.92\n",
      "[138]\tvalidation_0-rmse:6964.99\n",
      "[139]\tvalidation_0-rmse:6965.21\n",
      "[140]\tvalidation_0-rmse:6965.1\n",
      "[141]\tvalidation_0-rmse:6965.09\n",
      "[142]\tvalidation_0-rmse:6965.22\n",
      "[143]\tvalidation_0-rmse:6965.17\n",
      "[144]\tvalidation_0-rmse:6965.3\n",
      "[145]\tvalidation_0-rmse:6965.34\n",
      "[146]\tvalidation_0-rmse:6965.35\n",
      "[147]\tvalidation_0-rmse:6965.11\n",
      "[148]\tvalidation_0-rmse:6965.17\n",
      "Stopping. Best iteration:\n",
      "[98]\tvalidation_0-rmse:6962.5\n",
      "\n"
     ]
    },
    {
     "data": {
      "text/plain": [
       "XGBRegressor(base_score=0.5, booster='gbtree', colsample_bylevel=1,\n",
       "       colsample_bytree=0.8, gamma=0, learning_rate=0.1, max_delta_step=0,\n",
       "       max_depth=5, min_child_weight=1, missing=None, n_estimators=5000,\n",
       "       n_jobs=-1, nthread=None, objective='reg:linear', random_state=0,\n",
       "       reg_alpha=0, reg_lambda=0, scale_pos_weight=1, seed=7, silent=True,\n",
       "       subsample=0.8)"
      ]
     },
     "execution_count": 23,
     "metadata": {},
     "output_type": "execute_result"
    }
   ],
   "source": [
    "alg.fit(X_train, y_train,eval_metric='rmse', early_stopping_rounds=50, eval_set = eval_set, verbose = True)"
   ]
  },
  {
   "cell_type": "code",
   "execution_count": 24,
   "metadata": {},
   "outputs": [],
   "source": [
    "test2017_preds = alg.predict(test2017_X)"
   ]
  },
  {
   "cell_type": "code",
   "execution_count": 25,
   "metadata": {},
   "outputs": [
    {
     "data": {
      "text/plain": [
       "array([6032.6577, 6985.013 , 6609.43  , ..., 5435.741 , 3782.5723,\n",
       "       3654.7236], dtype=float32)"
      ]
     },
     "execution_count": 25,
     "metadata": {},
     "output_type": "execute_result"
    }
   ],
   "source": [
    "test2017_preds"
   ]
  },
  {
   "cell_type": "code",
   "execution_count": 29,
   "metadata": {},
   "outputs": [],
   "source": [
    "from sklearn.metrics import mean_squared_error\n",
    "test2017_mse = mean_squared_error(test2017_y, test2017_preds)"
   ]
  },
  {
   "cell_type": "code",
   "execution_count": 30,
   "metadata": {},
   "outputs": [],
   "source": [
    "test2017_rmse = test2017_mse ** (0.5)"
   ]
  },
  {
   "cell_type": "code",
   "execution_count": 33,
   "metadata": {},
   "outputs": [
    {
     "data": {
      "text/plain": [
       "125.84689446485409"
      ]
     },
     "execution_count": 33,
     "metadata": {},
     "output_type": "execute_result"
    }
   ],
   "source": [
    "pct_error = test2017_rmse / test2017_y.mean()\n",
    "pct_error * 100"
   ]
  },
  {
   "cell_type": "code",
   "execution_count": null,
   "metadata": {},
   "outputs": [],
   "source": []
  },
  {
   "cell_type": "markdown",
   "metadata": {},
   "source": [
    "# MODEL 2 (Keras): with 1lakh data\n",
    "\n",
    "## Using the following features:\n",
    "    \n",
    "1) CommOrRes  \n",
    "2) JobCount  \n",
    "3) ClaimCount  \n",
    "4) NoteCount  \n",
    "5) PhotoCount  \n",
    "6) PolicyHolderType  \n",
    "7) Display Name  \n",
    "8) Division Name  \n",
    "9) Month"
   ]
  },
  {
   "cell_type": "code",
   "execution_count": 55,
   "metadata": {},
   "outputs": [],
   "source": [
    "cleaned_XY_mod2 = cleaned[['DisplayName', 'DivisionName','LossMo','CommOrRes','PolicyHolderType','NoteCount','PhotoCount','JobCount','ClaimCount','EstimateTotal','LossYearMo']]"
   ]
  },
  {
   "cell_type": "code",
   "execution_count": 58,
   "metadata": {},
   "outputs": [],
   "source": [
    "cleaned_XY_mod2_sample = cleaned_XY_mod2.sample(100000)"
   ]
  },
  {
   "cell_type": "code",
   "execution_count": 59,
   "metadata": {
    "scrolled": true
   },
   "outputs": [
    {
     "data": {
      "text/plain": [
       "(DisplayName            17\n",
       " DivisionName          991\n",
       " LossMo                 12\n",
       " CommOrRes               3\n",
       " PolicyHolderType        2\n",
       " NoteCount             248\n",
       " PhotoCount            704\n",
       " JobCount                9\n",
       " ClaimCount              3\n",
       " EstimateTotal       86955\n",
       " LossYearMo            141\n",
       " dtype: int64, DisplayName          object\n",
       " DivisionName         object\n",
       " LossMo                int64\n",
       " CommOrRes            object\n",
       " PolicyHolderType     object\n",
       " NoteCount           float64\n",
       " PhotoCount            int64\n",
       " JobCount              int64\n",
       " ClaimCount            int64\n",
       " EstimateTotal       float64\n",
       " LossYearMo            int64\n",
       " dtype: object)"
      ]
     },
     "execution_count": 59,
     "metadata": {},
     "output_type": "execute_result"
    }
   ],
   "source": [
    "cleaned_XY_mod2_sample.nunique(), cleaned_XY_mod2_sample.dtypes"
   ]
  },
  {
   "cell_type": "code",
   "execution_count": 60,
   "metadata": {},
   "outputs": [],
   "source": [
    "cleaned_XY_dummies_mod2_sample = pd.get_dummies(cleaned_XY_mod2_sample,sparse=True)"
   ]
  },
  {
   "cell_type": "code",
   "execution_count": null,
   "metadata": {},
   "outputs": [],
   "source": []
  },
  {
   "cell_type": "markdown",
   "metadata": {},
   "source": [
    "#### Separating 2017 Test Data"
   ]
  },
  {
   "cell_type": "code",
   "execution_count": 61,
   "metadata": {
    "scrolled": true
   },
   "outputs": [],
   "source": [
    "test2017_mod2=cleaned_XY_dummies_mod2_sample[cleaned_XY_dummies_mod2_sample[\"LossYearMo\"].apply(lambda x:x>=201701)]"
   ]
  },
  {
   "cell_type": "code",
   "execution_count": 62,
   "metadata": {},
   "outputs": [],
   "source": [
    "learning_mod2=cleaned_XY_dummies_mod2_sample[cleaned_XY_dummies_mod2_sample[\"LossYearMo\"].apply(lambda x:x<201701)]"
   ]
  },
  {
   "cell_type": "code",
   "execution_count": 63,
   "metadata": {},
   "outputs": [
    {
     "data": {
      "text/plain": [
       "Index(['LossMo', 'NoteCount', 'PhotoCount', 'JobCount', 'ClaimCount',\n",
       "       'EstimateTotal', 'LossYearMo', 'DisplayName_BioHazard',\n",
       "       'DisplayName_Carpet Cleaning', 'DisplayName_Consulting',\n",
       "       ...\n",
       "       'DivisionName_xDemo', 'DivisionName_xDuct', 'DivisionName_xFire',\n",
       "       'DivisionName_xMold Remediation', 'DivisionName_xWater Mitigation',\n",
       "       'CommOrRes_Commercial', 'CommOrRes_Other', 'CommOrRes_Residential',\n",
       "       'PolicyHolderType_Company', 'PolicyHolderType_Individual'],\n",
       "      dtype='object', length=1020)"
      ]
     },
     "execution_count": 63,
     "metadata": {},
     "output_type": "execute_result"
    }
   ],
   "source": [
    "learning_mod2.columns"
   ]
  },
  {
   "cell_type": "code",
   "execution_count": 64,
   "metadata": {},
   "outputs": [],
   "source": [
    "X_mod2 = learning_mod2[learning_mod2.columns.difference(['LossYearMo','EstimateTotal'])]"
   ]
  },
  {
   "cell_type": "code",
   "execution_count": 65,
   "metadata": {},
   "outputs": [
    {
     "data": {
      "text/html": [
       "<div>\n",
       "<style scoped>\n",
       "    .dataframe tbody tr th:only-of-type {\n",
       "        vertical-align: middle;\n",
       "    }\n",
       "\n",
       "    .dataframe tbody tr th {\n",
       "        vertical-align: top;\n",
       "    }\n",
       "\n",
       "    .dataframe thead th {\n",
       "        text-align: right;\n",
       "    }\n",
       "</style>\n",
       "<table border=\"1\" class=\"dataframe\">\n",
       "  <thead>\n",
       "    <tr style=\"text-align: right;\">\n",
       "      <th></th>\n",
       "      <th>ClaimCount</th>\n",
       "      <th>CommOrRes_Commercial</th>\n",
       "      <th>CommOrRes_Other</th>\n",
       "      <th>CommOrRes_Residential</th>\n",
       "      <th>DisplayName_BioHazard</th>\n",
       "      <th>DisplayName_Carpet Cleaning</th>\n",
       "      <th>DisplayName_Consulting</th>\n",
       "      <th>DisplayName_Contents</th>\n",
       "      <th>DisplayName_Default</th>\n",
       "      <th>DisplayName_Fire Damage</th>\n",
       "      <th>...</th>\n",
       "      <th>DivisionName_xDuct</th>\n",
       "      <th>DivisionName_xFire</th>\n",
       "      <th>DivisionName_xMold Remediation</th>\n",
       "      <th>DivisionName_xWater Mitigation</th>\n",
       "      <th>JobCount</th>\n",
       "      <th>LossMo</th>\n",
       "      <th>NoteCount</th>\n",
       "      <th>PhotoCount</th>\n",
       "      <th>PolicyHolderType_Company</th>\n",
       "      <th>PolicyHolderType_Individual</th>\n",
       "    </tr>\n",
       "  </thead>\n",
       "  <tbody>\n",
       "    <tr>\n",
       "      <th>395941</th>\n",
       "      <td>1</td>\n",
       "      <td>0</td>\n",
       "      <td>0</td>\n",
       "      <td>1</td>\n",
       "      <td>0</td>\n",
       "      <td>0</td>\n",
       "      <td>0</td>\n",
       "      <td>0</td>\n",
       "      <td>0</td>\n",
       "      <td>0</td>\n",
       "      <td>...</td>\n",
       "      <td>0</td>\n",
       "      <td>0</td>\n",
       "      <td>0</td>\n",
       "      <td>0</td>\n",
       "      <td>1</td>\n",
       "      <td>11</td>\n",
       "      <td>12.000</td>\n",
       "      <td>1</td>\n",
       "      <td>1</td>\n",
       "      <td>0</td>\n",
       "    </tr>\n",
       "    <tr>\n",
       "      <th>504582</th>\n",
       "      <td>1</td>\n",
       "      <td>0</td>\n",
       "      <td>0</td>\n",
       "      <td>1</td>\n",
       "      <td>0</td>\n",
       "      <td>0</td>\n",
       "      <td>0</td>\n",
       "      <td>0</td>\n",
       "      <td>0</td>\n",
       "      <td>0</td>\n",
       "      <td>...</td>\n",
       "      <td>0</td>\n",
       "      <td>0</td>\n",
       "      <td>0</td>\n",
       "      <td>0</td>\n",
       "      <td>1</td>\n",
       "      <td>7</td>\n",
       "      <td>6.000</td>\n",
       "      <td>1</td>\n",
       "      <td>0</td>\n",
       "      <td>1</td>\n",
       "    </tr>\n",
       "    <tr>\n",
       "      <th>1472532</th>\n",
       "      <td>1</td>\n",
       "      <td>0</td>\n",
       "      <td>0</td>\n",
       "      <td>1</td>\n",
       "      <td>0</td>\n",
       "      <td>0</td>\n",
       "      <td>0</td>\n",
       "      <td>0</td>\n",
       "      <td>0</td>\n",
       "      <td>0</td>\n",
       "      <td>...</td>\n",
       "      <td>0</td>\n",
       "      <td>0</td>\n",
       "      <td>0</td>\n",
       "      <td>0</td>\n",
       "      <td>1</td>\n",
       "      <td>8</td>\n",
       "      <td>15.000</td>\n",
       "      <td>157</td>\n",
       "      <td>1</td>\n",
       "      <td>0</td>\n",
       "    </tr>\n",
       "    <tr>\n",
       "      <th>400546</th>\n",
       "      <td>1</td>\n",
       "      <td>0</td>\n",
       "      <td>0</td>\n",
       "      <td>1</td>\n",
       "      <td>0</td>\n",
       "      <td>0</td>\n",
       "      <td>0</td>\n",
       "      <td>0</td>\n",
       "      <td>0</td>\n",
       "      <td>0</td>\n",
       "      <td>...</td>\n",
       "      <td>0</td>\n",
       "      <td>0</td>\n",
       "      <td>0</td>\n",
       "      <td>0</td>\n",
       "      <td>1</td>\n",
       "      <td>12</td>\n",
       "      <td>11.000</td>\n",
       "      <td>1</td>\n",
       "      <td>0</td>\n",
       "      <td>1</td>\n",
       "    </tr>\n",
       "    <tr>\n",
       "      <th>205886</th>\n",
       "      <td>1</td>\n",
       "      <td>0</td>\n",
       "      <td>0</td>\n",
       "      <td>1</td>\n",
       "      <td>0</td>\n",
       "      <td>0</td>\n",
       "      <td>0</td>\n",
       "      <td>1</td>\n",
       "      <td>0</td>\n",
       "      <td>0</td>\n",
       "      <td>...</td>\n",
       "      <td>0</td>\n",
       "      <td>0</td>\n",
       "      <td>0</td>\n",
       "      <td>0</td>\n",
       "      <td>1</td>\n",
       "      <td>12</td>\n",
       "      <td>55.000</td>\n",
       "      <td>10</td>\n",
       "      <td>0</td>\n",
       "      <td>1</td>\n",
       "    </tr>\n",
       "  </tbody>\n",
       "</table>\n",
       "<p>5 rows × 1018 columns</p>\n",
       "</div>"
      ],
      "text/plain": [
       "         ClaimCount  CommOrRes_Commercial  CommOrRes_Other  \\\n",
       "395941            1                     0                0   \n",
       "504582            1                     0                0   \n",
       "1472532           1                     0                0   \n",
       "400546            1                     0                0   \n",
       "205886            1                     0                0   \n",
       "\n",
       "         CommOrRes_Residential  DisplayName_BioHazard  \\\n",
       "395941                       1                      0   \n",
       "504582                       1                      0   \n",
       "1472532                      1                      0   \n",
       "400546                       1                      0   \n",
       "205886                       1                      0   \n",
       "\n",
       "         DisplayName_Carpet Cleaning  DisplayName_Consulting  \\\n",
       "395941                             0                       0   \n",
       "504582                             0                       0   \n",
       "1472532                            0                       0   \n",
       "400546                             0                       0   \n",
       "205886                             0                       0   \n",
       "\n",
       "         DisplayName_Contents  DisplayName_Default  DisplayName_Fire Damage  \\\n",
       "395941                      0                    0                        0   \n",
       "504582                      0                    0                        0   \n",
       "1472532                     0                    0                        0   \n",
       "400546                      0                    0                        0   \n",
       "205886                      1                    0                        0   \n",
       "\n",
       "                    ...               DivisionName_xDuct  DivisionName_xFire  \\\n",
       "395941              ...                                0                   0   \n",
       "504582              ...                                0                   0   \n",
       "1472532             ...                                0                   0   \n",
       "400546              ...                                0                   0   \n",
       "205886              ...                                0                   0   \n",
       "\n",
       "         DivisionName_xMold Remediation  DivisionName_xWater Mitigation  \\\n",
       "395941                                0                               0   \n",
       "504582                                0                               0   \n",
       "1472532                               0                               0   \n",
       "400546                                0                               0   \n",
       "205886                                0                               0   \n",
       "\n",
       "         JobCount  LossMo  NoteCount  PhotoCount  PolicyHolderType_Company  \\\n",
       "395941          1      11     12.000           1                         1   \n",
       "504582          1       7      6.000           1                         0   \n",
       "1472532         1       8     15.000         157                         1   \n",
       "400546          1      12     11.000           1                         0   \n",
       "205886          1      12     55.000          10                         0   \n",
       "\n",
       "         PolicyHolderType_Individual  \n",
       "395941                             0  \n",
       "504582                             1  \n",
       "1472532                            0  \n",
       "400546                             1  \n",
       "205886                             1  \n",
       "\n",
       "[5 rows x 1018 columns]"
      ]
     },
     "execution_count": 65,
     "metadata": {},
     "output_type": "execute_result"
    }
   ],
   "source": [
    "X_mod2.head()"
   ]
  },
  {
   "cell_type": "code",
   "execution_count": 66,
   "metadata": {},
   "outputs": [],
   "source": [
    "y_mod2 = learning_mod2['EstimateTotal']"
   ]
  },
  {
   "cell_type": "code",
   "execution_count": 67,
   "metadata": {},
   "outputs": [
    {
     "data": {
      "text/plain": [
       "395941    6000.000\n",
       "504582    8552.490\n",
       "1472532   2812.580\n",
       "400546    1004.012\n",
       "205886    3505.550\n",
       "Name: EstimateTotal, dtype: float64"
      ]
     },
     "execution_count": 67,
     "metadata": {},
     "output_type": "execute_result"
    }
   ],
   "source": [
    "y_mod2.head()"
   ]
  },
  {
   "cell_type": "code",
   "execution_count": null,
   "metadata": {},
   "outputs": [],
   "source": []
  },
  {
   "cell_type": "code",
   "execution_count": 68,
   "metadata": {},
   "outputs": [],
   "source": [
    "from sklearn.model_selection import train_test_split\n",
    "X_train_mod2, X_val_mod2, y_train_mod2, y_val_mod2 = train_test_split(X_mod2, y_mod2, test_size=0.33, random_state=42)"
   ]
  },
  {
   "cell_type": "code",
   "execution_count": 69,
   "metadata": {},
   "outputs": [],
   "source": [
    "test2017_X_mod2 = test2017_mod2[test2017_mod2.columns.difference(['LossYearMo','EstimateTotal'])]"
   ]
  },
  {
   "cell_type": "code",
   "execution_count": 70,
   "metadata": {},
   "outputs": [],
   "source": [
    "test2017_y_mod2 = test2017_mod2['EstimateTotal']"
   ]
  },
  {
   "cell_type": "code",
   "execution_count": null,
   "metadata": {},
   "outputs": [],
   "source": []
  },
  {
   "cell_type": "markdown",
   "metadata": {},
   "source": [
    "#### Modelling"
   ]
  },
  {
   "cell_type": "code",
   "execution_count": 71,
   "metadata": {},
   "outputs": [],
   "source": [
    "import keras\n",
    "from keras import metrics\n",
    "from keras import regularizers\n",
    "from keras.models import Sequential\n",
    "from keras.layers import Dense, Dropout, Flatten, Activation\n",
    "from keras.optimizers import Adam, RMSprop\n",
    "from keras.callbacks import TensorBoard, EarlyStopping, ModelCheckpoint, History \n",
    "\n",
    "from sklearn import metrics\n",
    "from sklearn.metrics import roc_auc_score"
   ]
  },
  {
   "cell_type": "code",
   "execution_count": 72,
   "metadata": {},
   "outputs": [],
   "source": [
    "model = Sequential()\n",
    "model.add(Dense(512, input_shape=(X_train_mod2.shape[1],)))\n",
    "model.add(Activation('relu'))\n",
    "model.add(Dropout(0.25))\n",
    "# if(best_params['num_layers'] == 'two_hidden'):\n",
    "model.add(Dense(512))\n",
    "model.add(Activation('relu'))\n",
    "model.add(Dropout(0.25))\n",
    "model.add(Dense(1))\n",
    "model.add(Activation('linear'))\n",
    "model.compile(loss='mse', metrics=['mse'],\n",
    "              optimizer='rmsprop')\n",
    "\n",
    "early_stop = keras.callbacks.EarlyStopping(monitor='val_loss', patience=50)\n",
    "history = History()"
   ]
  },
  {
   "cell_type": "code",
   "execution_count": 73,
   "metadata": {
    "scrolled": true
   },
   "outputs": [
    {
     "name": "stdout",
     "output_type": "stream",
     "text": [
      "Train on 43645 samples, validate on 21497 samples\n",
      "Epoch 1/500\n",
      " - 3s - loss: 56167184.1386 - mean_squared_error: 56167184.1386 - val_loss: 51104214.3415 - val_mean_squared_error: 51104214.3415\n",
      "Epoch 2/500\n",
      " - 3s - loss: 49928807.2850 - mean_squared_error: 49928807.2850 - val_loss: 48434070.1488 - val_mean_squared_error: 48434070.1488\n",
      "Epoch 3/500\n",
      " - 3s - loss: 47877746.0581 - mean_squared_error: 47877746.0581 - val_loss: 46903122.2273 - val_mean_squared_error: 46903122.2273\n",
      "Epoch 4/500\n",
      " - 3s - loss: 47103133.1203 - mean_squared_error: 47103133.1203 - val_loss: 46523960.2331 - val_mean_squared_error: 46523960.2331\n",
      "Epoch 5/500\n",
      " - 3s - loss: 46739512.7495 - mean_squared_error: 46739512.7495 - val_loss: 46169448.6420 - val_mean_squared_error: 46169448.6420\n",
      "Epoch 6/500\n",
      " - 3s - loss: 46336959.2431 - mean_squared_error: 46336959.2431 - val_loss: 47163550.2175 - val_mean_squared_error: 47163550.2175\n",
      "Epoch 7/500\n",
      " - 3s - loss: 46091191.5507 - mean_squared_error: 46091191.5507 - val_loss: 45786589.5309 - val_mean_squared_error: 45786589.5309\n",
      "Epoch 8/500\n",
      " - 3s - loss: 45865446.7585 - mean_squared_error: 45865446.7585 - val_loss: 45640733.1222 - val_mean_squared_error: 45640733.1222\n",
      "Epoch 9/500\n",
      " - 3s - loss: 45757313.7855 - mean_squared_error: 45757313.7855 - val_loss: 45676056.9582 - val_mean_squared_error: 45676056.9582\n",
      "Epoch 10/500\n",
      " - 3s - loss: 45587303.5201 - mean_squared_error: 45587303.5201 - val_loss: 45755951.1343 - val_mean_squared_error: 45755951.1343\n",
      "Epoch 11/500\n",
      " - 3s - loss: 45414681.0332 - mean_squared_error: 45414681.0332 - val_loss: 45070056.9058 - val_mean_squared_error: 45070056.9058\n",
      "Epoch 12/500\n",
      " - 3s - loss: 45204213.4661 - mean_squared_error: 45204213.4661 - val_loss: 44901245.7876 - val_mean_squared_error: 44901245.7876\n",
      "Epoch 13/500\n",
      " - 3s - loss: 45036030.9687 - mean_squared_error: 45036030.9687 - val_loss: 44989217.6559 - val_mean_squared_error: 44989217.6559\n",
      "Epoch 14/500\n",
      " - 3s - loss: 45001316.6553 - mean_squared_error: 45001316.6553 - val_loss: 44714929.9838 - val_mean_squared_error: 44714929.9838\n",
      "Epoch 15/500\n",
      " - 3s - loss: 44855578.4004 - mean_squared_error: 44855578.4004 - val_loss: 44810604.1065 - val_mean_squared_error: 44810604.1065\n",
      "Epoch 16/500\n",
      " - 3s - loss: 44613627.9077 - mean_squared_error: 44613627.9077 - val_loss: 44536166.0350 - val_mean_squared_error: 44536166.0350\n",
      "Epoch 17/500\n",
      " - 3s - loss: 44675445.1148 - mean_squared_error: 44675445.1148 - val_loss: 44614806.2583 - val_mean_squared_error: 44614806.2583\n",
      "Epoch 18/500\n",
      " - 3s - loss: 44661122.1131 - mean_squared_error: 44661122.1131 - val_loss: 44718864.9345 - val_mean_squared_error: 44718864.9345\n",
      "Epoch 19/500\n",
      " - 3s - loss: 44482914.1284 - mean_squared_error: 44482914.1284 - val_loss: 44443539.1864 - val_mean_squared_error: 44443539.1864\n",
      "Epoch 20/500\n",
      " - 3s - loss: 44365409.2823 - mean_squared_error: 44365409.2823 - val_loss: 44456361.7206 - val_mean_squared_error: 44456361.7206\n",
      "Epoch 21/500\n",
      " - 3s - loss: 44487006.7470 - mean_squared_error: 44487006.7470 - val_loss: 44843379.4322 - val_mean_squared_error: 44843379.4322\n",
      "Epoch 22/500\n",
      " - 3s - loss: 44247112.6510 - mean_squared_error: 44247112.6510 - val_loss: 44278839.0788 - val_mean_squared_error: 44278839.0788\n",
      "Epoch 23/500\n",
      " - 3s - loss: 44184133.0544 - mean_squared_error: 44184133.0544 - val_loss: 44844041.4542 - val_mean_squared_error: 44844041.4542\n",
      "Epoch 24/500\n",
      " - 3s - loss: 44258963.8111 - mean_squared_error: 44258963.8111 - val_loss: 44429482.8409 - val_mean_squared_error: 44429482.8409\n",
      "Epoch 25/500\n",
      " - 3s - loss: 44029555.9675 - mean_squared_error: 44029555.9675 - val_loss: 44164455.0643 - val_mean_squared_error: 44164455.0643\n",
      "Epoch 26/500\n",
      " - 3s - loss: 44107552.0719 - mean_squared_error: 44107552.0719 - val_loss: 44063659.7054 - val_mean_squared_error: 44063659.7054\n",
      "Epoch 27/500\n",
      " - 3s - loss: 43998675.5747 - mean_squared_error: 43998675.5747 - val_loss: 44416971.2469 - val_mean_squared_error: 44416971.2469\n",
      "Epoch 28/500\n",
      " - 3s - loss: 44105200.1436 - mean_squared_error: 44105200.1436 - val_loss: 44181959.1079 - val_mean_squared_error: 44181959.1079\n",
      "Epoch 29/500\n",
      " - 3s - loss: 43927663.3648 - mean_squared_error: 43927663.3648 - val_loss: 44225172.5718 - val_mean_squared_error: 44225172.5718\n",
      "Epoch 30/500\n",
      " - 3s - loss: 43860570.3920 - mean_squared_error: 43860570.3920 - val_loss: 44154402.9628 - val_mean_squared_error: 44154402.9628\n",
      "Epoch 31/500\n",
      " - 3s - loss: 43861280.8157 - mean_squared_error: 43861280.8157 - val_loss: 43930648.7255 - val_mean_squared_error: 43930648.7255\n",
      "Epoch 32/500\n",
      " - 3s - loss: 43748368.4969 - mean_squared_error: 43748368.4969 - val_loss: 43972461.5861 - val_mean_squared_error: 43972461.5861\n",
      "Epoch 33/500\n",
      " - 3s - loss: 43643835.3012 - mean_squared_error: 43643835.3012 - val_loss: 43909440.9469 - val_mean_squared_error: 43909440.9469\n",
      "Epoch 34/500\n",
      " - 3s - loss: 43700486.5707 - mean_squared_error: 43700486.5707 - val_loss: 44052638.5965 - val_mean_squared_error: 44052638.5965\n",
      "Epoch 35/500\n",
      " - 3s - loss: 43778890.8663 - mean_squared_error: 43778890.8663 - val_loss: 44154811.6198 - val_mean_squared_error: 44154811.6198\n",
      "Epoch 36/500\n",
      " - 3s - loss: 43599363.2557 - mean_squared_error: 43599363.2557 - val_loss: 43998947.7676 - val_mean_squared_error: 43998947.7676\n",
      "Epoch 37/500\n",
      " - 3s - loss: 43806081.1994 - mean_squared_error: 43806081.1994 - val_loss: 43951298.6013 - val_mean_squared_error: 43951298.6013\n",
      "Epoch 38/500\n",
      " - 3s - loss: 43507126.2253 - mean_squared_error: 43507126.2253 - val_loss: 43864895.2400 - val_mean_squared_error: 43864895.2400\n",
      "Epoch 39/500\n",
      " - 3s - loss: 43528817.9041 - mean_squared_error: 43528817.9041 - val_loss: 43977316.1149 - val_mean_squared_error: 43977316.1149\n",
      "Epoch 40/500\n",
      " - 3s - loss: 43561218.0439 - mean_squared_error: 43561218.0439 - val_loss: 43911958.6655 - val_mean_squared_error: 43911958.6655\n",
      "Epoch 41/500\n",
      " - 3s - loss: 43557909.8585 - mean_squared_error: 43557909.8585 - val_loss: 43907442.2212 - val_mean_squared_error: 43907442.2212\n",
      "Epoch 42/500\n",
      " - 3s - loss: 43480495.2168 - mean_squared_error: 43480495.2168 - val_loss: 44686716.2906 - val_mean_squared_error: 44686716.2906\n",
      "Epoch 43/500\n",
      " - 3s - loss: 43605881.4625 - mean_squared_error: 43605881.4625 - val_loss: 44128050.9191 - val_mean_squared_error: 44128050.9191\n",
      "Epoch 44/500\n",
      " - 3s - loss: 43348977.2878 - mean_squared_error: 43348977.2878 - val_loss: 43885141.5445 - val_mean_squared_error: 43885141.5445\n",
      "Epoch 45/500\n",
      " - 3s - loss: 43390437.6304 - mean_squared_error: 43390437.6304 - val_loss: 44102702.6672 - val_mean_squared_error: 44102702.6672\n",
      "Epoch 46/500\n",
      " - 3s - loss: 43440927.2158 - mean_squared_error: 43440927.2158 - val_loss: 44142264.7817 - val_mean_squared_error: 44142264.7817\n",
      "Epoch 47/500\n",
      " - 3s - loss: 43282654.3654 - mean_squared_error: 43282654.3654 - val_loss: 44409946.6249 - val_mean_squared_error: 44409946.6249\n",
      "Epoch 48/500\n",
      " - 3s - loss: 43353293.3615 - mean_squared_error: 43353293.3615 - val_loss: 44241684.4709 - val_mean_squared_error: 44241684.4709\n",
      "Epoch 49/500\n",
      " - 3s - loss: 43302798.1149 - mean_squared_error: 43302798.1149 - val_loss: 44170662.5090 - val_mean_squared_error: 44170662.5090\n",
      "Epoch 50/500\n",
      " - 3s - loss: 43372401.9177 - mean_squared_error: 43372401.9177 - val_loss: 44382387.4179 - val_mean_squared_error: 44382387.4179\n",
      "Epoch 51/500\n",
      " - 3s - loss: 43407983.2990 - mean_squared_error: 43407983.2990 - val_loss: 44428095.5037 - val_mean_squared_error: 44428095.5037\n",
      "Epoch 52/500\n",
      " - 3s - loss: 43310422.4722 - mean_squared_error: 43310422.4722 - val_loss: 43942862.0686 - val_mean_squared_error: 43942862.0686\n",
      "Epoch 53/500\n",
      " - 3s - loss: 43424491.6313 - mean_squared_error: 43424491.6313 - val_loss: 43890361.2514 - val_mean_squared_error: 43890361.2514\n",
      "Epoch 54/500\n",
      " - 3s - loss: 43262607.4200 - mean_squared_error: 43262607.4200 - val_loss: 43875231.1162 - val_mean_squared_error: 43875231.1162\n",
      "Epoch 55/500\n",
      " - 3s - loss: 43243529.4074 - mean_squared_error: 43243529.4074 - val_loss: 44013669.1639 - val_mean_squared_error: 44013669.1639\n",
      "Epoch 56/500\n",
      " - 3s - loss: 43249716.6573 - mean_squared_error: 43249716.6573 - val_loss: 43864744.1119 - val_mean_squared_error: 43864744.1119\n",
      "Epoch 57/500\n",
      " - 3s - loss: 43085609.8957 - mean_squared_error: 43085609.8957 - val_loss: 44082629.7517 - val_mean_squared_error: 44082629.7517\n",
      "Epoch 58/500\n"
     ]
    },
    {
     "name": "stdout",
     "output_type": "stream",
     "text": [
      " - 3s - loss: 43193333.8516 - mean_squared_error: 43193333.8516 - val_loss: 43788320.7283 - val_mean_squared_error: 43788320.7283\n",
      "Epoch 59/500\n",
      " - 3s - loss: 43165076.6558 - mean_squared_error: 43165076.6558 - val_loss: 43935864.8446 - val_mean_squared_error: 43935864.8446\n",
      "Epoch 60/500\n",
      " - 3s - loss: 43222488.5373 - mean_squared_error: 43222488.5373 - val_loss: 43818424.3119 - val_mean_squared_error: 43818424.3119\n",
      "Epoch 61/500\n",
      " - 3s - loss: 43179002.9903 - mean_squared_error: 43179002.9903 - val_loss: 43951816.8357 - val_mean_squared_error: 43951816.8357\n",
      "Epoch 62/500\n",
      " - 3s - loss: 43250037.1814 - mean_squared_error: 43250037.1814 - val_loss: 43832587.6387 - val_mean_squared_error: 43832587.6387\n",
      "Epoch 63/500\n",
      " - 3s - loss: 43122316.8542 - mean_squared_error: 43122316.8542 - val_loss: 43917646.9924 - val_mean_squared_error: 43917646.9924\n",
      "Epoch 64/500\n",
      " - 3s - loss: 43097395.6158 - mean_squared_error: 43097395.6158 - val_loss: 44199740.4576 - val_mean_squared_error: 44199740.4576\n",
      "Epoch 65/500\n",
      " - 3s - loss: 43047770.6147 - mean_squared_error: 43047770.6147 - val_loss: 44055364.9302 - val_mean_squared_error: 44055364.9302\n",
      "Epoch 66/500\n",
      " - 3s - loss: 43060192.0736 - mean_squared_error: 43060192.0736 - val_loss: 43733363.3407 - val_mean_squared_error: 43733363.3407\n",
      "Epoch 67/500\n",
      " - 3s - loss: 43003265.1059 - mean_squared_error: 43003265.1059 - val_loss: 43971785.5933 - val_mean_squared_error: 43971785.5933\n",
      "Epoch 68/500\n",
      " - 3s - loss: 42988933.1087 - mean_squared_error: 42988933.1087 - val_loss: 43996328.8768 - val_mean_squared_error: 43996328.8768\n",
      "Epoch 69/500\n",
      " - 3s - loss: 42986312.3188 - mean_squared_error: 42986312.3188 - val_loss: 44056284.3487 - val_mean_squared_error: 44056284.3487\n",
      "Epoch 70/500\n",
      " - 3s - loss: 42950004.2053 - mean_squared_error: 42950004.2053 - val_loss: 43764146.0271 - val_mean_squared_error: 43764146.0271\n",
      "Epoch 71/500\n",
      " - 3s - loss: 42906094.3947 - mean_squared_error: 42906094.3947 - val_loss: 43729517.2171 - val_mean_squared_error: 43729517.2171\n",
      "Epoch 72/500\n",
      " - 3s - loss: 42955382.1727 - mean_squared_error: 42955382.1727 - val_loss: 43855325.3999 - val_mean_squared_error: 43855325.3999\n",
      "Epoch 73/500\n",
      " - 3s - loss: 42986013.4831 - mean_squared_error: 42986013.4831 - val_loss: 44432841.6178 - val_mean_squared_error: 44432841.6178\n",
      "Epoch 74/500\n",
      " - 3s - loss: 42872526.6330 - mean_squared_error: 42872526.6330 - val_loss: 43752673.5727 - val_mean_squared_error: 43752673.5727\n",
      "Epoch 75/500\n",
      " - 3s - loss: 42913562.0190 - mean_squared_error: 42913562.0190 - val_loss: 44851604.2434 - val_mean_squared_error: 44851604.2434\n",
      "Epoch 76/500\n",
      " - 3s - loss: 42918007.1917 - mean_squared_error: 42918007.1917 - val_loss: 43977724.1744 - val_mean_squared_error: 43977724.1744\n",
      "Epoch 77/500\n",
      " - 3s - loss: 42891861.1436 - mean_squared_error: 42891861.1436 - val_loss: 43862684.1765 - val_mean_squared_error: 43862684.1765\n",
      "Epoch 78/500\n",
      " - 3s - loss: 42714931.9036 - mean_squared_error: 42714931.9036 - val_loss: 43918476.3585 - val_mean_squared_error: 43918476.3585\n",
      "Epoch 79/500\n",
      " - 3s - loss: 42854159.8542 - mean_squared_error: 42854159.8542 - val_loss: 43803560.3580 - val_mean_squared_error: 43803560.3580\n",
      "Epoch 80/500\n",
      " - 3s - loss: 42810794.0203 - mean_squared_error: 42810794.0203 - val_loss: 43796483.8346 - val_mean_squared_error: 43796483.8346\n",
      "Epoch 81/500\n",
      " - 3s - loss: 42684624.1022 - mean_squared_error: 42684624.1022 - val_loss: 43665634.0369 - val_mean_squared_error: 43665634.0369\n",
      "Epoch 82/500\n",
      " - 3s - loss: 42889597.8289 - mean_squared_error: 42889597.8289 - val_loss: 43688176.1106 - val_mean_squared_error: 43688176.1106\n",
      "Epoch 83/500\n",
      " - 3s - loss: 42778675.4438 - mean_squared_error: 42778675.4438 - val_loss: 44567837.6972 - val_mean_squared_error: 44567837.6972\n",
      "Epoch 84/500\n",
      " - 3s - loss: 42790589.1263 - mean_squared_error: 42790589.1263 - val_loss: 44009219.2200 - val_mean_squared_error: 44009219.2200\n",
      "Epoch 85/500\n",
      " - 3s - loss: 42845507.2482 - mean_squared_error: 42845507.2482 - val_loss: 43653149.4241 - val_mean_squared_error: 43653149.4241\n",
      "Epoch 86/500\n",
      " - 3s - loss: 42725136.0193 - mean_squared_error: 42725136.0193 - val_loss: 43757054.2359 - val_mean_squared_error: 43757054.2359\n",
      "Epoch 87/500\n",
      " - 3s - loss: 42527063.5157 - mean_squared_error: 42527063.5157 - val_loss: 44320196.7032 - val_mean_squared_error: 44320196.7032\n",
      "Epoch 88/500\n",
      " - 3s - loss: 42782157.7827 - mean_squared_error: 42782157.7827 - val_loss: 43728369.8124 - val_mean_squared_error: 43728369.8124\n",
      "Epoch 89/500\n",
      " - 3s - loss: 42539672.8297 - mean_squared_error: 42539672.8297 - val_loss: 44851261.2530 - val_mean_squared_error: 44851261.2530\n",
      "Epoch 90/500\n",
      " - 3s - loss: 42692355.9018 - mean_squared_error: 42692355.9018 - val_loss: 43660341.0094 - val_mean_squared_error: 43660341.0094\n",
      "Epoch 91/500\n",
      " - 3s - loss: 42551697.0135 - mean_squared_error: 42551697.0135 - val_loss: 43689203.2967 - val_mean_squared_error: 43689203.2967\n",
      "Epoch 92/500\n",
      " - 3s - loss: 42427250.1008 - mean_squared_error: 42427250.1008 - val_loss: 43889110.5317 - val_mean_squared_error: 43889110.5317\n",
      "Epoch 93/500\n",
      " - 3s - loss: 42560755.3156 - mean_squared_error: 42560755.3156 - val_loss: 43885560.2799 - val_mean_squared_error: 43885560.2799\n",
      "Epoch 94/500\n",
      " - 3s - loss: 42551994.0506 - mean_squared_error: 42551994.0506 - val_loss: 43744401.8710 - val_mean_squared_error: 43744401.8710\n",
      "Epoch 95/500\n",
      " - 3s - loss: 42439572.9107 - mean_squared_error: 42439572.9107 - val_loss: 43895310.1034 - val_mean_squared_error: 43895310.1034\n",
      "Epoch 96/500\n",
      " - 3s - loss: 42414706.8758 - mean_squared_error: 42414706.8758 - val_loss: 44147218.3971 - val_mean_squared_error: 44147218.3971\n",
      "Epoch 97/500\n",
      " - 3s - loss: 42656037.2349 - mean_squared_error: 42656037.2349 - val_loss: 43690787.0579 - val_mean_squared_error: 43690787.0579\n",
      "Epoch 98/500\n",
      " - 3s - loss: 42562573.1348 - mean_squared_error: 42562573.1348 - val_loss: 43702437.0526 - val_mean_squared_error: 43702437.0526\n",
      "Epoch 99/500\n",
      " - 3s - loss: 42394466.1089 - mean_squared_error: 42394466.1089 - val_loss: 43847739.5236 - val_mean_squared_error: 43847739.5236\n",
      "Epoch 100/500\n",
      " - 3s - loss: 42581694.6479 - mean_squared_error: 42581694.6479 - val_loss: 43602382.9610 - val_mean_squared_error: 43602382.9610\n",
      "Epoch 101/500\n",
      " - 3s - loss: 42295735.7069 - mean_squared_error: 42295735.7069 - val_loss: 44180839.9614 - val_mean_squared_error: 44180839.9614\n",
      "Epoch 102/500\n",
      " - 3s - loss: 42474777.3211 - mean_squared_error: 42474777.3211 - val_loss: 43795774.7622 - val_mean_squared_error: 43795774.7622\n",
      "Epoch 103/500\n",
      " - 3s - loss: 42303878.5287 - mean_squared_error: 42303878.5287 - val_loss: 43871008.2779 - val_mean_squared_error: 43871008.2779\n",
      "Epoch 104/500\n",
      " - 3s - loss: 42382591.6132 - mean_squared_error: 42382591.6132 - val_loss: 43857338.6572 - val_mean_squared_error: 43857338.6572\n",
      "Epoch 105/500\n",
      " - 3s - loss: 42298601.9123 - mean_squared_error: 42298601.9123 - val_loss: 44697947.7054 - val_mean_squared_error: 44697947.7054\n",
      "Epoch 106/500\n",
      " - 3s - loss: 42545394.4291 - mean_squared_error: 42545394.4291 - val_loss: 44327479.7812 - val_mean_squared_error: 44327479.7812\n",
      "Epoch 107/500\n",
      " - 3s - loss: 42273600.9276 - mean_squared_error: 42273600.9276 - val_loss: 43830558.1530 - val_mean_squared_error: 43830558.1530\n",
      "Epoch 108/500\n",
      " - 3s - loss: 42244175.4365 - mean_squared_error: 42244175.4365 - val_loss: 43708831.5785 - val_mean_squared_error: 43708831.5785\n",
      "Epoch 109/500\n",
      " - 3s - loss: 42297818.8180 - mean_squared_error: 42297818.8180 - val_loss: 44073927.9344 - val_mean_squared_error: 44073927.9344\n",
      "Epoch 110/500\n",
      " - 3s - loss: 42424078.1588 - mean_squared_error: 42424078.1588 - val_loss: 44221906.6608 - val_mean_squared_error: 44221906.6608\n",
      "Epoch 111/500\n",
      " - 3s - loss: 42384304.2976 - mean_squared_error: 42384304.2976 - val_loss: 43947722.5150 - val_mean_squared_error: 43947722.5150\n",
      "Epoch 112/500\n",
      " - 3s - loss: 42307380.9564 - mean_squared_error: 42307380.9564 - val_loss: 43673355.3741 - val_mean_squared_error: 43673355.3741\n",
      "Epoch 113/500\n",
      " - 3s - loss: 42272594.9977 - mean_squared_error: 42272594.9977 - val_loss: 43645297.3660 - val_mean_squared_error: 43645297.3660\n",
      "Epoch 114/500\n",
      " - 3s - loss: 42220820.7759 - mean_squared_error: 42220820.7759 - val_loss: 43661721.5285 - val_mean_squared_error: 43661721.5285\n",
      "Epoch 115/500\n",
      " - 3s - loss: 42336358.6795 - mean_squared_error: 42336358.6795 - val_loss: 43978515.3648 - val_mean_squared_error: 43978515.3648\n"
     ]
    },
    {
     "name": "stdout",
     "output_type": "stream",
     "text": [
      "Epoch 116/500\n",
      " - 3s - loss: 42194633.5187 - mean_squared_error: 42194633.5187 - val_loss: 43800942.4782 - val_mean_squared_error: 43800942.4782\n",
      "Epoch 117/500\n",
      " - 3s - loss: 42193181.6078 - mean_squared_error: 42193181.6078 - val_loss: 43943403.7839 - val_mean_squared_error: 43943403.7839\n",
      "Epoch 118/500\n",
      " - 3s - loss: 42242774.8298 - mean_squared_error: 42242774.8298 - val_loss: 43810215.3563 - val_mean_squared_error: 43810215.3563\n",
      "Epoch 119/500\n",
      " - 3s - loss: 42097015.3235 - mean_squared_error: 42097015.3235 - val_loss: 43993018.4566 - val_mean_squared_error: 43993018.4566\n",
      "Epoch 120/500\n",
      " - 3s - loss: 42163947.0892 - mean_squared_error: 42163947.0892 - val_loss: 44423786.7220 - val_mean_squared_error: 44423786.7220\n",
      "Epoch 121/500\n",
      " - 3s - loss: 42310217.0892 - mean_squared_error: 42310217.0892 - val_loss: 43888193.5348 - val_mean_squared_error: 43888193.5348\n",
      "Epoch 122/500\n",
      " - 3s - loss: 42345330.1547 - mean_squared_error: 42345330.1547 - val_loss: 43691675.4927 - val_mean_squared_error: 43691675.4927\n",
      "Epoch 123/500\n",
      " - 3s - loss: 42259957.8301 - mean_squared_error: 42259957.8301 - val_loss: 44018628.7902 - val_mean_squared_error: 44018628.7902\n",
      "Epoch 124/500\n",
      " - 3s - loss: 42226871.1682 - mean_squared_error: 42226871.1682 - val_loss: 43782540.5591 - val_mean_squared_error: 43782540.5591\n",
      "Epoch 125/500\n",
      " - 3s - loss: 42163411.3613 - mean_squared_error: 42163411.3613 - val_loss: 43792633.2829 - val_mean_squared_error: 43792633.2829\n",
      "Epoch 126/500\n",
      " - 3s - loss: 42090595.4583 - mean_squared_error: 42090595.4583 - val_loss: 43968825.4802 - val_mean_squared_error: 43968825.4802\n",
      "Epoch 127/500\n",
      " - 3s - loss: 41980913.9570 - mean_squared_error: 41980913.9570 - val_loss: 44510233.2646 - val_mean_squared_error: 44510233.2646\n",
      "Epoch 128/500\n",
      " - 3s - loss: 42065404.0382 - mean_squared_error: 42065404.0382 - val_loss: 44211374.8935 - val_mean_squared_error: 44211374.8935\n",
      "Epoch 129/500\n",
      " - 3s - loss: 42185695.9794 - mean_squared_error: 42185695.9794 - val_loss: 43901629.0177 - val_mean_squared_error: 43901629.0177\n",
      "Epoch 130/500\n",
      " - 3s - loss: 42022202.1796 - mean_squared_error: 42022202.1796 - val_loss: 44291951.3543 - val_mean_squared_error: 44291951.3543\n",
      "Epoch 131/500\n",
      " - 3s - loss: 41930145.7150 - mean_squared_error: 41930145.7150 - val_loss: 44542775.6987 - val_mean_squared_error: 44542775.6987\n",
      "Epoch 132/500\n",
      " - 3s - loss: 42094832.2574 - mean_squared_error: 42094832.2574 - val_loss: 44106833.6408 - val_mean_squared_error: 44106833.6408\n",
      "Epoch 133/500\n",
      " - 3s - loss: 42035302.4837 - mean_squared_error: 42035302.4837 - val_loss: 43954163.6360 - val_mean_squared_error: 43954163.6360\n",
      "Epoch 134/500\n",
      " - 3s - loss: 42008812.0917 - mean_squared_error: 42008812.0917 - val_loss: 44145857.4595 - val_mean_squared_error: 44145857.4595\n",
      "Epoch 135/500\n",
      " - 3s - loss: 42063977.7158 - mean_squared_error: 42063977.7158 - val_loss: 43920850.1167 - val_mean_squared_error: 43920850.1167\n",
      "Epoch 136/500\n",
      " - 3s - loss: 41912555.2886 - mean_squared_error: 41912555.2886 - val_loss: 43738460.7121 - val_mean_squared_error: 43738460.7121\n",
      "Epoch 137/500\n",
      " - 3s - loss: 41871542.4385 - mean_squared_error: 41871542.4385 - val_loss: 44331946.3178 - val_mean_squared_error: 44331946.3178\n",
      "Epoch 138/500\n",
      " - 3s - loss: 41918233.9796 - mean_squared_error: 41918233.9796 - val_loss: 43789714.3667 - val_mean_squared_error: 43789714.3667\n",
      "Epoch 139/500\n",
      " - 3s - loss: 41894736.6775 - mean_squared_error: 41894736.6775 - val_loss: 43847160.1180 - val_mean_squared_error: 43847160.1180\n",
      "Epoch 140/500\n",
      " - 3s - loss: 41975342.4154 - mean_squared_error: 41975342.4154 - val_loss: 44068973.5565 - val_mean_squared_error: 44068973.5565\n",
      "Epoch 141/500\n",
      " - 3s - loss: 41925592.3342 - mean_squared_error: 41925592.3342 - val_loss: 43778174.3835 - val_mean_squared_error: 43778174.3835\n",
      "Epoch 142/500\n",
      " - 3s - loss: 41918241.2644 - mean_squared_error: 41918241.2644 - val_loss: 44369340.5090 - val_mean_squared_error: 44369340.5090\n",
      "Epoch 143/500\n",
      " - 3s - loss: 41944495.4230 - mean_squared_error: 41944495.4230 - val_loss: 43980608.5182 - val_mean_squared_error: 43980608.5182\n",
      "Epoch 144/500\n",
      " - 3s - loss: 41802748.8147 - mean_squared_error: 41802748.8147 - val_loss: 43863213.6965 - val_mean_squared_error: 43863213.6965\n",
      "Epoch 145/500\n",
      " - 3s - loss: 41964263.2602 - mean_squared_error: 41964263.2602 - val_loss: 44082820.5553 - val_mean_squared_error: 44082820.5553\n",
      "Epoch 146/500\n",
      " - 3s - loss: 41754816.9357 - mean_squared_error: 41754816.9357 - val_loss: 43905633.5570 - val_mean_squared_error: 43905633.5570\n",
      "Epoch 147/500\n",
      " - 3s - loss: 41820409.5455 - mean_squared_error: 41820409.5455 - val_loss: 44640018.9129 - val_mean_squared_error: 44640018.9129\n",
      "Epoch 148/500\n",
      " - 3s - loss: 41847374.3402 - mean_squared_error: 41847374.3402 - val_loss: 43874189.6880 - val_mean_squared_error: 43874189.6880\n",
      "Epoch 149/500\n",
      " - 3s - loss: 41853753.9780 - mean_squared_error: 41853753.9780 - val_loss: 43950915.3861 - val_mean_squared_error: 43950915.3861\n",
      "Epoch 150/500\n",
      " - 3s - loss: 41904667.6893 - mean_squared_error: 41904667.6893 - val_loss: 43883116.7746 - val_mean_squared_error: 43883116.7746\n"
     ]
    },
    {
     "data": {
      "text/plain": [
       "<keras.callbacks.History at 0x7f43b1a28a20>"
      ]
     },
     "execution_count": 73,
     "metadata": {},
     "output_type": "execute_result"
    }
   ],
   "source": [
    "model.fit(X_train_mod2, y_train_mod2,\n",
    "          batch_size=128,\n",
    "          epochs=500,\n",
    "          callbacks=[early_stop, history],\n",
    "          verbose=2,\n",
    "          validation_data=(X_val_mod2,y_val_mod2))"
   ]
  },
  {
   "cell_type": "code",
   "execution_count": 76,
   "metadata": {},
   "outputs": [
    {
     "name": "stdout",
     "output_type": "stream",
     "text": [
      "34858/34858 [==============================] - 1s 35us/step\n"
     ]
    }
   ],
   "source": [
    "loss,mse = model.evaluate(test2017_X_mod2,test2017_y_mod2)"
   ]
  },
  {
   "cell_type": "code",
   "execution_count": 79,
   "metadata": {},
   "outputs": [],
   "source": [
    "rmse= mse ** 0.5"
   ]
  },
  {
   "cell_type": "code",
   "execution_count": 84,
   "metadata": {},
   "outputs": [
    {
     "data": {
      "text/plain": [
       "119.24389558470088"
      ]
     },
     "execution_count": 84,
     "metadata": {},
     "output_type": "execute_result"
    }
   ],
   "source": [
    "pct_error_mod2 = rmse/test2017_y_mod2.mean()\n",
    "pct_error_mod2 * 100"
   ]
  },
  {
   "cell_type": "code",
   "execution_count": null,
   "metadata": {},
   "outputs": [],
   "source": []
  }
 ],
 "metadata": {
  "kernelspec": {
   "display_name": "Python 3",
   "language": "python",
   "name": "python3"
  },
  "language_info": {
   "codemirror_mode": {
    "name": "ipython",
    "version": 3
   },
   "file_extension": ".py",
   "mimetype": "text/x-python",
   "name": "python",
   "nbconvert_exporter": "python",
   "pygments_lexer": "ipython3",
   "version": "3.5.6"
  }
 },
 "nbformat": 4,
 "nbformat_minor": 2
}

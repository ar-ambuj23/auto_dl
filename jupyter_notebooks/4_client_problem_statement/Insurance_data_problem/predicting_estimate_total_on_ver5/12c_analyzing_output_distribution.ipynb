{
 "cells": [
  {
   "cell_type": "code",
   "execution_count": 6,
   "metadata": {},
   "outputs": [
    {
     "name": "stdout",
     "output_type": "stream",
     "text": [
      "7a_combined_model_new_arch_seq_classifier_tabular_features_10bins.csv\n",
      "7a_combined_model_new_arch_seq_classifier_tabular_features_5bins.csv\n"
     ]
    }
   ],
   "source": [
    "ls ../../../../../datasets/client_results/7a"
   ]
  },
  {
   "cell_type": "code",
   "execution_count": 35,
   "metadata": {},
   "outputs": [],
   "source": [
    "import pandas as pd\n",
    "# from keras import metrics\n",
    "from sklearn import metrics\n",
    "%matplotlib inline"
   ]
  },
  {
   "cell_type": "code",
   "execution_count": 22,
   "metadata": {},
   "outputs": [
    {
     "name": "stderr",
     "output_type": "stream",
     "text": [
      "/disk1/amar/envi/izenda_env/lib/python3.5/site-packages/IPython/core/interactiveshell.py:3020: DtypeWarning: Columns (4) have mixed types. Specify dtype option on import or set low_memory=False.\n",
      "  interactivity=interactivity, compiler=compiler, result=result)\n"
     ]
    }
   ],
   "source": [
    "out5b = pd.read_csv(\"../../../../../datasets/client_results/7a_combined_model_new_arch_seq_classifier_tabular_features_5bins.csv\", index_col = [0])\n",
    "out10b = pd.read_csv(\"../../../../../datasets/client_results/7a_combined_model_new_arch_seq_classifier_tabular_features_10bins.csv\", index_col = [0])"
   ]
  },
  {
   "cell_type": "code",
   "execution_count": 23,
   "metadata": {},
   "outputs": [],
   "source": [
    "mapping_dict = {'a':1,'b':2,'c':3,'d':4,'e':5,'f':6,'g':7,'h':8,'i':9,'j':10}\n",
    "\n",
    "out5b['EstimateTotal_bins'] = out5b['EstimateTotal_bins'].map(mapping_dict)\n",
    "out5b['test2017_preds_names'] = out5b['test2017_preds_names'].map(mapping_dict)\n",
    "out10b['EstimateTotal_bins'] = out10b['EstimateTotal_bins'].map(mapping_dict)\n",
    "out10b['test2017_preds_names'] = out10b['test2017_preds_names'].map(mapping_dict)"
   ]
  },
  {
   "cell_type": "code",
   "execution_count": 24,
   "metadata": {},
   "outputs": [],
   "source": [
    "out5b = out5b[['EstimateTotal_bins', 'test2017_preds_names', 'max_probability',\n",
    "       'thresh_i', 'accuracy', 'thresh_i+1']]\n",
    "out10b = out10b[['EstimateTotal_bins', 'test2017_preds_names', 'max_probability',\n",
    "       'thresh_i', 'accuracy', 'thresh_i+1']]"
   ]
  },
  {
   "cell_type": "code",
   "execution_count": 53,
   "metadata": {},
   "outputs": [
    {
     "data": {
      "text/plain": [
       "0.24111668451408066"
      ]
     },
     "execution_count": 53,
     "metadata": {},
     "output_type": "execute_result"
    },
    {
     "data": {
      "text/plain": [
       "<matplotlib.axes._subplots.AxesSubplot at 0x7f03cb83ae10>"
      ]
     },
     "execution_count": 53,
     "metadata": {},
     "output_type": "execute_result"
    },
    {
     "data": {
      "image/png": "[encoded data removed]",
      "text/plain": [
       "<Figure size 432x288 with 1 Axes>"
      ]
     },
     "metadata": {
      "needs_background": "light"
     },
     "output_type": "display_data"
    }
   ],
   "source": [
    "subgroup10 = out10b[(out10b.accuracy >= 0)]\n",
    "# correct_pred = subgroup['EstimateTotal_bins'], subgroup['test2017_preds_names'])\n",
    "metrics.accuracy_score(subgroup10['EstimateTotal_bins'], subgroup10['test2017_preds_names'])\n",
    "# metrics.top_k_categorical_accuracy()\n",
    "\n",
    "# subgroup10.test2017_preds_names.hist()\n",
    "# subgroup10.EstimateTotal_bins.hist()\n",
    "subgroup10.max_probability.hist()"
   ]
  }
 ],
 "metadata": {
  "kernelspec": {
   "display_name": "Python 3",
   "language": "python",
   "name": "python3"
  },
  "language_info": {
   "codemirror_mode": {
    "name": "ipython",
    "version": 3
   },
   "file_extension": ".py",
   "mimetype": "text/x-python",
   "name": "python",
   "nbconvert_exporter": "python",
   "pygments_lexer": "ipython3",
   "version": "3.5.6"
  }
 },
 "nbformat": 4,
 "nbformat_minor": 2
}

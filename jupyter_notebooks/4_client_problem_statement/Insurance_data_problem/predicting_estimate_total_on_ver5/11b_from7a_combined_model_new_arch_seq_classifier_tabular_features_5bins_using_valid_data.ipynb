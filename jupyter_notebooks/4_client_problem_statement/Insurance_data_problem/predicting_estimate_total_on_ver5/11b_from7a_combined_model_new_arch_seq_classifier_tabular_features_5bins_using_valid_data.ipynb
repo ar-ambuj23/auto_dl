{
 "cells": [
  {
   "cell_type": "code",
   "execution_count": 1,
   "metadata": {},
   "outputs": [],
   "source": [
    "import pandas as pd\n",
    "import numpy as np\n",
    "# fix random seed for reproducibility\n",
    "np.random.seed(7)"
   ]
  },
  {
   "cell_type": "code",
   "execution_count": 2,
   "metadata": {},
   "outputs": [
    {
     "name": "stderr",
     "output_type": "stream",
     "text": [
      "/home/ambuj/izenda_fullcycle/environment/env/lib/python3.5/site-packages/IPython/core/interactiveshell.py:3020: DtypeWarning: Columns (4) have mixed types. Specify dtype option on import or set low_memory=False.\n",
      "  interactivity=interactivity, compiler=compiler, result=result)\n"
     ]
    }
   ],
   "source": [
    "cleaned = pd.read_csv('datasets/cleaned_Izends_Data_Thru201712_ver5.csv',index_col=0)"
   ]
  },
  {
   "cell_type": "code",
   "execution_count": 3,
   "metadata": {},
   "outputs": [],
   "source": [
    "cleaned_loss_des = pd.read_csv('hashed_cleaned_loss_desc_from_5_ipynb.csv',index_col=0)\n",
    "# changing dtype of hashed_loss_desc_padded column\n",
    "cleaned_loss_des['hashed_loss_desc_padded'] = cleaned_loss_des['hashed_loss_desc_padded'].apply(lambda x: np.fromstring(x[1:-1],dtype='int32',sep=' '))"
   ]
  },
  {
   "cell_type": "markdown",
   "metadata": {},
   "source": [
    "# Changing bins from 10 to 5"
   ]
  },
  {
   "cell_type": "code",
   "execution_count": 4,
   "metadata": {},
   "outputs": [],
   "source": [
    "cleaned_loss_des['EstimateTotal_bins'] = pd.qcut(cleaned['EstimateTotal'],5,labels = [\"a\", \"b\", \"c\", \"d\",\"e\"])"
   ]
  },
  {
   "cell_type": "code",
   "execution_count": 7,
   "metadata": {},
   "outputs": [],
   "source": [
    "cleaned_loss_des['EstimateTotal_bins'] = cleaned_loss_des['EstimateTotal_bins'].astype('str')"
   ]
  },
  {
   "cell_type": "code",
   "execution_count": 8,
   "metadata": {},
   "outputs": [],
   "source": [
    "cleaned_combined = pd.merge(cleaned,cleaned_loss_des[['EstimateTotal_bins','hashed_loss_desc_padded']],left_index=True,right_index=True)"
   ]
  },
  {
   "cell_type": "code",
   "execution_count": 9,
   "metadata": {},
   "outputs": [
    {
     "data": {
      "text/plain": [
       "(766408, 28)"
      ]
     },
     "execution_count": 9,
     "metadata": {},
     "output_type": "execute_result"
    }
   ],
   "source": [
    "cleaned_combined.shape"
   ]
  },
  {
   "cell_type": "code",
   "execution_count": 10,
   "metadata": {},
   "outputs": [
    {
     "data": {
      "text/plain": [
       "Index(['DisplayName', 'DivisionName', 'City', 'Zip', 'State', 'LossYearMo',\n",
       "       'StartedFlag', 'CommOrRes', 'NoteCount', 'PhotoCount', 'JobCount',\n",
       "       'ClaimCount', 'EstimateTotal', 'PolicyHolderType', 'LossDescription',\n",
       "       'Estimate_NetClaim', 'Estimate_MaterialSaleTax', 'Estimate_OverHead',\n",
       "       'Estimate_Profit', 'Estimate_PctOverhead', 'Estimate_PctProfit',\n",
       "       'Estimate_Deductible', 'Estimate_BaseSvcCharge',\n",
       "       'CleanAddressFranchisorID', 'CleanAddressContactID', 'LossMo',\n",
       "       'EstimateTotal_bins', 'hashed_loss_desc_padded'],\n",
       "      dtype='object')"
      ]
     },
     "execution_count": 10,
     "metadata": {},
     "output_type": "execute_result"
    }
   ],
   "source": [
    "cleaned_combined.columns"
   ]
  },
  {
   "cell_type": "code",
   "execution_count": 11,
   "metadata": {},
   "outputs": [],
   "source": [
    "cleaned_combined = pd.merge(cleaned,cleaned_loss_des[['EstimateTotal_bins','hashed_loss_desc_padded']],left_index=True,right_index=True)"
   ]
  },
  {
   "cell_type": "markdown",
   "metadata": {},
   "source": [
    "# Defining X and Y"
   ]
  },
  {
   "cell_type": "code",
   "execution_count": 12,
   "metadata": {},
   "outputs": [],
   "source": [
    "X1 = cleaned_combined[['DisplayName', 'DivisionName','LossMo','CommOrRes','PolicyHolderType','NoteCount','PhotoCount','JobCount','ClaimCount','LossYearMo']]\n",
    "X2 = cleaned_combined['hashed_loss_desc_padded']\n",
    "y = cleaned_combined['EstimateTotal_bins']"
   ]
  },
  {
   "cell_type": "markdown",
   "metadata": {},
   "source": [
    "# Getting Dummies"
   ]
  },
  {
   "cell_type": "code",
   "execution_count": 13,
   "metadata": {},
   "outputs": [],
   "source": [
    "X1_dummies = pd.get_dummies(X1,sparse=True)"
   ]
  },
  {
   "cell_type": "code",
   "execution_count": 14,
   "metadata": {},
   "outputs": [],
   "source": [
    "all_data = pd.merge(X1_dummies,pd.DataFrame(X2),left_index=True,right_index=True)\n",
    "all_data['EstimateTotal_bins'] = y"
   ]
  },
  {
   "cell_type": "markdown",
   "metadata": {},
   "source": [
    "# Splitting data"
   ]
  },
  {
   "cell_type": "code",
   "execution_count": 15,
   "metadata": {},
   "outputs": [],
   "source": [
    "test2017=all_data[all_data[\"LossYearMo\"].apply(lambda all_data:all_data>=201701)]\n",
    "learning=all_data[all_data[\"LossYearMo\"].apply(lambda all_data:all_data<201701)]"
   ]
  },
  {
   "cell_type": "code",
   "execution_count": 16,
   "metadata": {},
   "outputs": [],
   "source": [
    "learning_x = learning[learning.columns.difference(['LossYearMo','EstimateTotal_bins'])]\n",
    "learning_y = learning['EstimateTotal_bins']\n",
    "learning_y_dummies = pd.get_dummies(learning_y,sparse=True)"
   ]
  },
  {
   "cell_type": "code",
   "execution_count": 17,
   "metadata": {},
   "outputs": [],
   "source": [
    "test2017_x1 = test2017[test2017.columns.difference(['LossYearMo','EstimateTotal_bins','hashed_loss_desc_padded'])]\n",
    "test2017_x2 = test2017['hashed_loss_desc_padded']\n",
    "test2017_y = test2017['EstimateTotal_bins']\n",
    "test2017_y_dummies = pd.get_dummies(test2017_y,sparse=True)"
   ]
  },
  {
   "cell_type": "code",
   "execution_count": 18,
   "metadata": {},
   "outputs": [],
   "source": [
    "from sklearn.model_selection import train_test_split\n",
    "X_train, X_val, y_train, y_val = train_test_split(learning_x, learning_y_dummies, test_size=0.33, random_state=42)"
   ]
  },
  {
   "cell_type": "code",
   "execution_count": 19,
   "metadata": {},
   "outputs": [],
   "source": [
    "X1_train = X_train[X_train.columns.difference(['hashed_loss_desc_padded'])]\n",
    "X2_train = X_train['hashed_loss_desc_padded']"
   ]
  },
  {
   "cell_type": "code",
   "execution_count": 20,
   "metadata": {},
   "outputs": [],
   "source": [
    "X1_val = X_val[X_val.columns.difference(['hashed_loss_desc_padded'])]\n",
    "X2_val = X_val['hashed_loss_desc_padded']"
   ]
  },
  {
   "cell_type": "markdown",
   "metadata": {},
   "source": [
    "# Building Custom Keras Combined Model using Functional API"
   ]
  },
  {
   "cell_type": "code",
   "execution_count": 16,
   "metadata": {},
   "outputs": [
    {
     "name": "stderr",
     "output_type": "stream",
     "text": [
      "Using TensorFlow backend.\n"
     ]
    }
   ],
   "source": [
    "from keras.utils import plot_model\n",
    "from keras.models import Model\n",
    "from keras.layers import Input\n",
    "from keras.layers import LSTM\n",
    "from keras.layers.embeddings import Embedding\n",
    "from keras.layers import Dense, Dropout, Flatten, Activation\n",
    "from keras.callbacks import TensorBoard, EarlyStopping, ModelCheckpoint, History \n",
    "from keras.layers.merge import concatenate"
   ]
  },
  {
   "cell_type": "code",
   "execution_count": 17,
   "metadata": {},
   "outputs": [],
   "source": [
    "# first input\n",
    "input1 = Input(shape=(X1_train.shape[1],),name='input1')"
   ]
  },
  {
   "cell_type": "code",
   "execution_count": 18,
   "metadata": {},
   "outputs": [],
   "source": [
    "# second input\n",
    "input2 = Input(shape=(14,),name='input2')\n",
    "embedding = Embedding(11024,100,input_length=14)(input2)\n",
    "lstm = LSTM(15)(embedding)"
   ]
  },
  {
   "cell_type": "code",
   "execution_count": 19,
   "metadata": {},
   "outputs": [],
   "source": [
    "# merge layers\n",
    "merge = concatenate([input1,lstm])"
   ]
  },
  {
   "cell_type": "code",
   "execution_count": 20,
   "metadata": {},
   "outputs": [],
   "source": [
    "hidden1 = Dense(512, activation='relu')(merge)\n",
    "dropout1 = Dropout(0.25)(hidden1)\n",
    "hidden2 = Dense(512, activation='relu')(dropout1)\n",
    "dropout2 = Dropout(0.25)(hidden2)"
   ]
  },
  {
   "cell_type": "code",
   "execution_count": 21,
   "metadata": {},
   "outputs": [],
   "source": [
    "# output layer\n",
    "output = Dense(y_train.shape[1], activation='softmax',name='output')(dropout2)"
   ]
  },
  {
   "cell_type": "code",
   "execution_count": 22,
   "metadata": {},
   "outputs": [],
   "source": [
    "# Model\n",
    "model = Model(inputs=[input1,input2], outputs=output)"
   ]
  },
  {
   "cell_type": "code",
   "execution_count": 23,
   "metadata": {},
   "outputs": [
    {
     "name": "stdout",
     "output_type": "stream",
     "text": [
      "__________________________________________________________________________________________________\n",
      "Layer (type)                    Output Shape         Param #     Connected to                     \n",
      "==================================================================================================\n",
      "input2 (InputLayer)             (None, 14)           0                                            \n",
      "__________________________________________________________________________________________________\n",
      "embedding_1 (Embedding)         (None, 14, 100)      1102400     input2[0][0]                     \n",
      "__________________________________________________________________________________________________\n",
      "input1 (InputLayer)             (None, 1064)         0                                            \n",
      "__________________________________________________________________________________________________\n",
      "lstm_1 (LSTM)                   (None, 15)           6960        embedding_1[0][0]                \n",
      "__________________________________________________________________________________________________\n",
      "concatenate_1 (Concatenate)     (None, 1079)         0           input1[0][0]                     \n",
      "                                                                 lstm_1[0][0]                     \n",
      "__________________________________________________________________________________________________\n",
      "dense_1 (Dense)                 (None, 512)          552960      concatenate_1[0][0]              \n",
      "__________________________________________________________________________________________________\n",
      "dropout_1 (Dropout)             (None, 512)          0           dense_1[0][0]                    \n",
      "__________________________________________________________________________________________________\n",
      "dense_2 (Dense)                 (None, 512)          262656      dropout_1[0][0]                  \n",
      "__________________________________________________________________________________________________\n",
      "dropout_2 (Dropout)             (None, 512)          0           dense_2[0][0]                    \n",
      "__________________________________________________________________________________________________\n",
      "output (Dense)                  (None, 10)           5130        dropout_2[0][0]                  \n",
      "==================================================================================================\n",
      "Total params: 1,930,106\n",
      "Trainable params: 1,930,106\n",
      "Non-trainable params: 0\n",
      "__________________________________________________________________________________________________\n"
     ]
    }
   ],
   "source": [
    "model.summary()"
   ]
  },
  {
   "cell_type": "code",
   "execution_count": 24,
   "metadata": {},
   "outputs": [],
   "source": [
    "plot_model(model,to_file='7_combined_model.png')"
   ]
  },
  {
   "cell_type": "code",
   "execution_count": 24,
   "metadata": {},
   "outputs": [],
   "source": [
    "model.compile(loss='categorical_crossentropy', optimizer='adam', metrics=['accuracy'])"
   ]
  },
  {
   "cell_type": "code",
   "execution_count": 26,
   "metadata": {},
   "outputs": [],
   "source": [
    "early_stop = EarlyStopping(monitor='val_loss', patience=10,restore_best_weights=True)"
   ]
  },
  {
   "cell_type": "code",
   "execution_count": 27,
   "metadata": {
    "scrolled": true
   },
   "outputs": [
    {
     "name": "stdout",
     "output_type": "stream",
     "text": [
      "Train on 335176 samples, validate on 165087 samples\n",
      "Epoch 1/500\n",
      "335176/335176 [==============================] - 82s 245us/step - loss: 2.0843 - acc: 0.2108 - val_loss: 2.0195 - val_acc: 0.2292\n",
      "Epoch 2/500\n",
      "335176/335176 [==============================] - 81s 241us/step - loss: 2.0051 - acc: 0.2355 - val_loss: 2.0146 - val_acc: 0.2336\n",
      "Epoch 3/500\n",
      "335176/335176 [==============================] - 80s 240us/step - loss: 1.9766 - acc: 0.2437 - val_loss: 1.9899 - val_acc: 0.2431\n",
      "Epoch 4/500\n",
      "335176/335176 [==============================] - 80s 240us/step - loss: 1.9518 - acc: 0.2539 - val_loss: 2.0077 - val_acc: 0.2377\n",
      "Epoch 5/500\n",
      "335176/335176 [==============================] - 81s 240us/step - loss: 1.9294 - acc: 0.2593 - val_loss: 1.9994 - val_acc: 0.2410\n",
      "Epoch 6/500\n",
      "335176/335176 [==============================] - 81s 240us/step - loss: 1.9093 - acc: 0.2676 - val_loss: 2.0174 - val_acc: 0.2409\n",
      "Epoch 7/500\n",
      "335176/335176 [==============================] - 80s 240us/step - loss: 1.8883 - acc: 0.2745 - val_loss: 2.0382 - val_acc: 0.2394\n",
      "Epoch 8/500\n",
      "335176/335176 [==============================] - 80s 240us/step - loss: 1.8680 - acc: 0.2816 - val_loss: 2.0536 - val_acc: 0.2393\n",
      "Epoch 9/500\n",
      "335176/335176 [==============================] - 81s 240us/step - loss: 1.8482 - acc: 0.2887 - val_loss: 2.0696 - val_acc: 0.2379\n",
      "Epoch 10/500\n",
      "335176/335176 [==============================] - 81s 241us/step - loss: 1.8313 - acc: 0.2937 - val_loss: 2.1110 - val_acc: 0.2376\n",
      "Epoch 11/500\n",
      "335176/335176 [==============================] - 81s 240us/step - loss: 1.8141 - acc: 0.2998 - val_loss: 2.1357 - val_acc: 0.2364\n",
      "Epoch 12/500\n",
      "335176/335176 [==============================] - 80s 240us/step - loss: 1.7975 - acc: 0.3070 - val_loss: 2.1645 - val_acc: 0.2352\n",
      "Epoch 13/500\n",
      "335176/335176 [==============================] - 81s 240us/step - loss: 1.7832 - acc: 0.3117 - val_loss: 2.2050 - val_acc: 0.2350\n"
     ]
    },
    {
     "data": {
      "text/plain": [
       "<keras.callbacks.History at 0x7f50d15ad208>"
      ]
     },
     "execution_count": 27,
     "metadata": {},
     "output_type": "execute_result"
    }
   ],
   "source": [
    "model.fit({'input1':X1_train,'input2':np.stack(X2_train, axis=0)},\n",
    "          {'output':y_train.values},\n",
    "          validation_data=({'input1':X1_val,'input2':np.stack(X2_val, axis=0)},{'output':y_val.values}),\n",
    "         callbacks=[early_stop],epochs=500, batch_size=128,verbose=1)"
   ]
  },
  {
   "cell_type": "code",
   "execution_count": 279,
   "metadata": {},
   "outputs": [],
   "source": [
    "# Saving Model\n",
    "\n",
    "model.save('datasets/saved_models/7a_combined_model_new_arch_seq_classifier_tabular_features_10bins.h5')"
   ]
  },
  {
   "cell_type": "code",
   "execution_count": 21,
   "metadata": {},
   "outputs": [
    {
     "name": "stderr",
     "output_type": "stream",
     "text": [
      "Using TensorFlow backend.\n"
     ]
    }
   ],
   "source": [
    "from keras.models import load_model\n",
    "model = load_model('datasets/saved_models/7a_combined_model_new_arch_seq_classifier_tabular_features_5bins.h5')"
   ]
  },
  {
   "cell_type": "code",
   "execution_count": null,
   "metadata": {},
   "outputs": [],
   "source": []
  },
  {
   "cell_type": "markdown",
   "metadata": {},
   "source": [
    "# Calculating Valid Accuracy"
   ]
  },
  {
   "cell_type": "code",
   "execution_count": 22,
   "metadata": {},
   "outputs": [],
   "source": [
    "from sklearn.metrics import accuracy_score"
   ]
  },
  {
   "cell_type": "code",
   "execution_count": 23,
   "metadata": {},
   "outputs": [],
   "source": [
    "valid_preds_proba = model.predict({'input1':X1_val,'input2':np.stack(X2_val, axis=0)})"
   ]
  },
  {
   "cell_type": "code",
   "execution_count": 24,
   "metadata": {},
   "outputs": [],
   "source": [
    "valid_preds = np.argmax(valid_preds_proba,axis=1)"
   ]
  },
  {
   "cell_type": "code",
   "execution_count": 25,
   "metadata": {},
   "outputs": [],
   "source": [
    "mapping_dict = {0:'a',1:'b',2:'c',3:'d',4:'e'}"
   ]
  },
  {
   "cell_type": "code",
   "execution_count": 26,
   "metadata": {},
   "outputs": [],
   "source": [
    "valid_preds_names = list(pd.Series(valid_preds).map(mapping_dict))"
   ]
  },
  {
   "cell_type": "code",
   "execution_count": 27,
   "metadata": {},
   "outputs": [],
   "source": [
    "max_probability = np.max(valid_preds_proba,axis=1)"
   ]
  },
  {
   "cell_type": "markdown",
   "metadata": {},
   "source": [
    "### Getting y_val actual classes"
   ]
  },
  {
   "cell_type": "code",
   "execution_count": 28,
   "metadata": {},
   "outputs": [],
   "source": [
    "val_df = y_val.copy()"
   ]
  },
  {
   "cell_type": "code",
   "execution_count": 29,
   "metadata": {
    "scrolled": true
   },
   "outputs": [],
   "source": [
    "val_df['actual'] = y[y.index.isin(y_val.index)]"
   ]
  },
  {
   "cell_type": "code",
   "execution_count": 30,
   "metadata": {
    "scrolled": true
   },
   "outputs": [
    {
     "data": {
      "text/plain": [
       "0.41590797579458105"
      ]
     },
     "execution_count": 30,
     "metadata": {},
     "output_type": "execute_result"
    }
   ],
   "source": [
    "accuracy_score(valid_preds_names, list(val_df['actual']))"
   ]
  },
  {
   "cell_type": "markdown",
   "metadata": {},
   "source": [
    "# Valid_df"
   ]
  },
  {
   "cell_type": "code",
   "execution_count": 31,
   "metadata": {},
   "outputs": [],
   "source": [
    "val_df['valid_preds_names'] = valid_preds_names"
   ]
  },
  {
   "cell_type": "code",
   "execution_count": 32,
   "metadata": {},
   "outputs": [],
   "source": [
    "val_df['max_probability'] = max_probability"
   ]
  },
  {
   "cell_type": "markdown",
   "metadata": {},
   "source": [
    "# Thresh Accuracy df - valid df"
   ]
  },
  {
   "cell_type": "code",
   "execution_count": 33,
   "metadata": {},
   "outputs": [
    {
     "name": "stdout",
     "output_type": "stream",
     "text": [
      "\n",
      " 0.1\n"
     ]
    },
    {
     "name": "stderr",
     "output_type": "stream",
     "text": [
      "/home/ambuj/izenda_fullcycle/environment/env/lib/python3.5/site-packages/numpy/lib/function_base.py:392: RuntimeWarning: Mean of empty slice.\n",
      "  avg = a.mean(axis)\n",
      "/home/ambuj/izenda_fullcycle/environment/env/lib/python3.5/site-packages/numpy/core/_methods.py:85: RuntimeWarning: invalid value encountered in double_scalars\n",
      "  ret = ret.dtype.type(ret / rcount)\n",
      "/home/ambuj/izenda_fullcycle/environment/env/lib/python3.5/site-packages/pandas/core/frame.py:6211: FutureWarning: Sorting because non-concatenation axis is not aligned. A future version\n",
      "of pandas will change to not sort by default.\n",
      "\n",
      "To accept the future behavior, pass 'sort=False'.\n",
      "\n",
      "To retain the current behavior and silence the warning, pass 'sort=True'.\n",
      "\n",
      "  sort=sort)\n"
     ]
    },
    {
     "name": "stdout",
     "output_type": "stream",
     "text": [
      "\n",
      " 0.2\n",
      "\n",
      " 0.3\n",
      "\n",
      " 0.4\n",
      "\n",
      " 0.5\n",
      "\n",
      " 0.6\n",
      "\n",
      " 0.7\n",
      "\n",
      " 0.8\n",
      "\n",
      " 0.9\n"
     ]
    }
   ],
   "source": [
    "result_df = pd.DataFrame(columns=['thresh_i','thresh_i+1','no_of_preds','total_preds','pct_of_preds','accuracy'])\n",
    "# total_rows = 0\n",
    "# total_correct_rows = 0\n",
    "# total_incorrect_rows = 0\n",
    "for thresh in [0.1,0.2,0.3,0.4,0.5,0.6,0.7,0.8,0.9]:\n",
    "    print(\"\\n\", thresh)\n",
    "    temp_df = pd.DataFrame(columns=['thresh_i','thresh_i+1','no_of_preds','total_preds','pct_of_preds','accuracy'])\n",
    "    a = val_df[(val_df['max_probability'] >= thresh) & (val_df['max_probability'] < (thresh + 0.1))]\n",
    "    correct_rows = len(a[a['actual'] == a['valid_preds_names']])\n",
    "    incorrect_rows = len(a[a['actual'] != a['valid_preds_names']])\n",
    "    pct_of_preds = (a.shape[0]/val_df.shape[0]) * 100\n",
    "    acc = accuracy_score(list(a['actual']),list(a['valid_preds_names']))*100\n",
    "    \n",
    "#     print(correct_rows, incorrect_rows, len(a), \\\n",
    "#           accuracy_score(list(a['EstimateTotal_bins']),list(a['test2017_preds_names']))*100)\n",
    "#     total_rows += len(a)\n",
    "#     total_correct_rows += correct_rows\n",
    "#     total_incorrect_rows += incorrect_rows\n",
    "#     print (total_correct_rows, total_incorrect_rows, total_rows)\n",
    "\n",
    "    temp_df.at[0,'thresh_i'] = thresh\n",
    "    temp_df.at[0,'thresh_i+1'] = thresh + 0.1\n",
    "    temp_df.at[0,'correct_preds'] = correct_rows\n",
    "    temp_df.at[0,'incorrect_preds'] = incorrect_rows\n",
    "    temp_df.at[0,'no_of_preds'] = a.shape[0]\n",
    "    temp_df.at[0,'total_preds'] = test2017.shape[0]\n",
    "    temp_df.at[0,'pct_of_preds'] = pct_of_preds\n",
    "    temp_df.at[0,'accuracy'] = acc\n",
    "    result_df = result_df.append(temp_df)\n",
    "#     break"
   ]
  },
  {
   "cell_type": "code",
   "execution_count": 34,
   "metadata": {},
   "outputs": [
    {
     "data": {
      "text/html": [
       "<div>\n",
       "<style scoped>\n",
       "    .dataframe tbody tr th:only-of-type {\n",
       "        vertical-align: middle;\n",
       "    }\n",
       "\n",
       "    .dataframe tbody tr th {\n",
       "        vertical-align: top;\n",
       "    }\n",
       "\n",
       "    .dataframe thead th {\n",
       "        text-align: right;\n",
       "    }\n",
       "</style>\n",
       "<table border=\"1\" class=\"dataframe\">\n",
       "  <thead>\n",
       "    <tr style=\"text-align: right;\">\n",
       "      <th></th>\n",
       "      <th>accuracy</th>\n",
       "      <th>correct_preds</th>\n",
       "      <th>incorrect_preds</th>\n",
       "      <th>no_of_preds</th>\n",
       "      <th>pct_of_preds</th>\n",
       "      <th>thresh_i</th>\n",
       "      <th>thresh_i+1</th>\n",
       "      <th>total_preds</th>\n",
       "    </tr>\n",
       "  </thead>\n",
       "  <tbody>\n",
       "    <tr>\n",
       "      <th>0</th>\n",
       "      <td>NaN</td>\n",
       "      <td>0.0</td>\n",
       "      <td>0.0</td>\n",
       "      <td>0</td>\n",
       "      <td>0</td>\n",
       "      <td>0.1</td>\n",
       "      <td>0.2</td>\n",
       "      <td>266145</td>\n",
       "    </tr>\n",
       "    <tr>\n",
       "      <th>0</th>\n",
       "      <td>27.1111</td>\n",
       "      <td>10521.0</td>\n",
       "      <td>28286.0</td>\n",
       "      <td>38807</td>\n",
       "      <td>23.507</td>\n",
       "      <td>0.2</td>\n",
       "      <td>0.3</td>\n",
       "      <td>266145</td>\n",
       "    </tr>\n",
       "    <tr>\n",
       "      <th>0</th>\n",
       "      <td>35.6089</td>\n",
       "      <td>23692.0</td>\n",
       "      <td>42842.0</td>\n",
       "      <td>66534</td>\n",
       "      <td>40.3024</td>\n",
       "      <td>0.3</td>\n",
       "      <td>0.4</td>\n",
       "      <td>266145</td>\n",
       "    </tr>\n",
       "    <tr>\n",
       "      <th>0</th>\n",
       "      <td>45.5293</td>\n",
       "      <td>13402.0</td>\n",
       "      <td>16034.0</td>\n",
       "      <td>29436</td>\n",
       "      <td>17.8306</td>\n",
       "      <td>0.4</td>\n",
       "      <td>0.5</td>\n",
       "      <td>266145</td>\n",
       "    </tr>\n",
       "    <tr>\n",
       "      <th>0</th>\n",
       "      <td>55.9176</td>\n",
       "      <td>6246.0</td>\n",
       "      <td>4924.0</td>\n",
       "      <td>11170</td>\n",
       "      <td>6.76613</td>\n",
       "      <td>0.5</td>\n",
       "      <td>0.6</td>\n",
       "      <td>266145</td>\n",
       "    </tr>\n",
       "    <tr>\n",
       "      <th>0</th>\n",
       "      <td>66.1416</td>\n",
       "      <td>4493.0</td>\n",
       "      <td>2300.0</td>\n",
       "      <td>6793</td>\n",
       "      <td>4.1148</td>\n",
       "      <td>0.6</td>\n",
       "      <td>0.7</td>\n",
       "      <td>266145</td>\n",
       "    </tr>\n",
       "    <tr>\n",
       "      <th>0</th>\n",
       "      <td>74.8077</td>\n",
       "      <td>3501.0</td>\n",
       "      <td>1179.0</td>\n",
       "      <td>4680</td>\n",
       "      <td>2.83487</td>\n",
       "      <td>0.7</td>\n",
       "      <td>0.8</td>\n",
       "      <td>266145</td>\n",
       "    </tr>\n",
       "    <tr>\n",
       "      <th>0</th>\n",
       "      <td>83.3512</td>\n",
       "      <td>3109.0</td>\n",
       "      <td>621.0</td>\n",
       "      <td>3730</td>\n",
       "      <td>2.25941</td>\n",
       "      <td>0.8</td>\n",
       "      <td>0.9</td>\n",
       "      <td>266145</td>\n",
       "    </tr>\n",
       "    <tr>\n",
       "      <th>0</th>\n",
       "      <td>93.9024</td>\n",
       "      <td>3696.0</td>\n",
       "      <td>240.0</td>\n",
       "      <td>3936</td>\n",
       "      <td>2.3842</td>\n",
       "      <td>0.9</td>\n",
       "      <td>1</td>\n",
       "      <td>266145</td>\n",
       "    </tr>\n",
       "  </tbody>\n",
       "</table>\n",
       "</div>"
      ],
      "text/plain": [
       "  accuracy  correct_preds  incorrect_preds no_of_preds pct_of_preds thresh_i  \\\n",
       "0      NaN            0.0              0.0           0            0      0.1   \n",
       "0  27.1111        10521.0          28286.0       38807       23.507      0.2   \n",
       "0  35.6089        23692.0          42842.0       66534      40.3024      0.3   \n",
       "0  45.5293        13402.0          16034.0       29436      17.8306      0.4   \n",
       "0  55.9176         6246.0           4924.0       11170      6.76613      0.5   \n",
       "0  66.1416         4493.0           2300.0        6793       4.1148      0.6   \n",
       "0  74.8077         3501.0           1179.0        4680      2.83487      0.7   \n",
       "0  83.3512         3109.0            621.0        3730      2.25941      0.8   \n",
       "0  93.9024         3696.0            240.0        3936       2.3842      0.9   \n",
       "\n",
       "  thresh_i+1 total_preds  \n",
       "0        0.2      266145  \n",
       "0        0.3      266145  \n",
       "0        0.4      266145  \n",
       "0        0.5      266145  \n",
       "0        0.6      266145  \n",
       "0        0.7      266145  \n",
       "0        0.8      266145  \n",
       "0        0.9      266145  \n",
       "0          1      266145  "
      ]
     },
     "execution_count": 34,
     "metadata": {},
     "output_type": "execute_result"
    }
   ],
   "source": [
    "result_df"
   ]
  },
  {
   "cell_type": "code",
   "execution_count": 43,
   "metadata": {},
   "outputs": [],
   "source": [
    "result_df['thresh_i'] = result_df['thresh_i'].astype(np.float32)"
   ]
  },
  {
   "cell_type": "code",
   "execution_count": null,
   "metadata": {},
   "outputs": [],
   "source": []
  },
  {
   "cell_type": "markdown",
   "metadata": {},
   "source": [
    "# Client Results - valid df"
   ]
  },
  {
   "cell_type": "code",
   "execution_count": 35,
   "metadata": {},
   "outputs": [],
   "source": [
    "client_result = pd.merge(cleaned,val_df[['actual','valid_preds_names','max_probability']],left_index=True,right_index=True)"
   ]
  },
  {
   "cell_type": "code",
   "execution_count": 38,
   "metadata": {},
   "outputs": [],
   "source": [
    "client_result['thresh_i'] = (np.floor(client_result['max_probability'] * 10)) /10"
   ]
  },
  {
   "cell_type": "code",
   "execution_count": 44,
   "metadata": {},
   "outputs": [],
   "source": [
    "client_result_final = pd.merge(client_result.reset_index(),pd.DataFrame(result_df[['accuracy','thresh_i','thresh_i+1']]),left_on=['thresh_i'],right_on=['thresh_i'])"
   ]
  },
  {
   "cell_type": "code",
   "execution_count": 45,
   "metadata": {},
   "outputs": [],
   "source": [
    "client_result_final = client_result_final.set_index(['index']).sort_index()"
   ]
  },
  {
   "cell_type": "code",
   "execution_count": 280,
   "metadata": {},
   "outputs": [],
   "source": [
    "client_result_final.to_csv('datasets/client_results/7a_combined_model_new_arch_seq_classifier_tabular_features_10bins.csv')"
   ]
  },
  {
   "cell_type": "code",
   "execution_count": null,
   "metadata": {},
   "outputs": [],
   "source": []
  },
  {
   "cell_type": "code",
   "execution_count": null,
   "metadata": {},
   "outputs": [],
   "source": []
  },
  {
   "cell_type": "markdown",
   "metadata": {},
   "source": [
    "# Result Validation - valid df"
   ]
  },
  {
   "cell_type": "code",
   "execution_count": 49,
   "metadata": {},
   "outputs": [],
   "source": [
    "verification_dict = {}\n",
    "for i in [10,20,30,40,50,60,70,80,90]:\n",
    "    verification_df = client_result_final[client_result_final.accuracy > i]\n",
    "    verification_dict[i]=accuracy_score(list(verification_df['actual']),list(verification_df['valid_preds_names']))"
   ]
  },
  {
   "cell_type": "code",
   "execution_count": 50,
   "metadata": {},
   "outputs": [
    {
     "data": {
      "text/plain": [
       "{10: 0.41590443768702373,\n",
       " 20: 0.41590443768702373,\n",
       " 30: 0.46040117517560325,\n",
       " 40: 0.5765670767428237,\n",
       " 50: 0.6943482134019598,\n",
       " 60: 0.773237891216887,\n",
       " 70: 0.8347642961283006,\n",
       " 80: 0.8876858857291938,\n",
       " 90: 0.9390243902439024}"
      ]
     },
     "execution_count": 50,
     "metadata": {},
     "output_type": "execute_result"
    }
   ],
   "source": [
    "verification_dict"
   ]
  },
  {
   "cell_type": "code",
   "execution_count": null,
   "metadata": {},
   "outputs": [],
   "source": []
  },
  {
   "cell_type": "markdown",
   "metadata": {},
   "source": [
    "# Confusion Matrix"
   ]
  },
  {
   "cell_type": "code",
   "execution_count": 51,
   "metadata": {},
   "outputs": [],
   "source": [
    "import matplotlib.pyplot as plt\n",
    "import seaborn as sns\n",
    "from sklearn.metrics import confusion_matrix"
   ]
  },
  {
   "cell_type": "code",
   "execution_count": 52,
   "metadata": {},
   "outputs": [],
   "source": [
    "def cm_analysis(y_true, y_pred, labels, ymap=None, figsize=(10,10)):\n",
    "    \"\"\"\n",
    "    Generate matrix plot of confusion matrix with pretty annotations.\n",
    "    The plot image is saved to disk.\n",
    "    args: \n",
    "      y_true:    true label of the data, with shape (nsamples,)\n",
    "      y_pred:    prediction of the data, with shape (nsamples,)\n",
    "      filename:  filename of figure file to save\n",
    "      labels:    string array, name the order of class labels in the confusion matrix.\n",
    "                 use `clf.classes_` if using scikit-learn models.\n",
    "                 with shape (nclass,).\n",
    "      ymap:      dict: any -> string, length == nclass.\n",
    "                 if not None, map the labels & ys to more understandable strings.\n",
    "                 Caution: original y_true, y_pred and labels must align.\n",
    "      figsize:   the size of the figure plotted.\n",
    "    \"\"\"\n",
    "    if ymap is not None:\n",
    "        y_pred = [ymap[yi] for yi in y_pred]\n",
    "        y_true = [ymap[yi] for yi in y_true]\n",
    "        labels = [ymap[yi] for yi in labels]\n",
    "    cm = confusion_matrix(y_true, y_pred, labels=labels)\n",
    "    cm_sum = np.sum(cm, axis=1, keepdims=True)\n",
    "    cm_perc = cm / cm_sum.astype(float) * 100\n",
    "    annot = np.empty_like(cm).astype(str)\n",
    "    nrows, ncols = cm.shape\n",
    "    for i in range(nrows):\n",
    "        for j in range(ncols):\n",
    "            c = cm[i, j]\n",
    "            p = cm_perc[i, j]\n",
    "            if i == j:\n",
    "                s = cm_sum[i]\n",
    "                annot[i, j] = '%.1f%%\\n%d/%d' % (p, c, s)\n",
    "            elif c == 0:\n",
    "                annot[i, j] = ''\n",
    "            else:\n",
    "                annot[i, j] = '%.1f%%\\n%d' % (p, c)\n",
    "    cm = pd.DataFrame(cm_perc, index=labels, columns=labels)\n",
    "    cm.index.name = 'Actual'\n",
    "    cm.columns.name = 'Predicted'\n",
    "    fig, ax = plt.subplots(figsize=figsize)\n",
    "    sns.heatmap(cm, annot=annot, fmt='', ax=ax, cmap =sns.cm.rocket_r)\n",
    "    plt.savefig('7a_10_bins_confusion_matrix.png')\n",
    "    plt.show()"
   ]
  },
  {
   "cell_type": "code",
   "execution_count": 54,
   "metadata": {},
   "outputs": [],
   "source": [
    "mapping_dict_cm = {0:'a',1:'b',2:'c',3:'d',4:'e'}"
   ]
  },
  {
   "cell_type": "code",
   "execution_count": 55,
   "metadata": {},
   "outputs": [
    {
     "data": {
      "image/png": "[encoded data removed]",
      "text/plain": [
       "<Figure size 1440x1440 with 2 Axes>"
      ]
     },
     "metadata": {
      "needs_background": "light"
     },
     "output_type": "display_data"
    }
   ],
   "source": [
    "cm_analysis(client_result_final['actual'],client_result_final['valid_preds_names'], list(mapping_dict_cm.values()), ymap=None, figsize=(20,20))"
   ]
  }
 ],
 "metadata": {
  "kernelspec": {
   "display_name": "Python 3",
   "language": "python",
   "name": "python3"
  },
  "language_info": {
   "codemirror_mode": {
    "name": "ipython",
    "version": 3
   },
   "file_extension": ".py",
   "mimetype": "text/x-python",
   "name": "python",
   "nbconvert_exporter": "python",
   "pygments_lexer": "ipython3",
   "version": "3.5.6"
  }
 },
 "nbformat": 4,
 "nbformat_minor": 2
}

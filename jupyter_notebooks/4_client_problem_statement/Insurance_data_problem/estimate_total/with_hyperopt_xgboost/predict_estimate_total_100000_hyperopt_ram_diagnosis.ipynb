{
 "cells": [
  {
   "cell_type": "code",
   "execution_count": 1,
   "metadata": {
    "ExecuteTime": {
     "end_time": "2018-09-01T11:12:23.630211Z",
     "start_time": "2018-09-01T11:12:23.626417Z"
    }
   },
   "outputs": [],
   "source": [
    "import xgboost as xgb\n",
    "from xgboost.sklearn import XGBClassifier\n",
    "\n",
    "from sklearn import metrics\n",
    "from sklearn.metrics import roc_auc_score\n",
    "\n",
    "# import matplotlib.pyplot as plt\n",
    "\n",
    "from sklearn.externals import joblib"
   ]
  },
  {
   "cell_type": "code",
   "execution_count": 2,
   "metadata": {},
   "outputs": [],
   "source": [
    "import pickle"
   ]
  },
  {
   "cell_type": "code",
   "execution_count": 3,
   "metadata": {},
   "outputs": [],
   "source": [
    "import matplotlib.pyplot as plt"
   ]
  },
  {
   "cell_type": "code",
   "execution_count": 4,
   "metadata": {
    "ExecuteTime": {
     "end_time": "2018-10-28T19:35:07.402119Z",
     "start_time": "2018-10-28T19:35:06.274115Z"
    }
   },
   "outputs": [],
   "source": [
    "from hyperopt import fmin, tpe, hp, STATUS_OK, Trials"
   ]
  },
  {
   "cell_type": "code",
   "execution_count": 5,
   "metadata": {},
   "outputs": [],
   "source": [
    "from sklearn.metrics import accuracy_score"
   ]
  },
  {
   "cell_type": "code",
   "execution_count": 6,
   "metadata": {},
   "outputs": [],
   "source": [
    "import pandas as pd\n",
    "import numpy as np"
   ]
  },
  {
   "cell_type": "code",
   "execution_count": 7,
   "metadata": {},
   "outputs": [],
   "source": [
    "import time"
   ]
  },
  {
   "cell_type": "code",
   "execution_count": 8,
   "metadata": {},
   "outputs": [],
   "source": [
    "from sys import getsizeof"
   ]
  },
  {
   "cell_type": "code",
   "execution_count": 9,
   "metadata": {},
   "outputs": [],
   "source": [
    "import psutil"
   ]
  },
  {
   "cell_type": "markdown",
   "metadata": {},
   "source": [
    "### Model trainig with hyper-parameter tuning"
   ]
  },
  {
   "cell_type": "code",
   "execution_count": 22,
   "metadata": {},
   "outputs": [],
   "source": [
    "## Model developed to be used in for loop without print statement\n",
    "\n",
    "def model_fit_hyperopt(params):\n",
    "    try:\n",
    "        del alg \n",
    "    except:\n",
    "        pass\n",
    "#     attempt_count += 1\n",
    "    \n",
    "#     global num\n",
    "#     f1 = open(\"status.txt\", \"w\")\n",
    "#     f1.write(\"num:{}\".format(num))\n",
    "#     f1.close() \n",
    "#     num = num +1\n",
    "\n",
    "    ### Asssigning default parameters\n",
    "#     useTrainCV = False\n",
    "    cv_folds = 5\n",
    "    early_stopping_rounds = 50\n",
    "    print(6,psutil.virtual_memory().available / (1024.0 ** 2))\n",
    "    ### Forming copy of input datasets\n",
    "    train_c, valid_c, test_c = train_sample.copy(), valid_sample.copy(), test.copy()\n",
    "#     out_path = params['out_path']\n",
    "    predictors, target = list(params['predictors']), params['target']\n",
    "    print(7,psutil.virtual_memory().available / (1024.0 ** 2))\n",
    "    \n",
    "    alg = XGBClassifier(\n",
    "                learning_rate =params['learning_rate'],\n",
    "                n_estimators=10,\n",
    "                max_depth=params['max_depth'],\n",
    "                min_child_weight=params['min_child_weight'],\n",
    "                gamma=params['gamma'],\n",
    "                subsample=params['subsample'],\n",
    "                colsample_bytree=params['colsample_bytree'],\n",
    "                objective= 'binary:logistic',\n",
    "                scale_pos_weight=params['scale_pos_weight'],\n",
    "                seed=27, n_jobs=6)\n",
    "    print(8,psutil.virtual_memory().available / (1024.0 ** 2))\n",
    "#     if useTrainCV:\n",
    "#         xgb_param = alg.get_xgb_params()\n",
    "#         xgtrain = xgb.DMatrix(train_c[predictors].values, label=train_c[target].values)\n",
    "#         xgtest = xgb.DMatrix(valid_c[predictors].values)\n",
    "#         cvresult = xgb.cv(xgb_param, xgtrain, num_boost_round=alg.get_params()['n_estimators'], nfold=cv_folds,\n",
    "#             metrics = 'auc', early_stopping_rounds=early_stopping_rounds, verbose_eval=False, seed=27)\n",
    "#         ne_new = n_estimators=cvresult.shape[0]\n",
    "#         alg.set_params(n_estimators=cvresult.shape[0])\n",
    "        \n",
    "    #Fit the algorithm on the data\n",
    "    eval_set = [(valid_c[predictors],valid_c[target])]\n",
    "    print (8.2,psutil.virtual_memory().available / (1024.0 ** 2))\n",
    "    alg.fit(train_c[predictors], train_c[target],eval_metric='auc', early_stopping_rounds=early_stopping_rounds, eval_set = eval_set, verbose = True)     \n",
    "    print(9,psutil.virtual_memory().available / (1024.0 ** 2))\n",
    "    valid_c.loc[:,'prob'] = alg.predict_proba(valid_c[predictors])[:,1]\n",
    "    print(10,psutil.virtual_memory().available / (1024.0 ** 2))\n",
    "    test_c.loc[:,'prob'] = alg.predict_proba(test_c[predictors])[:,1]\n",
    "    print(11,psutil.virtual_memory().available / (1024.0 ** 2))\n",
    "    valid_auc = roc_auc_score(np.array(valid_c.loc[:,target]), np.array(valid_c.loc[:,'prob']))\n",
    "    test_auc = roc_auc_score(np.array(test_c.loc[:,target]), np.array(test_c.loc[:,'prob']))\n",
    "    print(12,psutil.virtual_memory().available / (1024.0 ** 2))\n",
    "    loss = 1 - valid_auc\n",
    "    del train_c\n",
    "    del valid_c\n",
    "    del test_c\n",
    "    print(13,psutil.virtual_memory().available / (1024.0 ** 2))\n",
    "#     if out_path != None:\n",
    "#         f = open(os.path.join(out_path, \"hyperopt_logs.txt\"), \"a+\")\n",
    "#         f.write(\"Valid AUC: {} and Test AUC: {}, loss: {}\".format(valid_auc,test_auc,loss))\n",
    "#         f.close()\n",
    "\n",
    "    \n",
    "    print (\"Valid AUC: {} and Test AUC: {}, Loss: {}\".format(valid_auc, test_auc, loss))\n",
    "    \n",
    "    print('-'*25,'LOCALS','-'*25)\n",
    "    for i in dir():\n",
    "        if not i.startswith('_'):\n",
    "            if not i in ['In','Out','exit','get_ipython','quit']:\n",
    "                print(i,getsizeof(i))\n",
    "    print('-'*50)\n",
    "    print('-'*25,'GLOBALS','-'*25)\n",
    "    for i in globals().keys():\n",
    "        if not i.startswith('_'):\n",
    "            if not i in ['In','Out','exit','get_ipython','quit']:\n",
    "                print(i,getsizeof(i))\n",
    "    \n",
    "    print('-'*50)\n",
    "    return {'loss': loss, 'status': STATUS_OK, 'params': params}"
   ]
  },
  {
   "cell_type": "code",
   "execution_count": 11,
   "metadata": {},
   "outputs": [],
   "source": [
    "def get_best_model_xgb(space, train, valid, test):\n",
    "    \n",
    "#     f = open(os.path.join(out_path, \"hyperopt_logs.txt\"), \"w+\")\n",
    "#     f.close()\n",
    "\n",
    "    print(4,psutil.virtual_memory().available / (1024.0 ** 2))\n",
    "    \n",
    "    trials=Trials()\n",
    "    global num\n",
    "    num = 1\n",
    "    print(5,psutil.virtual_memory().available / (1024.0 ** 2))\n",
    "    best = fmin(model_fit_hyperopt, space, algo=tpe.suggest, max_evals=3, trials=trials)\n",
    "    print('trials',getsizeof(trials))\n",
    "    \n",
    "    return trials.best_trial['result']['model'], trials.best_trial['result']"
   ]
  },
  {
   "cell_type": "code",
   "execution_count": 12,
   "metadata": {},
   "outputs": [],
   "source": [
    "# def train_validate_test_split(df, train_percent=.60, validate_percent=.20, seed=42):\n",
    "#     np.random.seed(seed)\n",
    "#     perm = np.random.permutation(df.index)\n",
    "#     m = len(df.index)\n",
    "#     train_end = int(train_percent * m)\n",
    "#     validate_end = int(validate_percent * m) + train_end\n",
    "#     train = df.iloc[perm[:train_end]]\n",
    "#     validate = df.iloc[perm[train_end:validate_end]]\n",
    "#     test = df.iloc[perm[validate_end:]]\n",
    "#     return train, validate, test"
   ]
  },
  {
   "cell_type": "code",
   "execution_count": 13,
   "metadata": {},
   "outputs": [],
   "source": [
    "def data(df,target):\n",
    "    processed_df = pd.get_dummies(df,sparse=True)\n",
    "    df_features = list(set(processed_df.columns) - set([target]))\n",
    "#     train, valid, test = train_validate_test_split(processed_df)\n",
    "    train = processed_df.ix[train_o.index]\n",
    "    valid = processed_df.ix[valid_o.index]\n",
    "    test = processed_df.ix[test_o.index]\n",
    "    return train, valid, test, df_features, target"
   ]
  },
  {
   "cell_type": "code",
   "execution_count": 14,
   "metadata": {},
   "outputs": [],
   "source": [
    "train_o = pd.read_csv('../../data/train_insurance.csv',index_col = 0)\n",
    "valid_o = pd.read_csv('../../data/valid_insurance.csv',index_col = 0)\n",
    "test_o = pd.read_csv('../../data/test_insurance.csv',index_col = 0)"
   ]
  },
  {
   "cell_type": "code",
   "execution_count": 15,
   "metadata": {},
   "outputs": [],
   "source": [
    "all_data = pd.concat([train_o,valid_o,test_o])"
   ]
  },
  {
   "cell_type": "code",
   "execution_count": 16,
   "metadata": {},
   "outputs": [],
   "source": [
    "all_data.drop(['StartedFlag','EstimateTotal'],axis=1,inplace=True)"
   ]
  },
  {
   "cell_type": "code",
   "execution_count": 17,
   "metadata": {},
   "outputs": [
    {
     "name": "stderr",
     "output_type": "stream",
     "text": [
      "/home/ambuj/izenda_fullcycle/izenda_insurance_data/insurance_env/lib/python3.5/site-packages/ipykernel_launcher.py:5: DeprecationWarning: \n",
      ".ix is deprecated. Please use\n",
      ".loc for label based indexing or\n",
      ".iloc for positional indexing\n",
      "\n",
      "See the documentation here:\n",
      "http://pandas.pydata.org/pandas-docs/stable/indexing.html#ix-indexer-is-deprecated\n",
      "  \"\"\"\n",
      "/home/ambuj/izenda_fullcycle/izenda_insurance_data/insurance_env/lib/python3.5/site-packages/ipykernel_launcher.py:6: DeprecationWarning: \n",
      ".ix is deprecated. Please use\n",
      ".loc for label based indexing or\n",
      ".iloc for positional indexing\n",
      "\n",
      "See the documentation here:\n",
      "http://pandas.pydata.org/pandas-docs/stable/indexing.html#ix-indexer-is-deprecated\n",
      "  \n",
      "/home/ambuj/izenda_fullcycle/izenda_insurance_data/insurance_env/lib/python3.5/site-packages/ipykernel_launcher.py:7: DeprecationWarning: \n",
      ".ix is deprecated. Please use\n",
      ".loc for label based indexing or\n",
      ".iloc for positional indexing\n",
      "\n",
      "See the documentation here:\n",
      "http://pandas.pydata.org/pandas-docs/stable/indexing.html#ix-indexer-is-deprecated\n",
      "  import sys\n"
     ]
    }
   ],
   "source": [
    "train, valid, test, df_features, df_target = data(all_data,target='NewEstimateTotal')\n",
    "del all_data\n",
    "train_sample = train.head(100000)\n",
    "valid_sample = valid.head(20000)\n",
    "del train\n",
    "del valid\n",
    "del train_o\n",
    "del valid_o\n",
    "del test_o\n",
    "# del test"
   ]
  },
  {
   "cell_type": "code",
   "execution_count": 23,
   "metadata": {
    "scrolled": true
   },
   "outputs": [
    {
     "name": "stdout",
     "output_type": "stream",
     "text": [
      "1 26079.2578125\n",
      "2 26079.2578125\n",
      "4 26079.2578125\n",
      "5 26079.2578125\n",
      "6 26076.57421875\n",
      "7 26075.50390625\n",
      "8 26075.50390625\n",
      "8.2 26073.6875\n",
      "[0]\tvalidation_0-auc:0.84129\n",
      "Will train until validation_0-auc hasn't improved in 50 rounds.\n",
      "[1]\tvalidation_0-auc:0.841957\n",
      "[2]\tvalidation_0-auc:0.842024\n",
      "[3]\tvalidation_0-auc:0.842627\n",
      "[4]\tvalidation_0-auc:0.844597\n",
      "[5]\tvalidation_0-auc:0.844783\n",
      "[6]\tvalidation_0-auc:0.844732\n",
      "[7]\tvalidation_0-auc:0.844788\n",
      "[8]\tvalidation_0-auc:0.8448\n",
      "[9]\tvalidation_0-auc:0.845099\n",
      "9 21384.2421875\n",
      "10 21383.8515625\n",
      "11 21373.82421875\n",
      "12 21384.375\n",
      "13 21385.80078125\n",
      "Valid AUC: 0.8450990271542971 and Test AUC: 0.8426641208372383, Loss: 0.15490097284570292\n",
      "------------------------- LOCALS -------------------------\n",
      "alg 52\n",
      "cv_folds 57\n",
      "early_stopping_rounds 70\n",
      "eval_set 57\n",
      "loss 53\n",
      "params 55\n",
      "predictors 59\n",
      "target 55\n",
      "test_auc 57\n",
      "valid_auc 58\n",
      "--------------------------------------------------\n",
      "------------------------- GLOBALS -------------------------\n",
      "pickle 55\n",
      "joblib 55\n",
      "f 58\n",
      "pd 51\n",
      "df_target 58\n",
      "tpe 52\n",
      "Trials 55\n",
      "plt 52\n",
      "df_features 60\n",
      "hp 51\n",
      "XGBClassifier 62\n",
      "space 54\n",
      "psutil 55\n",
      "num 52\n",
      "get_best_model_xgb 67\n",
      "time 53\n",
      "best_trails1 61\n",
      "model_fit_hyperopt 67\n",
      "data 73\n",
      "fmin 53\n",
      "accuracy_score 63\n",
      "test 53\n",
      "metrics 56\n",
      "getsizeof 58\n",
      "train_sample 61\n",
      "roc_auc_score 62\n",
      "STATUS_OK 58\n",
      "best_model 59\n",
      "np 51\n",
      "valid_sample 61\n",
      "xgb 52\n",
      "start_time 59\n",
      "--------------------------------------------------\n",
      "6 26076.52734375\n",
      "7 26076.64453125\n",
      "8 26076.64453125\n",
      "8.2 26075.0703125\n",
      "[0]\tvalidation_0-auc:0.842111\n",
      "Will train until validation_0-auc hasn't improved in 50 rounds.\n",
      "[1]\tvalidation_0-auc:0.847049\n",
      "[2]\tvalidation_0-auc:0.849131\n",
      "[3]\tvalidation_0-auc:0.849897\n",
      "[4]\tvalidation_0-auc:0.849757\n",
      "[5]\tvalidation_0-auc:0.849803\n",
      "[6]\tvalidation_0-auc:0.85047\n",
      "[7]\tvalidation_0-auc:0.850683\n",
      "[8]\tvalidation_0-auc:0.852369\n",
      "[9]\tvalidation_0-auc:0.852492\n",
      "9 21384.8671875\n",
      "10 21384.609375\n",
      "11 21384.24609375\n",
      "12 21384.24609375\n",
      "13 21384.24609375\n",
      "Valid AUC: 0.852492105725889 and Test AUC: 0.850186075754118, Loss: 0.14750789427411104\n",
      "------------------------- LOCALS -------------------------\n",
      "alg 52\n",
      "cv_folds 57\n",
      "early_stopping_rounds 70\n",
      "eval_set 57\n",
      "loss 53\n",
      "params 55\n",
      "predictors 59\n",
      "target 55\n",
      "test_auc 57\n",
      "valid_auc 58\n",
      "--------------------------------------------------\n",
      "------------------------- GLOBALS -------------------------\n",
      "pickle 55\n",
      "joblib 55\n",
      "f 58\n",
      "pd 51\n",
      "df_target 58\n",
      "tpe 52\n",
      "Trials 55\n",
      "plt 52\n",
      "df_features 60\n",
      "hp 51\n",
      "XGBClassifier 62\n",
      "space 54\n",
      "psutil 55\n",
      "num 52\n",
      "get_best_model_xgb 67\n",
      "time 53\n",
      "best_trails1 61\n",
      "model_fit_hyperopt 67\n",
      "data 73\n",
      "fmin 53\n",
      "accuracy_score 63\n",
      "test 53\n",
      "metrics 56\n",
      "getsizeof 58\n",
      "train_sample 61\n",
      "roc_auc_score 62\n",
      "STATUS_OK 58\n",
      "best_model 59\n",
      "np 51\n",
      "valid_sample 61\n",
      "xgb 52\n",
      "start_time 59\n",
      "--------------------------------------------------\n",
      "6 26074.49609375\n",
      "7 26074.53125\n",
      "8 26074.53125\n",
      "8.2 26074.53125\n",
      "[0]\tvalidation_0-auc:0.83391\n",
      "Will train until validation_0-auc hasn't improved in 50 rounds.\n",
      "[1]\tvalidation_0-auc:0.839671\n",
      "[2]\tvalidation_0-auc:0.848247\n",
      "[3]\tvalidation_0-auc:0.850278\n",
      "[4]\tvalidation_0-auc:0.85294\n",
      "[5]\tvalidation_0-auc:0.854804\n",
      "[6]\tvalidation_0-auc:0.855968\n",
      "[7]\tvalidation_0-auc:0.856999\n",
      "[8]\tvalidation_0-auc:0.858235\n",
      "[9]\tvalidation_0-auc:0.859203\n",
      "9 21385.35546875\n",
      "10 21383.8125\n",
      "11 21384.14453125\n",
      "12 21384.14453125\n",
      "13 21384.4296875\n",
      "Valid AUC: 0.859203152207351 and Test AUC: 0.8586364319207355, Loss: 0.140796847792649\n",
      "------------------------- LOCALS -------------------------\n",
      "alg 52\n",
      "cv_folds 57\n",
      "early_stopping_rounds 70\n",
      "eval_set 57\n",
      "loss 53\n",
      "params 55\n",
      "predictors 59\n",
      "target 55\n",
      "test_auc 57\n",
      "valid_auc 58\n",
      "--------------------------------------------------\n",
      "------------------------- GLOBALS -------------------------\n",
      "pickle 55\n",
      "joblib 55\n",
      "f 58\n",
      "pd 51\n",
      "df_target 58\n",
      "tpe 52\n",
      "Trials 55\n",
      "plt 52\n",
      "df_features 60\n",
      "hp 51\n",
      "XGBClassifier 62\n",
      "space 54\n",
      "psutil 55\n",
      "num 52\n",
      "get_best_model_xgb 67\n",
      "time 53\n",
      "best_trails1 61\n",
      "model_fit_hyperopt 67\n",
      "data 73\n",
      "fmin 53\n",
      "accuracy_score 63\n",
      "test 53\n",
      "metrics 56\n",
      "getsizeof 58\n",
      "train_sample 61\n",
      "roc_auc_score 62\n",
      "STATUS_OK 58\n",
      "best_model 59\n",
      "np 51\n",
      "valid_sample 61\n",
      "xgb 52\n",
      "start_time 59\n",
      "--------------------------------------------------\n",
      "trials 56\n"
     ]
    },
    {
     "ename": "KeyError",
     "evalue": "'model'",
     "output_type": "error",
     "traceback": [
      "\u001b[0;31m---------------------------------------------------------------------------\u001b[0m",
      "\u001b[0;31mKeyError\u001b[0m                                  Traceback (most recent call last)",
      "\u001b[0;32m<ipython-input-23-c900dd41456e>\u001b[0m in \u001b[0;36m<module>\u001b[0;34m\u001b[0m\n\u001b[1;32m     12\u001b[0m         }\n\u001b[1;32m     13\u001b[0m \u001b[0mprint\u001b[0m\u001b[0;34m(\u001b[0m\u001b[0;36m2\u001b[0m\u001b[0;34m,\u001b[0m\u001b[0mpsutil\u001b[0m\u001b[0;34m.\u001b[0m\u001b[0mvirtual_memory\u001b[0m\u001b[0;34m(\u001b[0m\u001b[0;34m)\u001b[0m\u001b[0;34m.\u001b[0m\u001b[0mavailable\u001b[0m \u001b[0;34m/\u001b[0m \u001b[0;34m(\u001b[0m\u001b[0;36m1024.0\u001b[0m \u001b[0;34m**\u001b[0m \u001b[0;36m2\u001b[0m\u001b[0;34m)\u001b[0m\u001b[0;34m)\u001b[0m\u001b[0;34m\u001b[0m\u001b[0m\n\u001b[0;32m---> 14\u001b[0;31m \u001b[0mbest_model\u001b[0m\u001b[0;34m,\u001b[0m \u001b[0mbest_trails1\u001b[0m \u001b[0;34m=\u001b[0m \u001b[0mget_best_model_xgb\u001b[0m\u001b[0;34m(\u001b[0m\u001b[0mspace\u001b[0m\u001b[0;34m,\u001b[0m \u001b[0mtrain_sample\u001b[0m\u001b[0;34m,\u001b[0m \u001b[0mvalid_sample\u001b[0m\u001b[0;34m,\u001b[0m \u001b[0mtest\u001b[0m\u001b[0;34m)\u001b[0m\u001b[0;34m\u001b[0m\u001b[0m\n\u001b[0m\u001b[1;32m     15\u001b[0m \u001b[0mprint\u001b[0m\u001b[0;34m(\u001b[0m\u001b[0;36m3\u001b[0m\u001b[0;34m,\u001b[0m\u001b[0mpsutil\u001b[0m\u001b[0;34m.\u001b[0m\u001b[0mvirtual_memory\u001b[0m\u001b[0;34m(\u001b[0m\u001b[0;34m)\u001b[0m\u001b[0;34m.\u001b[0m\u001b[0mavailable\u001b[0m \u001b[0;34m/\u001b[0m \u001b[0;34m(\u001b[0m\u001b[0;36m1024.0\u001b[0m \u001b[0;34m**\u001b[0m \u001b[0;36m2\u001b[0m\u001b[0;34m)\u001b[0m\u001b[0;34m)\u001b[0m\u001b[0;34m\u001b[0m\u001b[0m\n\u001b[1;32m     16\u001b[0m \u001b[0;34m\u001b[0m\u001b[0m\n",
      "\u001b[0;32m<ipython-input-11-280cf2532f8a>\u001b[0m in \u001b[0;36mget_best_model_xgb\u001b[0;34m(space, train, valid, test)\u001b[0m\n\u001b[1;32m     13\u001b[0m     \u001b[0mprint\u001b[0m\u001b[0;34m(\u001b[0m\u001b[0;34m'trials'\u001b[0m\u001b[0;34m,\u001b[0m\u001b[0mgetsizeof\u001b[0m\u001b[0;34m(\u001b[0m\u001b[0mtrials\u001b[0m\u001b[0;34m)\u001b[0m\u001b[0;34m)\u001b[0m\u001b[0;34m\u001b[0m\u001b[0m\n\u001b[1;32m     14\u001b[0m \u001b[0;34m\u001b[0m\u001b[0m\n\u001b[0;32m---> 15\u001b[0;31m     \u001b[0;32mreturn\u001b[0m \u001b[0mtrials\u001b[0m\u001b[0;34m.\u001b[0m\u001b[0mbest_trial\u001b[0m\u001b[0;34m[\u001b[0m\u001b[0;34m'result'\u001b[0m\u001b[0;34m]\u001b[0m\u001b[0;34m[\u001b[0m\u001b[0;34m'model'\u001b[0m\u001b[0;34m]\u001b[0m\u001b[0;34m,\u001b[0m \u001b[0mtrials\u001b[0m\u001b[0;34m.\u001b[0m\u001b[0mbest_trial\u001b[0m\u001b[0;34m[\u001b[0m\u001b[0;34m'result'\u001b[0m\u001b[0;34m]\u001b[0m\u001b[0;34m\u001b[0m\u001b[0m\n\u001b[0m",
      "\u001b[0;31mKeyError\u001b[0m: 'model'"
     ]
    }
   ],
   "source": [
    "start_time = time.time()\n",
    "print(1,psutil.virtual_memory().available / (1024.0 ** 2))\n",
    "space = {'learning_rate': hp.choice('learning_rate',[0.01, 0.02, 0.04, 0.06, 0.08, 0.1, 0.2, 0.3, 0.4, 0.6, 0.8, 1]),\n",
    "                     'min_child_weight': hp.choice('min_child_weight', [0,1,2,3,4,5,6,7]),\n",
    "                     'max_depth': hp.choice('max_depth', [3,4,5,6,7,8,9,10]),\n",
    "                     'gamma': hp.choice('gamma', [0,1,5,10]),\n",
    "                     'subsample': hp.choice('subsample',np.arange(0.4,1.05,0.1)),\n",
    "                     'colsample_bytree': hp.choice('colsample_bytree',np.arange(0.5,1.05,0.1)),\n",
    "                     'scale_pos_weight': (len(train_sample) -train_sample[df_target].sum())/train_sample[df_target].sum(),\n",
    "                     'predictors': df_features,\n",
    "                     'target': df_target\n",
    "        }\n",
    "print(2,psutil.virtual_memory().available / (1024.0 ** 2))\n",
    "best_model, best_trails1 = get_best_model_xgb(space, train_sample, valid_sample, test)\n",
    "print(3,psutil.virtual_memory().available / (1024.0 ** 2))\n",
    "\n",
    "# To save model\n",
    "with open('insurance_classify_100000_estimate_total_hyperopt.pkl', 'wb') as f:\n",
    "    pickle.dump(best_model, f)\n",
    "\n",
    "\n",
    "f = open(\"estimate_total_100000_hyperopt.txt\", \"w\")\n",
    "f.write(\"Took {} seconds with best trails as: {}\".format(time.time()-start_time,best_trails1))\n",
    "f.close() "
   ]
  },
  {
   "cell_type": "code",
   "execution_count": 27,
   "metadata": {},
   "outputs": [],
   "source": [
    "# To save model\n",
    "with open('insurance_classify_100000_estimate_total.pkl', 'wb') as f:\n",
    "    pickle.dump(model, f)"
   ]
  },
  {
   "cell_type": "code",
   "execution_count": null,
   "metadata": {},
   "outputs": [],
   "source": []
  },
  {
   "cell_type": "code",
   "execution_count": 29,
   "metadata": {},
   "outputs": [],
   "source": [
    "# To load the pickle model\\n\",\n",
    "with open('insurance_classify_100000_estimate_total.pkl', 'rb') as f:\n",
    "    model = pickle.load(f)"
   ]
  },
  {
   "cell_type": "code",
   "execution_count": 15,
   "metadata": {},
   "outputs": [
    {
     "data": {
      "text/plain": [
       "0.812993473151541"
      ]
     },
     "execution_count": 15,
     "metadata": {},
     "output_type": "execute_result"
    }
   ],
   "source": [
    "valid.loc[:,'prob_up'] = model.predict_proba(valid[df_features])[:,1]\n",
    "\n",
    "valid['prediction'] = np.where(valid.prob_up > 0.5,1,0)\n",
    "\n",
    "accuracy_score(valid.NewEstimateTotal, valid.prediction)"
   ]
  },
  {
   "cell_type": "code",
   "execution_count": 16,
   "metadata": {},
   "outputs": [
    {
     "data": {
      "text/plain": [
       "0.8135971687229924"
      ]
     },
     "execution_count": 16,
     "metadata": {},
     "output_type": "execute_result"
    }
   ],
   "source": [
    "test.loc[:,'prob_up'] = model.predict_proba(test[df_features])[:,1]\n",
    "\n",
    "test['prediction'] = np.where(test.prob_up > 0.5,1,0)\n",
    "\n",
    "accuracy_score(test.NewEstimateTotal, test.prediction)"
   ]
  },
  {
   "cell_type": "code",
   "execution_count": null,
   "metadata": {},
   "outputs": [],
   "source": []
  },
  {
   "cell_type": "code",
   "execution_count": 28,
   "metadata": {},
   "outputs": [
    {
     "data": {
      "text/plain": [
       "array([[ 81360,  18859],\n",
       "       [ 28807, 126689]])"
      ]
     },
     "execution_count": 28,
     "metadata": {},
     "output_type": "execute_result"
    }
   ],
   "source": [
    "# Confusion Matrix on Test Data\n",
    "metrics.confusion_matrix(test.NewEstimateTotal, test.prediction)"
   ]
  },
  {
   "cell_type": "code",
   "execution_count": null,
   "metadata": {},
   "outputs": [],
   "source": []
  },
  {
   "cell_type": "code",
   "execution_count": 21,
   "metadata": {},
   "outputs": [
    {
     "data": {
      "text/plain": [
       "<matplotlib.axes._subplots.AxesSubplot at 0x7f55c0d74828>"
      ]
     },
     "execution_count": 21,
     "metadata": {},
     "output_type": "execute_result"
    },
    {
     "data": {
      "image/png": "[encoded data removed]",
      "text/plain": [
       "<Figure size 432x288 with 1 Axes>"
      ]
     },
     "metadata": {
      "needs_background": "light"
     },
     "output_type": "display_data"
    }
   ],
   "source": [
    "train.head(100000).NewEstimateTotal.hist()"
   ]
  },
  {
   "cell_type": "code",
   "execution_count": 22,
   "metadata": {},
   "outputs": [
    {
     "data": {
      "text/plain": [
       "<matplotlib.axes._subplots.AxesSubplot at 0x7f55c0e474e0>"
      ]
     },
     "execution_count": 22,
     "metadata": {},
     "output_type": "execute_result"
    },
    {
     "data": {
      "image/png": "[encoded data removed]",
      "text/plain": [
       "<Figure size 432x288 with 1 Axes>"
      ]
     },
     "metadata": {
      "needs_background": "light"
     },
     "output_type": "display_data"
    }
   ],
   "source": [
    "valid.head(20000).NewEstimateTotal.hist()"
   ]
  },
  {
   "cell_type": "code",
   "execution_count": 23,
   "metadata": {},
   "outputs": [
    {
     "data": {
      "text/plain": [
       "<matplotlib.axes._subplots.AxesSubplot at 0x7f55c08cd400>"
      ]
     },
     "execution_count": 23,
     "metadata": {},
     "output_type": "execute_result"
    },
    {
     "data": {
      "image/png": "[encoded data removed]",
      "text/plain": [
       "<Figure size 432x288 with 1 Axes>"
      ]
     },
     "metadata": {
      "needs_background": "light"
     },
     "output_type": "display_data"
    }
   ],
   "source": [
    "test.NewEstimateTotal.hist()"
   ]
  }
 ],
 "metadata": {
  "kernelspec": {
   "display_name": "Python 3",
   "language": "python",
   "name": "python3"
  },
  "language_info": {
   "codemirror_mode": {
    "name": "ipython",
    "version": 3
   },
   "file_extension": ".py",
   "mimetype": "text/x-python",
   "name": "python",
   "nbconvert_exporter": "python",
   "pygments_lexer": "ipython3",
   "version": "3.5.6"
  }
 },
 "nbformat": 4,
 "nbformat_minor": 2
}

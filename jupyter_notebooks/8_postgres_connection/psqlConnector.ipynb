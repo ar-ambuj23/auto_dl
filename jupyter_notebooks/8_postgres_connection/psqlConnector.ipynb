{
 "cells": [
  {
   "cell_type": "code",
   "execution_count": 1,
   "metadata": {},
   "outputs": [
    {
     "name": "stderr",
     "output_type": "stream",
     "text": [
      "/home/algoscale/Documents/Izenda/izenda_new_env/new_env/lib/python3.5/site-packages/psycopg2/__init__.py:144: UserWarning: The psycopg2 wheel package will be renamed from release 2.8; in order to keep installing from binary please use \"pip install psycopg2-binary\" instead. For details see: <http://initd.org/psycopg/docs/install.html#binary-install-from-pypi>.\n",
      "  \"\"\")\n"
     ]
    }
   ],
   "source": [
    "#!/usr/bin/python\n",
    "from configparser import ConfigParser\n",
    "import os\n",
    "import psycopg2\n",
    "import logging\n",
    "# from BaseError import NotFoundError, ValidationError, handle_error, default_error_handler,ServerError,ConnectionError"
   ]
  },
  {
   "cell_type": "code",
   "execution_count": 5,
   "metadata": {},
   "outputs": [],
   "source": [
    "# # command = \"SELECT * FROM config_table\"\n",
    "\n",
    "# def setPsqlParams():\n",
    "#     pgsqlParser = ConfigParser()\n",
    "#     configFile = (os.path.join(os.getcwd(),'config','pgsql_config.ini'))\n",
    "#     pgsqlParser.read(configFile)\n",
    "#     hostname = pgsqlParser.get('psql', 'host')\n",
    "#     username = pgsqlParser.get('psql', 'user')\n",
    "#     password = pgsqlParser.get('psql', 'passwd')\n",
    "#     database = pgsqlParser.get('psql', 'database')\n",
    "#     table = pgsqlParser.get('psql', 'table')\n",
    "#     return hostname,username,password,database,table\n",
    "\n",
    "\n",
    "# def getPsqlParams():\n",
    "#     # print(hostname)\n",
    "#     hostname,username,password,database,table = setPsqlParams()\n",
    "#     hostnameString = bytes(hostname, \"utf-8\").decode(\"unicode_escape\")\n",
    "#     return hostnameString,username,password,database\n",
    "\n",
    "# def getTableName():\n",
    "#     hostname,username,password,database,table = setPsqlParams()\n",
    "#     return table\n",
    "\n",
    "# def doQuery(command):\n",
    "#     hostname,username,password,database,table = setPsqlParams()\n",
    "#     myConnection = psycopg2.connect( host=hostname, user=username, password=password, dbname=database )\n",
    "#     cur = myConnection.cursor()\n",
    "#     cur.execute(command)\n",
    "#     try:\n",
    "#         result = cur.fetchall()\n",
    "#         myConnection.close()\n",
    "#         return result\n",
    "#     except psycopg2.ProgrammingError as e:\n",
    "#         myConnection.commit()\n",
    "#         myConnection.close()\n",
    "#         pass\n",
    "\n",
    "# def getRowCount(value):\n",
    "#     select_query = \"SELECT model_name FROM config_table WHERE model_name = '{}';\".format(value) \n",
    "#     result = doQuery(select_query)\n",
    "#     return len(result)\n",
    "\n",
    "# def insertQuery(values,model_type):\n",
    "#     if(model_type == 'predict'):\n",
    "#         insert_query = \"INSERT INTO config_table (model_name, model_type,list_of_features,target_column,RMSE,Percent_Error) VALUES ('{}','{}','{}','{}',{},{})\".format(*values)\n",
    "#     elif(model_type == 'classify'):\n",
    "#         insert_query = \"INSERT INTO config_table (model_name, model_type,list_of_features,target_column,accuracy) VALUES ('{}','{}','{}','{}',{})\".format(*values)\n",
    "#     doQuery(insert_query)\n",
    "\n",
    "# def deleteQuery(value) :\n",
    "#     delete_query = \"DELETE FROM config_table where model_name = '{}'\".format(value)\n",
    "#     doQuery(delete_query)"
   ]
  },
  {
   "cell_type": "code",
   "execution_count": 1,
   "metadata": {},
   "outputs": [
    {
     "name": "stderr",
     "output_type": "stream",
     "text": [
      "/home/algoscale/Documents/Izenda/izenda_new_env/new_env/lib/python3.5/site-packages/psycopg2/__init__.py:144: UserWarning: The psycopg2 wheel package will be renamed from release 2.8; in order to keep installing from binary please use \"pip install psycopg2-binary\" instead. For details see: <http://initd.org/psycopg/docs/install.html#binary-install-from-pypi>.\n",
      "  \"\"\")\n"
     ]
    }
   ],
   "source": [
    "#!/usr/bin/python\n",
    "from configparser import ConfigParser\n",
    "import os\n",
    "import psycopg2\n",
    "import logging\n",
    "# from scripts.BaseError import NotFoundError, ValidationError, handle_error, default_error_handler,ServerError,ConnectionError\n",
    "\n",
    "connection = None\n",
    "\n",
    "def connect_database(hostname, username, password, database):\n",
    "    global connection\n",
    "    if connection == None:\n",
    "        try:\n",
    "            connection = psycopg2.connect( host=hostname, user=username, password=password, dbname=database )\n",
    "        except:\n",
    "            connection = None   \n",
    "    return connection\n",
    "\n",
    "def init_database(hostname, username, password, database):\n",
    "    global connection\n",
    "    conn = connect_database(hostname, username, password, database)\n",
    "    if conn == None:\n",
    "        print (\"error connecting..\")\n",
    "    else:\n",
    "        cur = conn.cursor()\n",
    "        try:\n",
    "            table = getTableName()\n",
    "            cur.execute(\"CREATE TABLE IF NOT EXISTS {}(id serial PRIMARY KEY,model_name VARCHAR UNIQUE NOT NULL,model_type VARCHAR NOT NULL,list_of_features TEXT NOT NULL,target_column VARCHAR NOT NULL,rmse FLOAT,percent_error FLOAT,accuracy FLOAT,prec FLOAT,source VARCHAR NOT NULL);\".format(table))\n",
    "            print(\"execution complete\")\n",
    "        except:\n",
    "            print(\"error creating the table\")\n",
    "        conn.commit()\n",
    "        conn.close()\n",
    "        cur.close()\n",
    "    connection = None \n",
    "\n",
    "def setPsqlParams():\n",
    "    pgsqlParser = ConfigParser()\n",
    "    configFile = (os.path.join(os.getcwd(),'config','pgsql_config.ini'))\n",
    "    pgsqlParser.read(configFile)\n",
    "    hostname = pgsqlParser.get('psql', 'host')\n",
    "    username = pgsqlParser.get('psql', 'user')\n",
    "    password = pgsqlParser.get('psql', 'passwd')\n",
    "    database = pgsqlParser.get('psql', 'database')\n",
    "    table = pgsqlParser.get('psql', 'table')\n",
    "    return hostname,username,password,database,table\n",
    "\n",
    "\n",
    "def getPsqlParams():\n",
    "    pgsqlParser = ConfigParser()\n",
    "    configFile = (os.path.join(os.getcwd(),'config','pgsql_config.ini'))\n",
    "    pgsqlParser.read(configFile)\n",
    "    hostname = pgsqlParser.get('psql', 'host')\n",
    "    username = pgsqlParser.get('psql', 'user')\n",
    "    password = pgsqlParser.get('psql', 'passwd')\n",
    "    database = pgsqlParser.get('psql', 'database')\n",
    "    table = pgsqlParser.get('psql', 'table')\n",
    "    # hostname, username, password, database, table = setPsqlParams()\n",
    "    hostnameString = bytes(hostname, \"utf-8\").decode(\"unicode_escape\")\n",
    "    return hostnameString,username,password,database\n",
    "\n",
    "def getTableName():\n",
    "    hostname,username,password,database,table = setPsqlParams()\n",
    "    return table\n",
    "\n",
    "def doQuery(command) :\n",
    "    global connection\n",
    "    hostname,username,password,database,table = setPsqlParams()\n",
    "    myconnection = connect_database(hostname, username, password, database)\n",
    "    cur = myconnection.cursor()\n",
    "    cur.execute(command)\n",
    "    if(\"SELECT\" in command):\n",
    "        result = cur.fetchall()\n",
    "        myconnection.close()\n",
    "        cur.close()\n",
    "        connection = None\n",
    "        return result\n",
    "    elif((\"INSERT\" in command) or (\"DELETE\" in command)):\n",
    "        # cur.commit()\n",
    "        myconnection.commit()\n",
    "        myconnection.close()\n",
    "        cur.close()\n",
    "        connection = None\n",
    "\n",
    "def getRowCount(value):\n",
    "    table = getTableName()\n",
    "    select_query = \"SELECT model_name FROM {} WHERE model_name = '{}';\".format(table,value) \n",
    "    result = doQuery(select_query)\n",
    "    return len(result)\n",
    "\n",
    "def insertQuery(values):\n",
    "    model_type = values[1]\n",
    "    table = getTableName()\n",
    "    if(model_type == 'predict'):\n",
    "        insert_query = \"INSERT INTO {} (model_name, model_type,list_of_features,target_column,RMSE,Percent_Error) VALUES ('{}','{}','{}','{}',{},{})\".format(table,*values)\n",
    "    elif(model_type == 'classify'):\n",
    "        insert_query = \"INSERT INTO {} (model_name, model_type,list_of_features,target_column,accuracy) VALUES ('{}','{}','{}','{}',{})\".format(table,*values)\n",
    "    doQuery(insert_query)\n",
    "\n",
    "def deleteQuery(value) :\n",
    "    table = getTableName()\n",
    "    delete_query = \"DELETE FROM {} where model_name = '{}'\".format(table,value)\n",
    "    doQuery(delete_query)"
   ]
  },
  {
   "cell_type": "markdown",
   "metadata": {},
   "source": [
    "# Select Query"
   ]
  },
  {
   "cell_type": "code",
   "execution_count": 13,
   "metadata": {},
   "outputs": [],
   "source": [
    "res = doQuery('SELECT * from config_table')"
   ]
  },
  {
   "cell_type": "code",
   "execution_count": 14,
   "metadata": {},
   "outputs": [
    {
     "data": {
      "text/plain": [
       "[(7, 'c', None, None, None, None, None, None, None, None),\n",
       " (9, 'fhghf', None, None, None, None, None, None, None, None),\n",
       " (11, 'fhf', 'sgs', None, None, None, None, None, None, None),\n",
       " (13, 'ff', 'sgs', None, None, None, None, None, None, None),\n",
       " (16, 'fdjshsdbjbjhb', None, None, None, None, None, None, None, None),\n",
       " (18, 'ashsh', 'b', 'c', \"['d','d1']\", None, None, 0.9, None, None),\n",
       " (19, 'a', 'b', 'c', 'd', None, None, 8.0, None, None),\n",
       " (26, 'ard', 'b', 'c', 'd', None, None, 8.0, None, None),\n",
       " (30, 'n', 'b', 'c', 'd', 4.0, 8.0, None, None, None),\n",
       " (46, 'b167', 'classify', 'c', 'd', None, None, 8.0, None, None),\n",
       " (48, 'b16', 'classify', 'c', 'd', None, None, 8.0, None, None),\n",
       " (50, 'b165', 'classify', 'c', 'd', None, None, 8.0, None, None),\n",
       " (51, 'b1654', 'classify', 'c', 'd', None, None, 8.0, None, None),\n",
       " (54, 'n1', 'predict', 'c', 'd', 4.0, 8.0, None, None, None),\n",
       " (55, 'b8', 'classify', 'c', 'd', None, None, 8.0, None, None),\n",
       " (57, 'b89', 'classify', 'c', 'd', None, None, 8.0, None, None),\n",
       " (58, 'n15', 'predict', 'c', 'd', 4.0, 8.0, None, None, None)]"
      ]
     },
     "execution_count": 14,
     "metadata": {},
     "output_type": "execute_result"
    }
   ],
   "source": [
    "res"
   ]
  },
  {
   "cell_type": "code",
   "execution_count": 15,
   "metadata": {
    "scrolled": true
   },
   "outputs": [],
   "source": [
    "res = doQuery(\"SELECT * from config_table WHERE model_name = 'c'\")"
   ]
  },
  {
   "cell_type": "code",
   "execution_count": 16,
   "metadata": {},
   "outputs": [
    {
     "data": {
      "text/plain": [
       "[(7, 'c', None, None, None, None, None, None, None, None)]"
      ]
     },
     "execution_count": 16,
     "metadata": {},
     "output_type": "execute_result"
    }
   ],
   "source": [
    "res"
   ]
  },
  {
   "cell_type": "markdown",
   "metadata": {},
   "source": [
    "# Insert Query"
   ]
  },
  {
   "cell_type": "code",
   "execution_count": 2,
   "metadata": {},
   "outputs": [],
   "source": [
    "insertQuery(('b9898','classify','c','d',8))"
   ]
  },
  {
   "cell_type": "code",
   "execution_count": 3,
   "metadata": {},
   "outputs": [],
   "source": [
    "res = doQuery('SELECT * from config_table')"
   ]
  },
  {
   "cell_type": "code",
   "execution_count": 4,
   "metadata": {},
   "outputs": [
    {
     "data": {
      "text/plain": [
       "[(7, 'c', None, None, None, None, None, None, None, None),\n",
       " (9, 'fhghf', None, None, None, None, None, None, None, None),\n",
       " (11, 'fhf', 'sgs', None, None, None, None, None, None, None),\n",
       " (13, 'ff', 'sgs', None, None, None, None, None, None, None),\n",
       " (16, 'fdjshsdbjbjhb', None, None, None, None, None, None, None, None),\n",
       " (18, 'ashsh', 'b', 'c', \"['d','d1']\", None, None, 0.9, None, None),\n",
       " (19, 'a', 'b', 'c', 'd', None, None, 8.0, None, None),\n",
       " (26, 'ard', 'b', 'c', 'd', None, None, 8.0, None, None),\n",
       " (30, 'n', 'b', 'c', 'd', 4.0, 8.0, None, None, None),\n",
       " (46, 'b167', 'classify', 'c', 'd', None, None, 8.0, None, None),\n",
       " (48, 'b16', 'classify', 'c', 'd', None, None, 8.0, None, None),\n",
       " (50, 'b165', 'classify', 'c', 'd', None, None, 8.0, None, None),\n",
       " (51, 'b1654', 'classify', 'c', 'd', None, None, 8.0, None, None),\n",
       " (54, 'n1', 'predict', 'c', 'd', 4.0, 8.0, None, None, None),\n",
       " (55, 'b8', 'classify', 'c', 'd', None, None, 8.0, None, None),\n",
       " (57, 'b89', 'classify', 'c', 'd', None, None, 8.0, None, None),\n",
       " (58, 'n15', 'predict', 'c', 'd', 4.0, 8.0, None, None, None),\n",
       " (60, 'b9898', 'classify', 'c', 'd', None, None, 8.0, None, None)]"
      ]
     },
     "execution_count": 4,
     "metadata": {},
     "output_type": "execute_result"
    }
   ],
   "source": [
    "res"
   ]
  },
  {
   "cell_type": "code",
   "execution_count": 5,
   "metadata": {},
   "outputs": [],
   "source": [
    "insertQuery(('n15','predict','c','d',4,8))"
   ]
  },
  {
   "cell_type": "code",
   "execution_count": 6,
   "metadata": {},
   "outputs": [],
   "source": [
    "res = doQuery('SELECT * from config_table')"
   ]
  },
  {
   "cell_type": "code",
   "execution_count": 5,
   "metadata": {},
   "outputs": [
    {
     "data": {
      "text/plain": [
       "[(7, 'c', None, None, None, None, None, None, None, None),\n",
       " (9, 'fhghf', None, None, None, None, None, None, None, None),\n",
       " (11, 'fhf', 'sgs', None, None, None, None, None, None, None),\n",
       " (13, 'ff', 'sgs', None, None, None, None, None, None, None),\n",
       " (16, 'fdjshsdbjbjhb', None, None, None, None, None, None, None, None),\n",
       " (18, 'ashsh', 'b', 'c', \"['d','d1']\", None, None, 0.9, None, None),\n",
       " (19, 'a', 'b', 'c', 'd', None, None, 8.0, None, None),\n",
       " (26, 'ard', 'b', 'c', 'd', None, None, 8.0, None, None),\n",
       " (29, 'b', 'b', 'c', 'd', None, None, 8.0, None, None),\n",
       " (30, 'n', 'b', 'c', 'd', 4.0, 8.0, None, None, None),\n",
       " (46, 'b167', 'classify', 'c', 'd', None, None, 8.0, None, None),\n",
       " (48, 'b16', 'classify', 'c', 'd', None, None, 8.0, None, None),\n",
       " (50, 'b165', 'classify', 'c', 'd', None, None, 8.0, None, None),\n",
       " (51, 'b1654', 'classify', 'c', 'd', None, None, 8.0, None, None),\n",
       " (54, 'n1', 'predict', 'c', 'd', 4.0, 8.0, None, None, None)]"
      ]
     },
     "execution_count": 5,
     "metadata": {},
     "output_type": "execute_result"
    }
   ],
   "source": [
    "res"
   ]
  },
  {
   "cell_type": "markdown",
   "metadata": {},
   "source": [
    "# Delete Query"
   ]
  },
  {
   "cell_type": "code",
   "execution_count": 7,
   "metadata": {},
   "outputs": [],
   "source": [
    "deleteQuery('b')"
   ]
  },
  {
   "cell_type": "code",
   "execution_count": 8,
   "metadata": {},
   "outputs": [],
   "source": [
    "res = doQuery('SELECT * from config_table')"
   ]
  },
  {
   "cell_type": "code",
   "execution_count": 9,
   "metadata": {},
   "outputs": [
    {
     "data": {
      "text/plain": [
       "[(7, 'c', None, None, None, None, None, None, None, None),\n",
       " (9, 'fhghf', None, None, None, None, None, None, None, None),\n",
       " (11, 'fhf', 'sgs', None, None, None, None, None, None, None),\n",
       " (13, 'ff', 'sgs', None, None, None, None, None, None, None),\n",
       " (16, 'fdjshsdbjbjhb', None, None, None, None, None, None, None, None),\n",
       " (18, 'ashsh', 'b', 'c', \"['d','d1']\", None, None, 0.9, None, None),\n",
       " (19, 'a', 'b', 'c', 'd', None, None, 8.0, None, None),\n",
       " (26, 'ard', 'b', 'c', 'd', None, None, 8.0, None, None),\n",
       " (30, 'n', 'b', 'c', 'd', 4.0, 8.0, None, None, None),\n",
       " (46, 'b167', 'classify', 'c', 'd', None, None, 8.0, None, None),\n",
       " (48, 'b16', 'classify', 'c', 'd', None, None, 8.0, None, None),\n",
       " (50, 'b165', 'classify', 'c', 'd', None, None, 8.0, None, None),\n",
       " (51, 'b1654', 'classify', 'c', 'd', None, None, 8.0, None, None),\n",
       " (54, 'n1', 'predict', 'c', 'd', 4.0, 8.0, None, None, None),\n",
       " (55, 'b8', 'classify', 'c', 'd', None, None, 8.0, None, None),\n",
       " (57, 'b89', 'classify', 'c', 'd', None, None, 8.0, None, None),\n",
       " (58, 'n15', 'predict', 'c', 'd', 4.0, 8.0, None, None, None)]"
      ]
     },
     "execution_count": 9,
     "metadata": {},
     "output_type": "execute_result"
    }
   ],
   "source": [
    "res"
   ]
  },
  {
   "cell_type": "markdown",
   "metadata": {},
   "source": [
    "# Get RowCount"
   ]
  },
  {
   "cell_type": "code",
   "execution_count": 10,
   "metadata": {},
   "outputs": [
    {
     "data": {
      "text/plain": [
       "0"
      ]
     },
     "execution_count": 10,
     "metadata": {},
     "output_type": "execute_result"
    }
   ],
   "source": [
    "getRowCount('b')"
   ]
  },
  {
   "cell_type": "code",
   "execution_count": 11,
   "metadata": {},
   "outputs": [
    {
     "data": {
      "text/plain": [
       "1"
      ]
     },
     "execution_count": 11,
     "metadata": {},
     "output_type": "execute_result"
    }
   ],
   "source": [
    "getRowCount('c')"
   ]
  }
 ],
 "metadata": {
  "kernelspec": {
   "display_name": "Python 3",
   "language": "python",
   "name": "python3"
  },
  "language_info": {
   "codemirror_mode": {
    "name": "ipython",
    "version": 3
   },
   "file_extension": ".py",
   "mimetype": "text/x-python",
   "name": "python",
   "nbconvert_exporter": "python",
   "pygments_lexer": "ipython3",
   "version": "3.5.2"
  }
 },
 "nbformat": 4,
 "nbformat_minor": 2
}
